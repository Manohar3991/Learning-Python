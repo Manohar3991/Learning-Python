{
 "cells": [
  {
   "cell_type": "markdown",
   "metadata": {},
   "source": [
    "__1. Write a program to import CSV and read tables using Pandas Library__"
   ]
  },
  {
   "cell_type": "code",
   "execution_count": 5,
   "metadata": {},
   "outputs": [
    {
     "name": "stdout",
     "output_type": "stream",
     "text": [
      "      29  KARNATAKA  577  Mysore  00000                 Mysore.1  000000  \\\n",
      "0     29  KARNATAKA  577  Mysore      0                   Mysore       0   \n",
      "1     29  KARNATAKA  577  Mysore      0                   Mysore       0   \n",
      "2     29  KARNATAKA  577  Mysore   5569             Piriyapatna        0   \n",
      "3     29  KARNATAKA  577  Mysore   5569             Piriyapatna        0   \n",
      "4     29  KARNATAKA  577  Mysore   5569             Piriyapatna        0   \n",
      "...   ..        ...  ...     ...    ...                      ...     ...   \n",
      "1470  29  KARNATAKA  577  Mysore   5575  Tirumakudal - Narsipur   803199   \n",
      "1471  29  KARNATAKA  577  Mysore   5575  Tirumakudal - Narsipur   803199   \n",
      "1472  29  KARNATAKA  577  Mysore   5575  Tirumakudal - Narsipur   803199   \n",
      "1473  29  KARNATAKA  577  Mysore   5575  Tirumakudal - Narsipur   803199   \n",
      "1474  29  KARNATAKA  577  Mysore   5575  Tirumakudal - Narsipur   803199   \n",
      "\n",
      "      0000                        District - Mysore  Total  ...  30.7   5.9  \\\n",
      "0        0                        District - Mysore  Rural  ...  17.9   1.4   \n",
      "1        0                        District - Mysore  Urban  ...  48.5  12.1   \n",
      "2        0                  Sub-Dist - Piriyapatna   Total  ...  24.2   2.5   \n",
      "3        0                  Sub-Dist - Piriyapatna   Rural  ...  23.6   2.2   \n",
      "4        0                  Sub-Dist - Piriyapatna   Urban  ...  31.3   5.8   \n",
      "...    ...                                      ...    ...  ...   ...   ...   \n",
      "1470     7   Tirumakudal  Narsipur (TP) - Ward No.7  Urban  ...  17.8   1.4   \n",
      "1471     8   Tirumakudal  Narsipur (TP) - Ward No.8  Urban  ...  21.6   5.0   \n",
      "1472     9   Tirumakudal  Narsipur (TP) - Ward No.9  Urban  ...  12.1   1.6   \n",
      "1473    10  Tirumakudal  Narsipur (TP) - Ward No.10  Urban  ...  33.6   7.5   \n",
      "1474    11  Tirumakudal  Narsipur (TP) - Ward No.11  Urban  ...  39.7   8.3   \n",
      "\n",
      "       7.1  13.7   65.9  31.7  2.2.1  1.4  0.8.1  0.2.2  \n",
      "0      0.8  19.9   52.4  44.4    3.1  2.0    1.1    0.2  \n",
      "1     15.9   5.1   84.7  14.0    1.0  0.7    0.3    0.3  \n",
      "2      1.5  17.8   57.4  41.1    1.3  0.6    0.7    0.3  \n",
      "3      1.4  18.4   56.0  42.4    1.3  0.6    0.7    0.3  \n",
      "4      2.8  10.3   74.9  24.4    0.6  0.4    0.2    0.1  \n",
      "...    ...   ...    ...   ...    ...  ...    ...    ...  \n",
      "1470   0.0   6.7   40.4  59.6    0.0  0.0    0.0    0.0  \n",
      "1471  10.0   9.6   75.1  24.3    0.7  0.7    0.0    0.0  \n",
      "1472   2.3  30.5   85.2  14.1    0.8  0.4    0.4    0.0  \n",
      "1473   7.5   2.8  100.0   0.0    0.0  0.0    0.0    0.0  \n",
      "1474   1.7   7.9   87.8  11.8    0.4  0.4    0.0    0.0  \n",
      "\n",
      "[1475 rows x 145 columns]\n"
     ]
    }
   ],
   "source": [
    "import pandas as pd\n",
    "\n",
    "# Load CSV into Pandas DataFrame\n",
    "data = pd.read_csv('mydata.csv')\n",
    "\n",
    "# Display the entire DataFrame\n",
    "print(data)"
   ]
  },
  {
   "cell_type": "code",
   "execution_count": 6,
   "metadata": {},
   "outputs": [
    {
     "name": "stdout",
     "output_type": "stream",
     "text": [
      "   29  KARNATAKA  577  Mysore  00000      Mysore.1  000000  0000  \\\n",
      "0  29  KARNATAKA  577  Mysore      0        Mysore       0     0   \n",
      "1  29  KARNATAKA  577  Mysore      0        Mysore       0     0   \n",
      "2  29  KARNATAKA  577  Mysore   5569  Piriyapatna        0     0   \n",
      "3  29  KARNATAKA  577  Mysore   5569  Piriyapatna        0     0   \n",
      "4  29  KARNATAKA  577  Mysore   5569  Piriyapatna        0     0   \n",
      "\n",
      "         District - Mysore  Total  ...  30.7   5.9   7.1  13.7  65.9  31.7  \\\n",
      "0        District - Mysore  Rural  ...  17.9   1.4   0.8  19.9  52.4  44.4   \n",
      "1        District - Mysore  Urban  ...  48.5  12.1  15.9   5.1  84.7  14.0   \n",
      "2  Sub-Dist - Piriyapatna   Total  ...  24.2   2.5   1.5  17.8  57.4  41.1   \n",
      "3  Sub-Dist - Piriyapatna   Rural  ...  23.6   2.2   1.4  18.4  56.0  42.4   \n",
      "4  Sub-Dist - Piriyapatna   Urban  ...  31.3   5.8   2.8  10.3  74.9  24.4   \n",
      "\n",
      "   2.2.1  1.4  0.8.1  0.2.2  \n",
      "0    3.1  2.0    1.1    0.2  \n",
      "1    1.0  0.7    0.3    0.3  \n",
      "2    1.3  0.6    0.7    0.3  \n",
      "3    1.3  0.6    0.7    0.3  \n",
      "4    0.6  0.4    0.2    0.1  \n",
      "\n",
      "[5 rows x 145 columns]\n"
     ]
    }
   ],
   "source": [
    "# Display only the first 5 rows of the DataFrame\n",
    "print(data.head())"
   ]
  },
  {
   "cell_type": "code",
   "execution_count": 7,
   "metadata": {},
   "outputs": [
    {
     "name": "stdout",
     "output_type": "stream",
     "text": [
      "      29  KARNATAKA  577  Mysore  00000                 Mysore.1  000000  \\\n",
      "1470  29  KARNATAKA  577  Mysore   5575  Tirumakudal - Narsipur   803199   \n",
      "1471  29  KARNATAKA  577  Mysore   5575  Tirumakudal - Narsipur   803199   \n",
      "1472  29  KARNATAKA  577  Mysore   5575  Tirumakudal - Narsipur   803199   \n",
      "1473  29  KARNATAKA  577  Mysore   5575  Tirumakudal - Narsipur   803199   \n",
      "1474  29  KARNATAKA  577  Mysore   5575  Tirumakudal - Narsipur   803199   \n",
      "\n",
      "      0000                        District - Mysore  Total  ...  30.7  5.9  \\\n",
      "1470     7   Tirumakudal  Narsipur (TP) - Ward No.7  Urban  ...  17.8  1.4   \n",
      "1471     8   Tirumakudal  Narsipur (TP) - Ward No.8  Urban  ...  21.6  5.0   \n",
      "1472     9   Tirumakudal  Narsipur (TP) - Ward No.9  Urban  ...  12.1  1.6   \n",
      "1473    10  Tirumakudal  Narsipur (TP) - Ward No.10  Urban  ...  33.6  7.5   \n",
      "1474    11  Tirumakudal  Narsipur (TP) - Ward No.11  Urban  ...  39.7  8.3   \n",
      "\n",
      "       7.1  13.7   65.9  31.7  2.2.1  1.4  0.8.1  0.2.2  \n",
      "1470   0.0   6.7   40.4  59.6    0.0  0.0    0.0    0.0  \n",
      "1471  10.0   9.6   75.1  24.3    0.7  0.7    0.0    0.0  \n",
      "1472   2.3  30.5   85.2  14.1    0.8  0.4    0.4    0.0  \n",
      "1473   7.5   2.8  100.0   0.0    0.0  0.0    0.0    0.0  \n",
      "1474   1.7   7.9   87.8  11.8    0.4  0.4    0.0    0.0  \n",
      "\n",
      "[5 rows x 145 columns]\n"
     ]
    }
   ],
   "source": [
    "# Display only the last 5 rows of the DataFrame\n",
    "print(data.tail())"
   ]
  },
  {
   "cell_type": "code",
   "execution_count": 5,
   "metadata": {},
   "outputs": [
    {
     "name": "stdout",
     "output_type": "stream",
     "text": [
      "                       Location\n",
      "count                        12\n",
      "unique                       12\n",
      "top     Palolem Beach,South Goa\n",
      "freq                          1\n"
     ]
    }
   ],
   "source": [
    "# Display basic statistics about the DataFrame\n",
    "print(data.describe())"
   ]
  },
  {
   "cell_type": "code",
   "execution_count": null,
   "metadata": {},
   "outputs": [],
   "source": []
  }
 ],
 "metadata": {
  "kernelspec": {
   "display_name": "Python 3 (ipykernel)",
   "language": "python",
   "name": "python3"
  },
  "language_info": {
   "codemirror_mode": {
    "name": "ipython",
    "version": 3
   },
   "file_extension": ".py",
   "mimetype": "text/x-python",
   "name": "python",
   "nbconvert_exporter": "python",
   "pygments_lexer": "ipython3",
   "version": "3.9.16"
  }
 },
 "nbformat": 4,
 "nbformat_minor": 4
}
