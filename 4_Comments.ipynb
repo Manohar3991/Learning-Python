{
 "cells": [
  {
   "cell_type": "markdown",
   "metadata": {},
   "source": [
    "# Comments\n",
    "\n",
    "Comments are non-executable statements in Python. It means neither the python compiler nor the PVM will execute them. Comments are intended for human understanding, not for the compiler or PVM. Therefore they are called non-executable statements. There are two types of commenting features available in Python: These are \n",
    "## 1.Single-line comments :\n",
    "- A single-line comment begins with a hash (#) symbol and is useful in mentioning that the whole line should be considered as a comment until the end of the line."
   ]
  },
  {
   "cell_type": "code",
   "execution_count": 1,
   "metadata": {},
   "outputs": [],
   "source": [
    "#Defining a variable to store number.\n",
    "\n",
    "n = 50    #Store '50' as value into variable 'n'"
   ]
  },
  {
   "cell_type": "markdown",
   "metadata": {},
   "source": [
    "In the above example program, the first line starts with the hash symbol, so the entire line is considered a comment.\n",
    "In the second line of code, \"n = 50\" is a statement, and after the statement, the comment begins with the # symbol. From the # symbol to the end of this line, the line will be treated as a comment."
   ]
  },
  {
   "cell_type": "markdown",
   "metadata": {},
   "source": [
    "# 2.Multi-Line Comment\n",
    "\n",
    "- Multi-line comment is useful when we need to comment on many lines. You can also use a single-line comment, but using a multi-line instead of single-line comment is easy to comment on multiple lines.\n",
    "\n",
    "\n",
    "- In Python Triple double quote (\"\"\") and single quote (''') are used for Multi-line commenting. It is used at the beginning and end of the block to comment on the entire block. Hence it is also called block comments."
   ]
  },
  {
   "cell_type": "code",
   "execution_count": 1,
   "metadata": {},
   "outputs": [
    {
     "data": {
      "text/plain": [
       "'\\nName: Manohar\\nStudent ID:\\nP01ZZ21S0850\\n'"
      ]
     },
     "execution_count": 1,
     "metadata": {},
     "output_type": "execute_result"
    }
   ],
   "source": [
    "\"\"\"\n",
    "Name: Manohar\n",
    "Student ID:\n",
    "P01ZZ21S0850\n",
    "\"\"\""
   ]
  },
  {
   "cell_type": "markdown",
   "metadata": {},
   "source": [
    "- Multi-line comment is useful when we need to comment on many lines. You can also use a single-line comment, but using a multi-line instead of single-line comment is easy to comment on multiple lines.\n",
    "\n",
    "\n",
    "- In Python Triple double quote (\"\"\") and single quote (''') are used for Multi-line commenting. It is used at the beginning and end of the block to comment on the entire block. Hence it is also called block comments.\n",
    "\n",
    "\n"
   ]
  }
 ],
 "metadata": {
  "kernelspec": {
   "display_name": "Python 3",
   "language": "python",
   "name": "python3"
  },
  "language_info": {
   "codemirror_mode": {
    "name": "ipython",
    "version": 3
   },
   "file_extension": ".py",
   "mimetype": "text/x-python",
   "name": "python",
   "nbconvert_exporter": "python",
   "pygments_lexer": "ipython3",
   "version": "3.7.6"
  }
 },
 "nbformat": 4,
 "nbformat_minor": 4
}
