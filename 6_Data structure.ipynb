{
 "cells": [
  {
   "cell_type": "markdown",
   "metadata": {},
   "source": [
    "# Data Structure\n",
    "\n",
    "- Data Structures are a way of organizing data so that it can be accessed more efficiently depending upon the situation. Data Structures are fundamentals of any programming language around which a program is built. Python helps to learn the fundamental of these data structures in a simpler way as compared to other programming languages.\n",
    "\n",
    "\n",
    "- In Python, the built-in data structures include:\n",
    "\n",
    "\n",
    "- __Lists:__  An ordered collection of items, changeable, and allows duplicates. [ ]\n",
    "\n",
    "\n",
    "- __Tuples:__  An ordered, immutable collection of items and allows duplicates.  ( )\n",
    "\n",
    "\n",
    "- __Sets:__  An unordered collection of unique items, changeable and no duplicates. { }\n",
    "\n",
    "\n",
    "- __Dictionaries:__  An unordered collection of key-value pairs, changeable and no duplicates. { }\n",
    "\n"
   ]
  },
  {
   "cell_type": "markdown",
   "metadata": {},
   "source": [
    "### 1.Lists"
   ]
  },
  {
   "cell_type": "code",
   "execution_count": 3,
   "metadata": {},
   "outputs": [],
   "source": [
    "myList = []  #an empty list"
   ]
  },
  {
   "cell_type": "code",
   "execution_count": 4,
   "metadata": {},
   "outputs": [
    {
     "data": {
      "text/plain": [
       "list"
      ]
     },
     "execution_count": 4,
     "metadata": {},
     "output_type": "execute_result"
    }
   ],
   "source": [
    "type(myList) #type checking"
   ]
  },
  {
   "cell_type": "code",
   "execution_count": 6,
   "metadata": {},
   "outputs": [
    {
     "name": "stdout",
     "output_type": "stream",
     "text": [
      "[1, 2, 3, 4, 5, 6, 7, 8, 9, 10]\n"
     ]
    }
   ],
   "source": [
    "list1 = [1, 2, 3, 4, 5, 6, 7, 8, 9, 10] #List containing integer values\n",
    "print(list1)"
   ]
  },
  {
   "cell_type": "code",
   "execution_count": 7,
   "metadata": {},
   "outputs": [
    {
     "name": "stdout",
     "output_type": "stream",
     "text": [
      "[1.2, 2.5, 3.5, 5.5]\n"
     ]
    }
   ],
   "source": [
    "list2 = [1.2, 2.5, 3.5, 5.5]    #List containing float values\n",
    "print(list2)"
   ]
  },
  {
   "cell_type": "code",
   "execution_count": 8,
   "metadata": {},
   "outputs": [
    {
     "name": "stdout",
     "output_type": "stream",
     "text": [
      "['Manohar', 'Manjunath', 'Pranav', 'Prasad']\n"
     ]
    }
   ],
   "source": [
    "list3 = [\"Manohar\", \"Manjunath\", \"Pranav\", \"Prasad\"]  #List cintaining string value\n",
    "print(list3)"
   ]
  },
  {
   "cell_type": "code",
   "execution_count": 11,
   "metadata": {},
   "outputs": [
    {
     "name": "stdout",
     "output_type": "stream",
     "text": [
      "['manohar', [22, 'P01ZZ21S850'], ['9-10-2000']]\n"
     ]
    }
   ],
   "source": [
    "list4 = [\"manohar\", [22, \"P01ZZ21S850\"], ['9-10-2000']]  #Nested list\n",
    "print(list4)"
   ]
  },
  {
   "cell_type": "code",
   "execution_count": 13,
   "metadata": {},
   "outputs": [
    {
     "name": "stdout",
     "output_type": "stream",
     "text": [
      "[1, 'abc', 1.5, 'orange']\n"
     ]
    }
   ],
   "source": [
    "list5 = [1, \"abc\", 1.5, \"orange\"]  #list having mixed data types\n",
    "print(list5)"
   ]
  },
  {
   "cell_type": "code",
   "execution_count": 12,
   "metadata": {},
   "outputs": [
    {
     "data": {
      "text/plain": [
       "4"
      ]
     },
     "execution_count": 12,
     "metadata": {},
     "output_type": "execute_result"
    }
   ],
   "source": [
    "# To calculate the lenght of the senteance we can use 'len' function\n",
    "len(list3)"
   ]
  },
  {
   "cell_type": "code",
   "execution_count": 18,
   "metadata": {},
   "outputs": [
    {
     "data": {
      "text/plain": [
       "'Manohar'"
      ]
     },
     "execution_count": 18,
     "metadata": {},
     "output_type": "execute_result"
    }
   ],
   "source": [
    "# List Indexing\n",
    "list3[0]        #Retrive first eliment of the list"
   ]
  },
  {
   "cell_type": "code",
   "execution_count": 20,
   "metadata": {},
   "outputs": [
    {
     "data": {
      "text/plain": [
       "'a'"
      ]
     },
     "execution_count": 20,
     "metadata": {},
     "output_type": "execute_result"
    }
   ],
   "source": [
    "list3[0][1]   #Nested list"
   ]
  },
  {
   "cell_type": "code",
   "execution_count": 23,
   "metadata": {},
   "outputs": [
    {
     "data": {
      "text/plain": [
       "'Prasad'"
      ]
     },
     "execution_count": 23,
     "metadata": {},
     "output_type": "execute_result"
    }
   ],
   "source": [
    "list3[-1]    #last eliment of the list"
   ]
  },
  {
   "cell_type": "markdown",
   "metadata": {},
   "source": [
    "### List Slicing\n",
    "List slicing is the process of extracting a portion of a list. It allows you to create a new list that contains only a specific portion of the original list. List slicing is done by specifying the starting and ending index of the portion of the list you want to extract, separated by a colon (:)."
   ]
  },
  {
   "cell_type": "code",
   "execution_count": 25,
   "metadata": {},
   "outputs": [
    {
     "name": "stdout",
     "output_type": "stream",
     "text": [
      "['manohar', 'rahul', 'mallesh', 'arun', 'akhil', 'drakshayani', 'pavithra']\n"
     ]
    }
   ],
   "source": [
    "myList = [\"manohar\", \"rahul\", \"mallesh\", \"arun\", \"akhil\", \"drakshayani\", \"pavithra\"]\n",
    "print(myList)"
   ]
  },
  {
   "cell_type": "code",
   "execution_count": 26,
   "metadata": {},
   "outputs": [
    {
     "data": {
      "text/plain": [
       "['manohar', 'rahul', 'mallesh']"
      ]
     },
     "execution_count": 26,
     "metadata": {},
     "output_type": "execute_result"
    }
   ],
   "source": [
    "myList[0:3] # Return all items from 0th to 3rd index location excluding the item of loc 3."
   ]
  },
  {
   "cell_type": "code",
   "execution_count": 27,
   "metadata": {},
   "outputs": [
    {
     "data": {
      "text/plain": [
       "['manohar', 'rahul']"
      ]
     },
     "execution_count": 27,
     "metadata": {},
     "output_type": "execute_result"
    }
   ],
   "source": [
    "myList[:2]  #Return first two items"
   ]
  },
  {
   "cell_type": "code",
   "execution_count": 29,
   "metadata": {},
   "outputs": [
    {
     "data": {
      "text/plain": [
       "['drakshayani', 'pavithra']"
      ]
     },
     "execution_count": 29,
     "metadata": {},
     "output_type": "execute_result"
    }
   ],
   "source": [
    "myList[-2:]  #Return last two items"
   ]
  },
  {
   "cell_type": "code",
   "execution_count": 32,
   "metadata": {},
   "outputs": [
    {
     "data": {
      "text/plain": [
       "['manohar', 'rahul', 'mallesh', 'arun', 'akhil', 'drakshayani', 'pavithra']"
      ]
     },
     "execution_count": 32,
     "metadata": {},
     "output_type": "execute_result"
    }
   ],
   "source": [
    "myList[:]   #Return whole list"
   ]
  },
  {
   "cell_type": "markdown",
   "metadata": {},
   "source": [
    "### Add, Remove and Change Items"
   ]
  },
  {
   "cell_type": "code",
   "execution_count": 34,
   "metadata": {},
   "outputs": [
    {
     "name": "stdout",
     "output_type": "stream",
     "text": [
      "['manohar', 'rahul', 'mallesh', 'arun', 'akhil', 'drakshayani', 'pavithra', 'bhaskar', 'bhaskar']\n"
     ]
    }
   ],
   "source": [
    "myList.append('bhaskar')   #Add an item to the end of the list\n",
    "print(myList)"
   ]
  },
  {
   "cell_type": "code",
   "execution_count": 35,
   "metadata": {},
   "outputs": [
    {
     "name": "stdout",
     "output_type": "stream",
     "text": [
      "['manohar', 'rahul', 'mallesh', 'abhilash', 'arun', 'akhil', 'drakshayani', 'pavithra', 'bhaskar', 'bhaskar']\n"
     ]
    }
   ],
   "source": [
    "myList.insert(3, 'abhilash')  #Add an item at index location 3\n",
    "print(myList)"
   ]
  },
  {
   "cell_type": "code",
   "execution_count": 36,
   "metadata": {},
   "outputs": [
    {
     "name": "stdout",
     "output_type": "stream",
     "text": [
      "['rahul', 'mallesh', 'abhilash', 'arun', 'akhil', 'drakshayani', 'pavithra', 'bhaskar', 'bhaskar']\n"
     ]
    }
   ],
   "source": [
    "myList.remove('manohar')  #Remove an item 'manohar'\n",
    "print(myList)"
   ]
  },
  {
   "cell_type": "code",
   "execution_count": 37,
   "metadata": {},
   "outputs": [
    {
     "name": "stdout",
     "output_type": "stream",
     "text": [
      "['rahul', 'mallesh', 'abhilash', 'arun', 'akhil', 'drakshayani', 'pavithra', 'bhaskar']\n"
     ]
    }
   ],
   "source": [
    "myList.pop()  #Remove last item of the list\n",
    "print(myList)"
   ]
  },
  {
   "cell_type": "code",
   "execution_count": 44,
   "metadata": {},
   "outputs": [
    {
     "name": "stdout",
     "output_type": "stream",
     "text": [
      "['rahul', 'mallesh', 'abhilash', 'arun', 'akhil', 'drakshayani']\n"
     ]
    }
   ],
   "source": [
    "myList.pop(6)  #Remove item at index location 6\n",
    "print(myList)"
   ]
  },
  {
   "cell_type": "code",
   "execution_count": 45,
   "metadata": {},
   "outputs": [
    {
     "name": "stdout",
     "output_type": "stream",
     "text": [
      "['rahul', 'mallesh', 'arun', 'akhil', 'drakshayani']\n"
     ]
    }
   ],
   "source": [
    "del myList[2]  #Remove item at index location 2\n",
    "print(myList)"
   ]
  },
  {
   "cell_type": "code",
   "execution_count": 46,
   "metadata": {},
   "outputs": [
    {
     "data": {
      "text/plain": [
       "[25, 35, 100, 'akhil', 'drakshayani']"
      ]
     },
     "execution_count": 46,
     "metadata": {},
     "output_type": "execute_result"
    }
   ],
   "source": [
    "# Change value of the string\n",
    "myList[0] = 25\n",
    "myList[1] = 35\n",
    "myList[2] = 100\n",
    "myList"
   ]
  },
  {
   "cell_type": "code",
   "execution_count": 47,
   "metadata": {},
   "outputs": [],
   "source": [
    "myList.clear()   #Empty list or delete all items in the list"
   ]
  },
  {
   "cell_type": "code",
   "execution_count": 48,
   "metadata": {},
   "outputs": [
    {
     "data": {
      "text/plain": [
       "[]"
      ]
     },
     "execution_count": 48,
     "metadata": {},
     "output_type": "execute_result"
    }
   ],
   "source": [
    "myList"
   ]
  },
  {
   "cell_type": "code",
   "execution_count": 49,
   "metadata": {},
   "outputs": [],
   "source": [
    "del myList   # delete the whole list"
   ]
  },
  {
   "cell_type": "code",
   "execution_count": 50,
   "metadata": {},
   "outputs": [
    {
     "ename": "NameError",
     "evalue": "name 'myList' is not defined",
     "output_type": "error",
     "traceback": [
      "\u001b[1;31m---------------------------------------------------------------------------\u001b[0m",
      "\u001b[1;31mNameError\u001b[0m                                 Traceback (most recent call last)",
      "\u001b[1;32m<ipython-input-50-69895ec471d1>\u001b[0m in \u001b[0;36m<module>\u001b[1;34m\u001b[0m\n\u001b[1;32m----> 1\u001b[1;33m \u001b[0mmyList\u001b[0m\u001b[1;33m\u001b[0m\u001b[1;33m\u001b[0m\u001b[0m\n\u001b[0m",
      "\u001b[1;31mNameError\u001b[0m: name 'myList' is not defined"
     ]
    }
   ],
   "source": [
    "myList"
   ]
  },
  {
   "cell_type": "code",
   "execution_count": 51,
   "metadata": {},
   "outputs": [],
   "source": [
    "# Copy List\n",
    "list1 = ['orange', 'mango', 'pappaya', 'watermillon', 'jackfruit']\n",
    "list2 = []\n",
    "list2 = list1.copy()  # create a copy of the list"
   ]
  },
  {
   "cell_type": "code",
   "execution_count": 52,
   "metadata": {},
   "outputs": [
    {
     "data": {
      "text/plain": [
       "['orange', 'mango', 'pappaya', 'watermillon', 'jackfruit']"
      ]
     },
     "execution_count": 52,
     "metadata": {},
     "output_type": "execute_result"
    }
   ],
   "source": [
    "list2"
   ]
  },
  {
   "cell_type": "code",
   "execution_count": 53,
   "metadata": {},
   "outputs": [],
   "source": [
    "list3 = ['juice']"
   ]
  },
  {
   "cell_type": "code",
   "execution_count": 54,
   "metadata": {},
   "outputs": [],
   "source": [
    "listJoin = list2 + list3  #Join lists by using '+' operator"
   ]
  },
  {
   "cell_type": "code",
   "execution_count": 55,
   "metadata": {},
   "outputs": [
    {
     "data": {
      "text/plain": [
       "['orange', 'mango', 'pappaya', 'watermillon', 'jackfruit', 'juice']"
      ]
     },
     "execution_count": 55,
     "metadata": {},
     "output_type": "execute_result"
    }
   ],
   "source": [
    "listJoin"
   ]
  },
  {
   "cell_type": "markdown",
   "metadata": {},
   "source": [
    "### List Membership\n",
    "List membership in Python refers to the process of checking whether a particular element is present in a list or not. It is a commonly used operation in Python programming, especially when working with collections of data.\n",
    "\n",
    "To check whether an element is present in a list, you can use the in operator. The in operator returns a Boolean value of True if the element is present in the list, and False otherwise."
   ]
  },
  {
   "cell_type": "code",
   "execution_count": 57,
   "metadata": {},
   "outputs": [
    {
     "data": {
      "text/plain": [
       "['orange', 'mango', 'pappaya', 'watermillon', 'jackfruit']"
      ]
     },
     "execution_count": 57,
     "metadata": {},
     "output_type": "execute_result"
    }
   ],
   "source": [
    "fruits = ['orange', 'mango', 'pappaya', 'watermillon', 'jackfruit']\n",
    "fruits"
   ]
  },
  {
   "cell_type": "code",
   "execution_count": 59,
   "metadata": {},
   "outputs": [
    {
     "data": {
      "text/plain": [
       "True"
      ]
     },
     "execution_count": 59,
     "metadata": {},
     "output_type": "execute_result"
    }
   ],
   "source": [
    "'orange' in fruits  #Checking if 'orange' exist in 'fruits'"
   ]
  },
  {
   "cell_type": "code",
   "execution_count": 61,
   "metadata": {},
   "outputs": [
    {
     "data": {
      "text/plain": [
       "False"
      ]
     },
     "execution_count": 61,
     "metadata": {},
     "output_type": "execute_result"
    }
   ],
   "source": [
    "'grapes' in fruits  #Checking if 'grapes' exist in 'fruits'"
   ]
  },
  {
   "cell_type": "code",
   "execution_count": 62,
   "metadata": {},
   "outputs": [
    {
     "data": {
      "text/plain": [
       "['sun', 'wind', 'water', 'soil', 'biogas']"
      ]
     },
     "execution_count": 62,
     "metadata": {},
     "output_type": "execute_result"
    }
   ],
   "source": [
    "renewable_sources = ['sun', 'wind', 'water', 'soil', 'biogas']\n",
    "renewable_sources"
   ]
  },
  {
   "cell_type": "code",
   "execution_count": 63,
   "metadata": {},
   "outputs": [
    {
     "name": "stdout",
     "output_type": "stream",
     "text": [
      "sun is a renewable source of energy\n"
     ]
    }
   ],
   "source": [
    "if 'sun' in renewable_sources:\n",
    "    print('sun is a renewable source')\n",
    "else:\n",
    "    print('sun is a non renewable source')"
   ]
  },
  {
   "cell_type": "code",
   "execution_count": 65,
   "metadata": {},
   "outputs": [
    {
     "name": "stdout",
     "output_type": "stream",
     "text": [
      "coal is a non renewable source\n"
     ]
    }
   ],
   "source": [
    "if 'coal' in renewable_sources:\n",
    "    print('coal is a renewable source')\n",
    "else:\n",
    "    print('coal is a non renewable source')"
   ]
  },
  {
   "cell_type": "markdown",
   "metadata": {},
   "source": [
    "### Nested List\n",
    "a nested list is a list that contains other lists as its elements. These sub-lists can also contain further nested lists, and so on. A nested list can be used to represent a multi-dimensional array or a matrix, where each element of the matrix is a list of values."
   ]
  },
  {
   "cell_type": "code",
   "execution_count": 66,
   "metadata": {},
   "outputs": [],
   "source": [
    "taluks = [\"Heggadadevana kote\", \"Hunsur\", \"Krishnarajanagara\", \"Mysore\", \"Nanjangud\", \"Piriyapatna\", \"T.Narsipur\"]\n",
    "hd_kote = [\"1,618sqkm and 2,63,706 population\"]\n",
    "hunsur = [\"898sqkm and 2,82,963 population\"]\n",
    "krNagar = [\"608sqkm and 2,82,963 population\"]\n",
    "mysore = [\"797sqkm and 12,81,768 population\"]\n",
    "Nanjangud = [\"974sqkm and 3,84,922 population\"]\n",
    "pPatna = [\"812sqkm and 2,43,076 population\"]\n",
    "tNarsipur = [\"600sqkm and 2,92,035 population\"]"
   ]
  },
  {
   "cell_type": "code",
   "execution_count": 67,
   "metadata": {},
   "outputs": [
    {
     "name": "stdout",
     "output_type": "stream",
     "text": [
      "['Heggadadevana kote', ['1,618sqkm and 2,63,706 population'], 'Hunsur', ['898sqkm and 2,82,963 population'], 'Krishnarajanagara', ['608sqkm and 2,82,963 population'], 'Mysore', ['797sqkm and 12,81,768 population'], 'Nanjangud', ['974sqkm and 3,84,922 population'], 'Piriyapatna', ['812sqkm and 2,43,076 population'], 'T.Narsipur', ['600sqkm and 2,92,035 population']]\n"
     ]
    }
   ],
   "source": [
    "taluks.insert(1,hd_kote)\n",
    "taluks.insert(3,hunsur)\n",
    "taluks.insert(5,krNagar)\n",
    "taluks.insert(7,mysore)\n",
    "taluks.insert(9,Nanjangud)\n",
    "taluks.insert(11,pPatna)\n",
    "taluks.insert(13,tNarsipur)\n",
    "print(taluks)"
   ]
  },
  {
   "cell_type": "code",
   "execution_count": 74,
   "metadata": {},
   "outputs": [],
   "source": [
    "firstGen = [\"Grand Father\", \"Grand Mother\"]\n",
    "secondGen = [\"Father\", \"Mother\"]\n",
    "thirdGen = [\"Son\", \"Daughter\"]\n",
    "fourthGen = [\"Grand son\",\"Grand daughter\"]"
   ]
  },
  {
   "cell_type": "code",
   "execution_count": 75,
   "metadata": {},
   "outputs": [],
   "source": [
    "familyTree = []"
   ]
  },
  {
   "cell_type": "code",
   "execution_count": 76,
   "metadata": {},
   "outputs": [
    {
     "name": "stdout",
     "output_type": "stream",
     "text": [
      "['Grand Father', 'Grand Mother', ['Father', 'Mother', ['Son', ['Grand son', 'Grand daughter'], 'Daughter']]]\n"
     ]
    }
   ],
   "source": [
    "thirdGen.insert(1,fourthGen)\n",
    "secondGen.insert(2,thirdGen)\n",
    "firstGen.insert(2,secondGen)\n",
    "familyTree = firstGen\n",
    "print(familyTree)"
   ]
  },
  {
   "cell_type": "markdown",
   "metadata": {},
   "source": [
    "### Reverse and Sort-List\n",
    "reverse() and sort() are two methods that can be used to manipulate lists.\n",
    "\n",
    "The reverse() method is used to reverse the order of the elements in a list. It takes no arguments and simply modifies the list in place"
   ]
  },
  {
   "cell_type": "code",
   "execution_count": 77,
   "metadata": {},
   "outputs": [],
   "source": [
    "list = ['one', 'two', 'three', 'four', 'five', 'five', 'six', 'seven']"
   ]
  },
  {
   "cell_type": "code",
   "execution_count": 78,
   "metadata": {},
   "outputs": [
    {
     "name": "stdout",
     "output_type": "stream",
     "text": [
      "['one', 'two', 'three', 'four', 'five', 'five', 'six', 'seven']\n"
     ]
    }
   ],
   "source": [
    "print(list)"
   ]
  },
  {
   "cell_type": "code",
   "execution_count": 79,
   "metadata": {},
   "outputs": [],
   "source": [
    "list.reverse()  #revrse the list"
   ]
  },
  {
   "cell_type": "code",
   "execution_count": 80,
   "metadata": {},
   "outputs": [
    {
     "data": {
      "text/plain": [
       "['seven', 'six', 'five', 'five', 'four', 'three', 'two', 'one']"
      ]
     },
     "execution_count": 80,
     "metadata": {},
     "output_type": "execute_result"
    }
   ],
   "source": [
    "list"
   ]
  },
  {
   "cell_type": "code",
   "execution_count": 81,
   "metadata": {},
   "outputs": [
    {
     "data": {
      "text/plain": [
       "['one', 'two', 'three', 'four', 'five', 'five', 'six', 'seven']"
      ]
     },
     "execution_count": 81,
     "metadata": {},
     "output_type": "execute_result"
    }
   ],
   "source": [
    "list = list[::-1]  #reverse the list\n",
    "list"
   ]
  },
  {
   "cell_type": "code",
   "execution_count": 82,
   "metadata": {},
   "outputs": [
    {
     "data": {
      "text/plain": [
       "[2, 3, 7, 8, 9, 66, 78, 99]"
      ]
     },
     "execution_count": 82,
     "metadata": {},
     "output_type": "execute_result"
    }
   ],
   "source": [
    "list1 = [2, 7, 8, 66, 99, 78, 3, 9]\n",
    "list1.sort()  #sort list in accending order.\n",
    "list1"
   ]
  },
  {
   "cell_type": "code",
   "execution_count": 83,
   "metadata": {},
   "outputs": [
    {
     "data": {
      "text/plain": [
       "[99, 78, 66, 9, 8, 7, 3, 2]"
      ]
     },
     "execution_count": 83,
     "metadata": {},
     "output_type": "execute_result"
    }
   ],
   "source": [
    "list1.sort(reverse=True)   #sort list in deccending order\n",
    "list1"
   ]
  },
  {
   "cell_type": "markdown",
   "metadata": {},
   "source": [
    "# Tuples\n",
    "\n",
    "- Tuples are immutable, ordered collections of elements, which can be of different data types.\n",
    "- They are defined using round parentheses and the elements are separated by commas.\n",
    "- They are commonly used to store related pieces of information that are unlikely to change.\n",
    "- Tuples can be indexed, sliced, and iterated through just like lists.\n",
    "- They can also be used to return multiple values from a function.\n",
    "- Tuples can contain elements of different data types, including other tuples, making them useful for nested data structures.\n",
    "- The built-in function \"len\" can be used to find the number of elements in a tuple.\n",
    "- The \"in\" operator can be used to check if an element is present in a tuple."
   ]
  },
  {
   "cell_type": "code",
   "execution_count": 3,
   "metadata": {},
   "outputs": [],
   "source": [
    "myData = (\"Manohar\", 22, 5.5)"
   ]
  },
  {
   "cell_type": "code",
   "execution_count": 4,
   "metadata": {},
   "outputs": [
    {
     "data": {
      "text/plain": [
       "('Manohar', 22, 5.5)"
      ]
     },
     "execution_count": 4,
     "metadata": {},
     "output_type": "execute_result"
    }
   ],
   "source": [
    "myData"
   ]
  },
  {
   "cell_type": "code",
   "execution_count": 5,
   "metadata": {},
   "outputs": [
    {
     "data": {
      "text/plain": [
       "(22, 5.5)"
      ]
     },
     "execution_count": 5,
     "metadata": {},
     "output_type": "execute_result"
    }
   ],
   "source": [
    "myData[1:3]      #Tuple slicing is done using [start:stop-1] argument."
   ]
  },
  {
   "cell_type": "code",
   "execution_count": 6,
   "metadata": {},
   "outputs": [
    {
     "ename": "TypeError",
     "evalue": "'tuple' object doesn't support item deletion",
     "output_type": "error",
     "traceback": [
      "\u001b[1;31m---------------------------------------------------------------------------\u001b[0m",
      "\u001b[1;31mTypeError\u001b[0m                                 Traceback (most recent call last)",
      "\u001b[1;32m<ipython-input-6-85dff3648f47>\u001b[0m in \u001b[0;36m<module>\u001b[1;34m\u001b[0m\n\u001b[0;32m      1\u001b[0m \u001b[1;31m# Let's try to delete the value of tuple\u001b[0m\u001b[1;33m\u001b[0m\u001b[1;33m\u001b[0m\u001b[1;33m\u001b[0m\u001b[0m\n\u001b[1;32m----> 2\u001b[1;33m \u001b[1;32mdel\u001b[0m \u001b[0mmyData\u001b[0m\u001b[1;33m[\u001b[0m\u001b[1;36m1\u001b[0m\u001b[1;33m]\u001b[0m                           \u001b[1;31m# Tuple deleting is not possible becouse it is immutable.\u001b[0m\u001b[1;33m\u001b[0m\u001b[1;33m\u001b[0m\u001b[0m\n\u001b[0m",
      "\u001b[1;31mTypeError\u001b[0m: 'tuple' object doesn't support item deletion"
     ]
    }
   ],
   "source": [
    "# Let's try to delete the value of tuple\n",
    "del myData[1]                           # Tuple deleting is not possible becouse it is immutable."
   ]
  },
  {
   "cell_type": "code",
   "execution_count": 8,
   "metadata": {},
   "outputs": [
    {
     "ename": "TypeError",
     "evalue": "'tuple' object does not support item assignment",
     "output_type": "error",
     "traceback": [
      "\u001b[1;31m---------------------------------------------------------------------------\u001b[0m",
      "\u001b[1;31mTypeError\u001b[0m                                 Traceback (most recent call last)",
      "\u001b[1;32m<ipython-input-8-5558507a51f0>\u001b[0m in \u001b[0;36m<module>\u001b[1;34m\u001b[0m\n\u001b[1;32m----> 1\u001b[1;33m \u001b[0mmyData\u001b[0m\u001b[1;33m[\u001b[0m\u001b[1;36m0\u001b[0m\u001b[1;33m]\u001b[0m \u001b[1;33m=\u001b[0m \u001b[1;36m2\u001b[0m    \u001b[1;31m# Tuple items are immutable, so we can't edit or change them.\u001b[0m\u001b[1;33m\u001b[0m\u001b[1;33m\u001b[0m\u001b[0m\n\u001b[0m",
      "\u001b[1;31mTypeError\u001b[0m: 'tuple' object does not support item assignment"
     ]
    }
   ],
   "source": [
    "myData[0] = 2    # Tuple items are immutable, so we can't edit or change them."
   ]
  },
  {
   "cell_type": "markdown",
   "metadata": {},
   "source": [
    "### Count"
   ]
  },
  {
   "cell_type": "code",
   "execution_count": 14,
   "metadata": {},
   "outputs": [],
   "source": [
    "num = ('one', 'seven', 'two', 'five', 'three', 'four', 'five', 'six', 'seven', 'seven', 'eigth')"
   ]
  },
  {
   "cell_type": "code",
   "execution_count": 15,
   "metadata": {},
   "outputs": [
    {
     "data": {
      "text/plain": [
       "1"
      ]
     },
     "execution_count": 15,
     "metadata": {},
     "output_type": "execute_result"
    }
   ],
   "source": [
    "num.count('four')"
   ]
  },
  {
   "cell_type": "code",
   "execution_count": 16,
   "metadata": {},
   "outputs": [
    {
     "data": {
      "text/plain": [
       "2"
      ]
     },
     "execution_count": 16,
     "metadata": {},
     "output_type": "execute_result"
    }
   ],
   "source": [
    "num.count('five')"
   ]
  },
  {
   "cell_type": "code",
   "execution_count": 17,
   "metadata": {},
   "outputs": [
    {
     "data": {
      "text/plain": [
       "3"
      ]
     },
     "execution_count": 17,
     "metadata": {},
     "output_type": "execute_result"
    }
   ],
   "source": [
    "num.count('seven')"
   ]
  },
  {
   "cell_type": "markdown",
   "metadata": {},
   "source": [
    "### Tuple Membership"
   ]
  },
  {
   "cell_type": "code",
   "execution_count": 20,
   "metadata": {},
   "outputs": [],
   "source": [
    "MyList = ('one', 'seven', 'two', 'five', 'three', 'four', 'five', 'six', 'seven', 'seven', 'eigth')"
   ]
  },
  {
   "cell_type": "code",
   "execution_count": 22,
   "metadata": {},
   "outputs": [
    {
     "data": {
      "text/plain": [
       "True"
      ]
     },
     "execution_count": 22,
     "metadata": {},
     "output_type": "execute_result"
    }
   ],
   "source": [
    "'seven' in MyList  # cheking if 'seven' is exist in the list."
   ]
  },
  {
   "cell_type": "code",
   "execution_count": 23,
   "metadata": {},
   "outputs": [
    {
     "data": {
      "text/plain": [
       "False"
      ]
     },
     "execution_count": 23,
     "metadata": {},
     "output_type": "execute_result"
    }
   ],
   "source": [
    "'nine' in MyList   # cheking if 'seven' is exist in the list."
   ]
  },
  {
   "cell_type": "code",
   "execution_count": 24,
   "metadata": {},
   "outputs": [
    {
     "name": "stdout",
     "output_type": "stream",
     "text": [
      "six is present in the list\n"
     ]
    }
   ],
   "source": [
    "if 'six' in MyList:\n",
    "    print('six is present in the list')\n",
    "else:\n",
    "    print('six is not present in the list')"
   ]
  },
  {
   "cell_type": "code",
   "execution_count": 25,
   "metadata": {},
   "outputs": [
    {
     "name": "stdout",
     "output_type": "stream",
     "text": [
      "sixteen is not present in the list\n"
     ]
    }
   ],
   "source": [
    "if 'sixteen' in MyList:\n",
    "    print('sixteen is present in the list')\n",
    "else:\n",
    "    print('sixteen is not present in the list')"
   ]
  },
  {
   "cell_type": "markdown",
   "metadata": {},
   "source": [
    "### Index Position"
   ]
  },
  {
   "cell_type": "code",
   "execution_count": 26,
   "metadata": {},
   "outputs": [
    {
     "data": {
      "text/plain": [
       "0"
      ]
     },
     "execution_count": 26,
     "metadata": {},
     "output_type": "execute_result"
    }
   ],
   "source": [
    "MyList.index('one')  #Index of first element equals to '0'"
   ]
  },
  {
   "cell_type": "code",
   "execution_count": 27,
   "metadata": {},
   "outputs": [
    {
     "data": {
      "text/plain": [
       "3"
      ]
     },
     "execution_count": 27,
     "metadata": {},
     "output_type": "execute_result"
    }
   ],
   "source": [
    "MyList.index('five')  #Index of 'five' element equals to 'five'"
   ]
  },
  {
   "cell_type": "markdown",
   "metadata": {},
   "source": [
    "### Sorting"
   ]
  },
  {
   "cell_type": "code",
   "execution_count": 1,
   "metadata": {},
   "outputs": [],
   "source": [
    "num = (22, 5, 25, 6, 98, 78, 21, 55, 45, 99, 10)"
   ]
  },
  {
   "cell_type": "code",
   "execution_count": 3,
   "metadata": {},
   "outputs": [
    {
     "data": {
      "text/plain": [
       "[5, 6, 10, 21, 22, 25, 45, 55, 78, 98, 99]"
      ]
     },
     "execution_count": 3,
     "metadata": {},
     "output_type": "execute_result"
    }
   ],
   "source": [
    "sorted(num)   # The 'num' list will convert from deccending order to asscending order when we use 'sorted' function."
   ]
  },
  {
   "cell_type": "code",
   "execution_count": 4,
   "metadata": {},
   "outputs": [
    {
     "data": {
      "text/plain": [
       "[99, 98, 78, 55, 45, 25, 22, 21, 10, 6, 5]"
      ]
     },
     "execution_count": 4,
     "metadata": {},
     "output_type": "execute_result"
    }
   ],
   "source": [
    "sorted(num, reverse=True)   # The list will sort to deccending order."
   ]
  },
  {
   "cell_type": "markdown",
   "metadata": {},
   "source": [
    "### Nested Tuples\n",
    "\n",
    "A nested tuple is a tuple that contains one or more tuples within it.\n",
    "\n",
    "This nested tuple contains 4 elements: the first two are integers, the third is a tuple containing two integers, and the fourth is a tuple containing three elements, one of which is a tuple containing two integers."
   ]
  },
  {
   "cell_type": "code",
   "execution_count": 6,
   "metadata": {},
   "outputs": [],
   "source": [
    "nested_tuple = (1, 2, (3, 4), (5, 6, (7, 8)))"
   ]
  },
  {
   "cell_type": "code",
   "execution_count": 8,
   "metadata": {},
   "outputs": [
    {
     "name": "stdout",
     "output_type": "stream",
     "text": [
      "1\n",
      "(3, 4)\n",
      "3\n",
      "7\n"
     ]
    }
   ],
   "source": [
    "# We can access the elements of a nested tuple using indexing and slicing:\n",
    "print(nested_tuple[0])  # 1\n",
    "print(nested_tuple[2])  # (3, 4)\n",
    "print(nested_tuple[2][0])  # 3\n",
    "print(nested_tuple[3][2][0])  # 7"
   ]
  },
  {
   "cell_type": "code",
   "execution_count": 9,
   "metadata": {},
   "outputs": [
    {
     "name": "stdout",
     "output_type": "stream",
     "text": [
      "(1, 2, (10, 20), (5, 6, (7, 8)))\n"
     ]
    }
   ],
   "source": [
    "# You can also modify the elements of a nested tuple by creating a new tuple with the desired elements:\n",
    "new_nested_tuple = (1, 2, (10, 20), (5, 6, (7, 8)))\n",
    "print(new_nested_tuple)  # (1, 2, (10, 20), (5, 6, (7, 8)))"
   ]
  },
  {
   "cell_type": "markdown",
   "metadata": {},
   "source": [
    "# Sets\n",
    "\n",
    "- Sets are used to store multiple items in a single variable.\n",
    "\n",
    "- Set is one of 4 built-in data types in Python used to store collections of data, the other 3 are List, Tuple, and Dictionary, all with different qualities and usage.\n",
    "\n",
    "- A set is a collection which is unordered, unchangeable, and unindexed.\n",
    "- Set items are unordered, unchangeable, and do not allow duplicate values.\n",
    "- Sets are Unordered Unordered means that the items in a set do not have a defined order.\n",
    "- Set items can appear in a different order every time you use them, and cannot be referred to by index or key.\n",
    "- Sets are Unchangeable, Set items are unchangeable, meaning that we cannot change the items after the set has been created.\n",
    "- Once a set is created, you cannot change its items, but you can remove items and add new items."
   ]
  },
  {
   "cell_type": "code",
   "execution_count": 1,
   "metadata": {},
   "outputs": [
    {
     "name": "stdout",
     "output_type": "stream",
     "text": [
      "{'cherry', 'banana', 'apple'}\n"
     ]
    }
   ],
   "source": [
    "# 1.Set Creation\n",
    "thisSet = {\"apple\", \"banana\", \"cherry\"}\n",
    "print(thisSet)"
   ]
  },
  {
   "cell_type": "code",
   "execution_count": 2,
   "metadata": {},
   "outputs": [
    {
     "name": "stdout",
     "output_type": "stream",
     "text": [
      "{'cherry', 'banana', 'apple'}\n"
     ]
    }
   ],
   "source": [
    "# 2.Duplicates Not Allowed Sets cannot have two items with the same value.\n",
    "thisSet = {\"apple\", \"banana\", \"cherry\", \"apple\"}\n",
    "print(thisSet)"
   ]
  },
  {
   "cell_type": "code",
   "execution_count": 3,
   "metadata": {},
   "outputs": [
    {
     "name": "stdout",
     "output_type": "stream",
     "text": [
      "3\n"
     ]
    }
   ],
   "source": [
    "# 3.Check the lenght of sets\n",
    "thisset = {\"apple\", \"banana\", \"cherry\"}\n",
    "print(len(thisset))"
   ]
  },
  {
   "cell_type": "code",
   "execution_count": 2,
   "metadata": {},
   "outputs": [
    {
     "name": "stdout",
     "output_type": "stream",
     "text": [
      "{'apple', 'banana', 'cherry'}\n",
      "{1, 3, 5, 7, 9}\n",
      "{False, True}\n"
     ]
    }
   ],
   "source": [
    "# 3.Set Items - Data Types\n",
    "#Set items can be of any data type\n",
    "set1 = {\"apple\", \"banana\", \"cherry\"}\n",
    "set2 = {1, 5, 7, 9, 3}\n",
    "set3 = {True, False, False}\n",
    "print(set1)\n",
    "print(set2)\n",
    "print(set3)"
   ]
  },
  {
   "cell_type": "code",
   "execution_count": 5,
   "metadata": {},
   "outputs": [
    {
     "data": {
      "text/plain": [
       "{(20, 30, 40), 4, 5, 'manohar'}"
      ]
     },
     "execution_count": 5,
     "metadata": {},
     "output_type": "execute_result"
    }
   ],
   "source": [
    "# 4.Mixed datatypes\n",
    "myset = {5, 4, \"manohar\",(20, 30, 40)}\n",
    "myset"
   ]
  },
  {
   "cell_type": "code",
   "execution_count": 7,
   "metadata": {},
   "outputs": [
    {
     "ename": "TypeError",
     "evalue": "unhashable type: 'list'",
     "output_type": "error",
     "traceback": [
      "\u001b[1;31m---------------------------------------------------------------------------\u001b[0m",
      "\u001b[1;31mTypeError\u001b[0m                                 Traceback (most recent call last)",
      "\u001b[1;32m<ipython-input-7-16fc0944b08d>\u001b[0m in \u001b[0;36m<module>\u001b[1;34m\u001b[0m\n\u001b[0;32m      1\u001b[0m \u001b[1;31m# 5.Set dosen't allow mutable items like list.\u001b[0m\u001b[1;33m\u001b[0m\u001b[1;33m\u001b[0m\u001b[1;33m\u001b[0m\u001b[0m\n\u001b[1;32m----> 2\u001b[1;33m \u001b[0mmyset1\u001b[0m \u001b[1;33m=\u001b[0m \u001b[1;33m{\u001b[0m\u001b[1;36m5\u001b[0m\u001b[1;33m,\u001b[0m \u001b[1;36m4\u001b[0m\u001b[1;33m,\u001b[0m \u001b[1;34m\"manohar\"\u001b[0m\u001b[1;33m,\u001b[0m\u001b[1;33m[\u001b[0m\u001b[1;36m20\u001b[0m\u001b[1;33m,\u001b[0m \u001b[1;36m30\u001b[0m\u001b[1;33m,\u001b[0m \u001b[1;36m40\u001b[0m\u001b[1;33m]\u001b[0m\u001b[1;33m}\u001b[0m\u001b[1;33m\u001b[0m\u001b[1;33m\u001b[0m\u001b[0m\n\u001b[0m\u001b[0;32m      3\u001b[0m \u001b[0mmyset1\u001b[0m\u001b[1;33m\u001b[0m\u001b[1;33m\u001b[0m\u001b[0m\n",
      "\u001b[1;31mTypeError\u001b[0m: unhashable type: 'list'"
     ]
    }
   ],
   "source": [
    "# 5.Set dosen't allow mutable items like list.\n",
    "myset1 = {5, 4, \"manohar\",[20, 30, 40]}\n",
    "myset1"
   ]
  },
  {
   "cell_type": "markdown",
   "metadata": {},
   "source": [
    "### Set Membership"
   ]
  },
  {
   "cell_type": "code",
   "execution_count": 9,
   "metadata": {},
   "outputs": [
    {
     "data": {
      "text/plain": [
       "{'eight', 'five', 'four', 'one', 'seven', 'six', 'three', 'two'}"
      ]
     },
     "execution_count": 9,
     "metadata": {},
     "output_type": "execute_result"
    }
   ],
   "source": [
    "myset3 = {'one', 'two', 'three', 'four', 'five', 'six', 'seven', 'eight'}\n",
    "myset3"
   ]
  },
  {
   "cell_type": "code",
   "execution_count": 10,
   "metadata": {},
   "outputs": [
    {
     "data": {
      "text/plain": [
       "True"
      ]
     },
     "execution_count": 10,
     "metadata": {},
     "output_type": "execute_result"
    }
   ],
   "source": [
    "# 1.Checking value 'four' is there or not.\n",
    "'four' in myset3"
   ]
  },
  {
   "cell_type": "code",
   "execution_count": 11,
   "metadata": {},
   "outputs": [
    {
     "data": {
      "text/plain": [
       "False"
      ]
     },
     "execution_count": 11,
     "metadata": {},
     "output_type": "execute_result"
    }
   ],
   "source": [
    "# 2.Checking value 'twenty' is there or not.\n",
    "'twnty' in myset3"
   ]
  },
  {
   "cell_type": "markdown",
   "metadata": {},
   "source": [
    "### Add and remove items"
   ]
  },
  {
   "cell_type": "code",
   "execution_count": 12,
   "metadata": {},
   "outputs": [
    {
     "data": {
      "text/plain": [
       "{'Aishwarya', 'Bhaskar', 'Drakshayani', 'Ramu'}"
      ]
     },
     "execution_count": 12,
     "metadata": {},
     "output_type": "execute_result"
    }
   ],
   "source": [
    "myTeam = {'Drakshayani', 'Ramu', 'Bhaskar', 'Aishwarya'}\n",
    "myTeam"
   ]
  },
  {
   "cell_type": "code",
   "execution_count": 13,
   "metadata": {},
   "outputs": [
    {
     "data": {
      "text/plain": [
       "{'Aishwarya', 'Bhaskar', 'Drakshayani', 'Mallesh', 'Ramu'}"
      ]
     },
     "execution_count": 13,
     "metadata": {},
     "output_type": "execute_result"
    }
   ],
   "source": [
    "# 1.Adding another item to the set\n",
    "myTeam.add('Mallesh')\n",
    "myTeam"
   ]
  },
  {
   "cell_type": "code",
   "execution_count": 14,
   "metadata": {},
   "outputs": [
    {
     "data": {
      "text/plain": [
       "{'Aishwarya',\n",
       " 'Bhaskar',\n",
       " 'Drakshayani',\n",
       " 'Mallesh',\n",
       " 'PAVITHRA',\n",
       " 'RAHUL',\n",
       " 'Ramu',\n",
       " 'SAGAR'}"
      ]
     },
     "execution_count": 14,
     "metadata": {},
     "output_type": "execute_result"
    }
   ],
   "source": [
    "# 2.Adding multiple items to the set\n",
    "myTeam.update(['RAHUL', 'PAVITHRA', 'SAGAR'])\n",
    "myTeam"
   ]
  },
  {
   "cell_type": "code",
   "execution_count": 16,
   "metadata": {},
   "outputs": [
    {
     "data": {
      "text/plain": [
       "{'Aishwarya', 'Bhaskar', 'Drakshayani', 'Mallesh', 'RAHUL', 'Ramu', 'SAGAR'}"
      ]
     },
     "execution_count": 16,
     "metadata": {},
     "output_type": "execute_result"
    }
   ],
   "source": [
    "# 3.Removing the items from the set\n",
    "myTeam.remove('PAVITHRA')\n",
    "myTeam"
   ]
  },
  {
   "cell_type": "code",
   "execution_count": 19,
   "metadata": {},
   "outputs": [
    {
     "data": {
      "text/plain": [
       "{'Aishwarya', 'Bhaskar', 'Drakshayani', 'Mallesh', 'Ramu', 'SAGAR'}"
      ]
     },
     "execution_count": 19,
     "metadata": {},
     "output_type": "execute_result"
    }
   ],
   "source": [
    "# 4.Removing using 'discard' method\n",
    "myTeam.discard('RAHUL')\n",
    "myTeam"
   ]
  },
  {
   "cell_type": "code",
   "execution_count": 20,
   "metadata": {},
   "outputs": [
    {
     "data": {
      "text/plain": [
       "set()"
      ]
     },
     "execution_count": 20,
     "metadata": {},
     "output_type": "execute_result"
    }
   ],
   "source": [
    "# 5.Delete all items in a set\n",
    "myTeam.clear()\n",
    "myTeam"
   ]
  },
  {
   "cell_type": "code",
   "execution_count": 21,
   "metadata": {},
   "outputs": [
    {
     "ename": "NameError",
     "evalue": "name 'myTeam' is not defined",
     "output_type": "error",
     "traceback": [
      "\u001b[1;31m---------------------------------------------------------------------------\u001b[0m",
      "\u001b[1;31mNameError\u001b[0m                                 Traceback (most recent call last)",
      "\u001b[1;32m<ipython-input-21-bc3d63805a98>\u001b[0m in \u001b[0;36m<module>\u001b[1;34m\u001b[0m\n\u001b[0;32m      1\u001b[0m \u001b[1;31m# 6.Delete the set object\u001b[0m\u001b[1;33m\u001b[0m\u001b[1;33m\u001b[0m\u001b[1;33m\u001b[0m\u001b[0m\n\u001b[0;32m      2\u001b[0m \u001b[1;32mdel\u001b[0m \u001b[0mmyTeam\u001b[0m\u001b[1;33m\u001b[0m\u001b[1;33m\u001b[0m\u001b[0m\n\u001b[1;32m----> 3\u001b[1;33m \u001b[0mmyTeam\u001b[0m\u001b[1;33m\u001b[0m\u001b[1;33m\u001b[0m\u001b[0m\n\u001b[0m",
      "\u001b[1;31mNameError\u001b[0m: name 'myTeam' is not defined"
     ]
    }
   ],
   "source": [
    "# 6.Delete the set object\n",
    "del myTeam\n",
    "myTeam"
   ]
  },
  {
   "cell_type": "markdown",
   "metadata": {},
   "source": [
    "### Copy set"
   ]
  },
  {
   "cell_type": "code",
   "execution_count": 22,
   "metadata": {},
   "outputs": [
    {
     "data": {
      "text/plain": [
       "{'eight', 'five', 'four', 'one', 'seven', 'six', 'three', 'two'}"
      ]
     },
     "execution_count": 22,
     "metadata": {},
     "output_type": "execute_result"
    }
   ],
   "source": [
    "mynum = {'one', 'two', 'three', 'four', 'five', 'six', 'seven', 'eight'}\n",
    "mynum"
   ]
  },
  {
   "cell_type": "code",
   "execution_count": 23,
   "metadata": {},
   "outputs": [
    {
     "data": {
      "text/plain": [
       "{'eight', 'five', 'four', 'one', 'seven', 'six', 'three', 'two'}"
      ]
     },
     "execution_count": 23,
     "metadata": {},
     "output_type": "execute_result"
    }
   ],
   "source": [
    "# Create a new reference 'mynum1'\n",
    "mynum1 = mynum\n",
    "mynum1"
   ]
  },
  {
   "cell_type": "code",
   "execution_count": 24,
   "metadata": {},
   "outputs": [
    {
     "data": {
      "text/plain": [
       "(1372737710568, 1372737710568)"
      ]
     },
     "execution_count": 24,
     "metadata": {},
     "output_type": "execute_result"
    }
   ],
   "source": [
    "# Checking id number\n",
    "id(mynum), id(mynum1)"
   ]
  },
  {
   "cell_type": "code",
   "execution_count": 25,
   "metadata": {},
   "outputs": [
    {
     "data": {
      "text/plain": [
       "{'eight', 'five', 'four', 'one', 'seven', 'six', 'three', 'two'}"
      ]
     },
     "execution_count": 25,
     "metadata": {},
     "output_type": "execute_result"
    }
   ],
   "source": [
    "# Copying to the new variable\n",
    "mynum2 = mynum1.copy()\n",
    "mynum2"
   ]
  },
  {
   "cell_type": "markdown",
   "metadata": {},
   "source": [
    "### Set Operation"
   ]
  },
  {
   "cell_type": "code",
   "execution_count": 1,
   "metadata": {},
   "outputs": [],
   "source": [
    "# 1.Union\n",
    "a = {5, 6, 7, 8, 9}\n",
    "b = {8, 9, 10, 11}\n",
    "c = {11, 12, 13, 14}"
   ]
  },
  {
   "cell_type": "code",
   "execution_count": 2,
   "metadata": {},
   "outputs": [
    {
     "data": {
      "text/plain": [
       "{5, 6, 7, 8, 9, 10, 11}"
      ]
     },
     "execution_count": 2,
     "metadata": {},
     "output_type": "execute_result"
    }
   ],
   "source": [
    "# Union of 'a' and 'b' (all eliments from both sides and no duplicates)\n",
    "a | b"
   ]
  },
  {
   "cell_type": "code",
   "execution_count": 3,
   "metadata": {},
   "outputs": [
    {
     "data": {
      "text/plain": [
       "{5, 6, 7, 8, 9, 10, 11}"
      ]
     },
     "execution_count": 3,
     "metadata": {},
     "output_type": "execute_result"
    }
   ],
   "source": [
    "# Union of 'a' and 'b'\n",
    "a.union(b)"
   ]
  },
  {
   "cell_type": "code",
   "execution_count": 4,
   "metadata": {},
   "outputs": [
    {
     "data": {
      "text/plain": [
       "{5, 6, 7, 8, 9, 10, 11, 12, 13, 14}"
      ]
     },
     "execution_count": 4,
     "metadata": {},
     "output_type": "execute_result"
    }
   ],
   "source": [
    "# Union of 'a', 'b' and 'c'\n",
    "a.union(b, c)"
   ]
  },
  {
   "cell_type": "code",
   "execution_count": 5,
   "metadata": {},
   "outputs": [],
   "source": [
    "# 2.Intersection\n",
    "x = {1, 2, 3, 4, 5}\n",
    "y = {4, 5, 6, 7, 8}"
   ]
  },
  {
   "cell_type": "code",
   "execution_count": 6,
   "metadata": {},
   "outputs": [
    {
     "data": {
      "text/plain": [
       "{8, 9}"
      ]
     },
     "execution_count": 6,
     "metadata": {},
     "output_type": "execute_result"
    }
   ],
   "source": [
    "# Intersection of 'a' and 'b' (common items in both sets)\n",
    "a & b"
   ]
  },
  {
   "cell_type": "code",
   "execution_count": 7,
   "metadata": {},
   "outputs": [],
   "source": [
    "# 3.Difference\n",
    "x = {1, 2, 3, 4, 5}\n",
    "y = {4, 5, 6, 7, 8}"
   ]
  },
  {
   "cell_type": "code",
   "execution_count": 10,
   "metadata": {},
   "outputs": [
    {
     "data": {
      "text/plain": [
       "{1, 2, 3}"
      ]
     },
     "execution_count": 10,
     "metadata": {},
     "output_type": "execute_result"
    }
   ],
   "source": [
    "# set of elements that are only in 'x' but not in 'y'\n",
    "x - y"
   ]
  },
  {
   "cell_type": "code",
   "execution_count": 12,
   "metadata": {},
   "outputs": [
    {
     "data": {
      "text/plain": [
       "{1, 2, 3}"
      ]
     },
     "execution_count": 12,
     "metadata": {},
     "output_type": "execute_result"
    }
   ],
   "source": [
    "# DIfference of sets\n",
    "x.difference(y)"
   ]
  },
  {
   "cell_type": "code",
   "execution_count": 13,
   "metadata": {},
   "outputs": [],
   "source": [
    "# 4.Symmetric difference\n",
    "a = {5, 6, 7, 8, 9}\n",
    "b = {8, 9, 10, 11}"
   ]
  },
  {
   "cell_type": "code",
   "execution_count": 14,
   "metadata": {},
   "outputs": [
    {
     "data": {
      "text/plain": [
       "{5, 6, 7, 10, 11}"
      ]
     },
     "execution_count": 14,
     "metadata": {},
     "output_type": "execute_result"
    }
   ],
   "source": [
    "# Symmetric differences (set of elements in a and b but not in both.)\n",
    "a ^ b"
   ]
  },
  {
   "cell_type": "code",
   "execution_count": 15,
   "metadata": {},
   "outputs": [
    {
     "data": {
      "text/plain": [
       "{5, 6, 7, 10, 11}"
      ]
     },
     "execution_count": 15,
     "metadata": {},
     "output_type": "execute_result"
    }
   ],
   "source": [
    "a.symmetric_difference(b)"
   ]
  },
  {
   "cell_type": "code",
   "execution_count": 18,
   "metadata": {},
   "outputs": [],
   "source": [
    "# 5.Subset\n",
    "x = {1, 2, 3, 4, 5, 6, 7, 8, 9}\n",
    "y = {3, 4, 5, 6, 7, 8}\n",
    "z = {10, 20, 30, 40}"
   ]
  },
  {
   "cell_type": "code",
   "execution_count": 19,
   "metadata": {},
   "outputs": [
    {
     "data": {
      "text/plain": [
       "True"
      ]
     },
     "execution_count": 19,
     "metadata": {},
     "output_type": "execute_result"
    }
   ],
   "source": [
    "y.issubset(x)"
   ]
  },
  {
   "cell_type": "code",
   "execution_count": 21,
   "metadata": {},
   "outputs": [
    {
     "data": {
      "text/plain": [
       "True"
      ]
     },
     "execution_count": 21,
     "metadata": {},
     "output_type": "execute_result"
    }
   ],
   "source": [
    "# 6.Superset\n",
    "x.issuperset(y)"
   ]
  },
  {
   "cell_type": "code",
   "execution_count": 22,
   "metadata": {},
   "outputs": [
    {
     "data": {
      "text/plain": [
       "True"
      ]
     },
     "execution_count": 22,
     "metadata": {},
     "output_type": "execute_result"
    }
   ],
   "source": [
    "# 7.Disjoint\n",
    "z.isdisjoint(x)"
   ]
  },
  {
   "cell_type": "code",
   "execution_count": 23,
   "metadata": {},
   "outputs": [
    {
     "data": {
      "text/plain": [
       "False"
      ]
     },
     "execution_count": 23,
     "metadata": {},
     "output_type": "execute_result"
    }
   ],
   "source": [
    "y.isdisjoint(x)"
   ]
  },
  {
   "cell_type": "code",
   "execution_count": 24,
   "metadata": {},
   "outputs": [
    {
     "data": {
      "text/plain": [
       "{1, 2, 3, 4, 5, 6, 7, 8, 9}"
      ]
     },
     "execution_count": 24,
     "metadata": {},
     "output_type": "execute_result"
    }
   ],
   "source": [
    "x"
   ]
  },
  {
   "cell_type": "code",
   "execution_count": 27,
   "metadata": {},
   "outputs": [
    {
     "data": {
      "text/plain": [
       "45"
      ]
     },
     "execution_count": 27,
     "metadata": {},
     "output_type": "execute_result"
    }
   ],
   "source": [
    "sum(x)"
   ]
  },
  {
   "cell_type": "code",
   "execution_count": 28,
   "metadata": {},
   "outputs": [
    {
     "data": {
      "text/plain": [
       "9"
      ]
     },
     "execution_count": 28,
     "metadata": {},
     "output_type": "execute_result"
    }
   ],
   "source": [
    "max(x)"
   ]
  },
  {
   "cell_type": "code",
   "execution_count": 29,
   "metadata": {},
   "outputs": [
    {
     "data": {
      "text/plain": [
       "1"
      ]
     },
     "execution_count": 29,
     "metadata": {},
     "output_type": "execute_result"
    }
   ],
   "source": [
    "min(x)"
   ]
  },
  {
   "cell_type": "code",
   "execution_count": 30,
   "metadata": {},
   "outputs": [
    {
     "data": {
      "text/plain": [
       "9"
      ]
     },
     "execution_count": 30,
     "metadata": {},
     "output_type": "execute_result"
    }
   ],
   "source": [
    "len(x)"
   ]
  },
  {
   "cell_type": "code",
   "execution_count": 31,
   "metadata": {},
   "outputs": [
    {
     "data": {
      "text/plain": [
       "[(0, 1), (1, 2), (2, 3), (3, 4), (4, 5), (5, 6), (6, 7), (7, 8), (8, 9)]"
      ]
     },
     "execution_count": 31,
     "metadata": {},
     "output_type": "execute_result"
    }
   ],
   "source": [
    "list(enumerate(x))"
   ]
  },
  {
   "cell_type": "code",
   "execution_count": 33,
   "metadata": {},
   "outputs": [
    {
     "data": {
      "text/plain": [
       "[9, 8, 7, 6, 5, 4, 3, 2, 1]"
      ]
     },
     "execution_count": 33,
     "metadata": {},
     "output_type": "execute_result"
    }
   ],
   "source": [
    "d = sorted(x, reverse=True)\n",
    "d"
   ]
  },
  {
   "cell_type": "code",
   "execution_count": 34,
   "metadata": {},
   "outputs": [
    {
     "data": {
      "text/plain": [
       "[1, 2, 3, 4, 5, 6, 7, 8, 9]"
      ]
     },
     "execution_count": 34,
     "metadata": {},
     "output_type": "execute_result"
    }
   ],
   "source": [
    "sorted(d)"
   ]
  },
  {
   "cell_type": "markdown",
   "metadata": {},
   "source": [
    "# Dictionary\n",
    "\n",
    "- Dictionaries are used to store data values in key:value pairs.\n",
    "\n",
    "- A dictionary is a collection which is ordered*, changeable and do not allow duplicates.\n",
    "\n",
    "- Dictionaries are written with curly brackets, and have keys and values.\n",
    "\n",
    "- Dictionary items are ordered, changeable, and does not allow duplicates.\n",
    "\n",
    "- Dictionary items are presented in key:value pairs, and can be referred to by using the key name.\n",
    "\n",
    "- When we say that dictionaries are ordered, it means that the items have a defined order, and that order will not change.\n",
    "\n",
    "- Unordered means that the items does not have a defined order, you cannot refer to an item by using an index.\n",
    "\n",
    "- Dictionaries are changeable, meaning that we can change, add or remove items after the dictionary has been created.\n",
    "\n",
    "- Dictionaries cannot have two items with the same key"
   ]
  },
  {
   "cell_type": "code",
   "execution_count": 35,
   "metadata": {},
   "outputs": [
    {
     "name": "stdout",
     "output_type": "stream",
     "text": [
      "{'brand': 'acer', 'model': 'aspire 5', 'year': 2017}\n"
     ]
    }
   ],
   "source": [
    "# 1.Create and print dictionary\n",
    "thisdict = {\n",
    "  \"brand\": \"acer\",\n",
    "  \"model\": \"aspire 5\",\n",
    "  \"year\": 2017\n",
    "}\n",
    "print(thisdict)"
   ]
  },
  {
   "cell_type": "code",
   "execution_count": 39,
   "metadata": {},
   "outputs": [
    {
     "name": "stdout",
     "output_type": "stream",
     "text": [
      "acer\n"
     ]
    }
   ],
   "source": [
    "# Print the \"brand\" value of the dictionary'\n",
    "thisdict = {\n",
    "  \"brand\": \"acer\",\n",
    "  \"model\": \"aspire 5\",\n",
    "  \"year\": 2017\n",
    "}\n",
    "print(thisdict['brand'])"
   ]
  },
  {
   "cell_type": "code",
   "execution_count": 40,
   "metadata": {},
   "outputs": [
    {
     "data": {
      "text/plain": [
       "'aspire 5'"
      ]
     },
     "execution_count": 40,
     "metadata": {},
     "output_type": "execute_result"
    }
   ],
   "source": [
    "thisdict['model']"
   ]
  },
  {
   "cell_type": "code",
   "execution_count": 46,
   "metadata": {},
   "outputs": [
    {
     "name": "stdout",
     "output_type": "stream",
     "text": [
      "{'brand': 'acer', 'model': 'aspire 5', 'year': 2020}\n"
     ]
    }
   ],
   "source": [
    "# Duplicate values will overwrite existing values\n",
    "thisdict = {\n",
    "  \"brand\": \"acer\",\n",
    "  \"model\": \"aspire 5\",\n",
    "  \"year\" : 2017,\n",
    "  \"year\" : 2020\n",
    "}\n",
    "print(thisdict)"
   ]
  },
  {
   "cell_type": "code",
   "execution_count": 47,
   "metadata": {},
   "outputs": [
    {
     "name": "stdout",
     "output_type": "stream",
     "text": [
      "3\n"
     ]
    }
   ],
   "source": [
    "#To determine how many items a dictionary has, use the len() function\n",
    "print(len(thisdict))"
   ]
  },
  {
   "cell_type": "code",
   "execution_count": 52,
   "metadata": {},
   "outputs": [
    {
     "name": "stdout",
     "output_type": "stream",
     "text": [
      "{'brand': 'acer', 'model': 'aspire 5', 'year': 2020, 'True': 'False', 'colors': ['red', 'white', 'blue']}\n"
     ]
    }
   ],
   "source": [
    "#The values in dictionary items can be of any data type\n",
    "#String, int, boolean, and list data types\n",
    "thisdict = {\n",
    "  \"brand\": \"acer\",\n",
    "  \"model\": \"aspire 5\",\n",
    "  \"year\" : 2017,\n",
    "  \"year\" : 2020,\n",
    "  \"True\" : \"False\",\n",
    "  \"colors\": [\"red\", \"white\", \"blue\"],\n",
    "}\n",
    "print(thisdict)"
   ]
  },
  {
   "cell_type": "code",
   "execution_count": 53,
   "metadata": {},
   "outputs": [
    {
     "name": "stdout",
     "output_type": "stream",
     "text": [
      "<class 'dict'>\n"
     ]
    }
   ],
   "source": [
    "# Print the data type of a dictionary\n",
    "print(type(thisdict))"
   ]
  },
  {
   "cell_type": "code",
   "execution_count": 56,
   "metadata": {},
   "outputs": [],
   "source": [
    "# Accessing Dictionary keys\n",
    "myData = {\"Name\":\"Manohar\", \"Age\":22, \"Adhaar no\":718636926600, \"Place\":\"Nanjangud\", \"District\":\"Mysore\", \"State\":\"Karnataka\", }"
   ]
  },
  {
   "cell_type": "code",
   "execution_count": 57,
   "metadata": {},
   "outputs": [
    {
     "data": {
      "text/plain": [
       "dict_keys(['Name', 'Age', 'Adhaar no', 'Place', 'District', 'State'])"
      ]
     },
     "execution_count": 57,
     "metadata": {},
     "output_type": "execute_result"
    }
   ],
   "source": [
    "myData.keys()"
   ]
  },
  {
   "cell_type": "code",
   "execution_count": 60,
   "metadata": {},
   "outputs": [
    {
     "data": {
      "text/plain": [
       "dict_values(['Manohar', 22, 718636926600, 'Nanjangud', 'Mysore', 'Karnataka'])"
      ]
     },
     "execution_count": 60,
     "metadata": {},
     "output_type": "execute_result"
    }
   ],
   "source": [
    "# Accessing Dictionary values\n",
    "myData.values()"
   ]
  },
  {
   "cell_type": "code",
   "execution_count": 61,
   "metadata": {},
   "outputs": [
    {
     "data": {
      "text/plain": [
       "dict_items([('Name', 'Manohar'), ('Age', 22), ('Adhaar no', 718636926600), ('Place', 'Nanjangud'), ('District', 'Mysore'), ('State', 'Karnataka')])"
      ]
     },
     "execution_count": 61,
     "metadata": {},
     "output_type": "execute_result"
    }
   ],
   "source": [
    "# Calling items\n",
    "myData.items()"
   ]
  },
  {
   "cell_type": "code",
   "execution_count": 62,
   "metadata": {},
   "outputs": [
    {
     "data": {
      "text/plain": [
       "718636926600"
      ]
     },
     "execution_count": 62,
     "metadata": {},
     "output_type": "execute_result"
    }
   ],
   "source": [
    "# Calling a particular key\n",
    "myData[\"Adhaar no\"]"
   ]
  },
  {
   "cell_type": "code",
   "execution_count": 64,
   "metadata": {},
   "outputs": [
    {
     "data": {
      "text/plain": [
       "22"
      ]
     },
     "execution_count": 64,
     "metadata": {},
     "output_type": "execute_result"
    }
   ],
   "source": [
    "myData[\"Age\"]"
   ]
  },
  {
   "cell_type": "code",
   "execution_count": 65,
   "metadata": {},
   "outputs": [
    {
     "data": {
      "text/plain": [
       "'Nanjangud'"
      ]
     },
     "execution_count": 65,
     "metadata": {},
     "output_type": "execute_result"
    }
   ],
   "source": [
    "myData[\"Place\"]"
   ]
  },
  {
   "cell_type": "code",
   "execution_count": 66,
   "metadata": {},
   "outputs": [],
   "source": [
    "ourLocations = {(15.609938, 75.212323):{\"Location\":\"Dharwada\",\"Place\":\"shirkol\"},\n",
    "               (12.045356957820832, 76.54118074238947):{\"Location\":\"Nanjangud\",\"Place\":\"Duggahalli\"},\n",
    "               (12.408512727131894, 76.4883244763885):{\"Location\":\"Mysore\",\"Place\":\"Hoskote\"},\n",
    "               (12.345375636216737, 76.62092416740548):{\"Location\":\"Mysore\",\"Place\":\"Kumbarkopplu\"},\n",
    "               (12.15585326594261, 77.10876556222765):{\"Location\":\"Kollegala\",\"Place\":\"Shankanapura\"}}"
   ]
  },
  {
   "cell_type": "code",
   "execution_count": 67,
   "metadata": {},
   "outputs": [
    {
     "data": {
      "text/plain": [
       "{'Location': 'Nanjangud', 'Place': 'Duggahalli'}"
      ]
     },
     "execution_count": 67,
     "metadata": {},
     "output_type": "execute_result"
    }
   ],
   "source": [
    "ourLocations[12.045356957820832, 76.54118074238947]"
   ]
  },
  {
   "cell_type": "code",
   "execution_count": 68,
   "metadata": {},
   "outputs": [
    {
     "data": {
      "text/plain": [
       "'Duggahalli'"
      ]
     },
     "execution_count": 68,
     "metadata": {},
     "output_type": "execute_result"
    }
   ],
   "source": [
    "ourLocations[12.045356957820832, 76.54118074238947][\"Place\"]"
   ]
  },
  {
   "cell_type": "code",
   "execution_count": 70,
   "metadata": {},
   "outputs": [
    {
     "name": "stdout",
     "output_type": "stream",
     "text": [
      "Enter the student name: manu\n",
      "manu is not found in database\n",
      "appending\n",
      "['manohar', 'rahul', 'drakshayani', 'akhil', 'ramu', 'mallesh', 'soundarya', 'sagar', 'manu']\n"
     ]
    }
   ],
   "source": [
    "# Search name and appnding\n",
    "studentList = [\"manohar\",\"rahul\",\"drakshayani\",\"akhil\",\"ramu\",\"mallesh\",\"soundarya\",\"sagar\"]\n",
    "searchName = input(\"Enter the student name: \")\n",
    "if searchName in studentList :\n",
    "    print(searchName,\"is found in database\")\n",
    "else:\n",
    "    print(searchName,\"is not found in database\")\n",
    "    print(\"appending\")\n",
    "    studentList.append(searchName)\n",
    "print(studentList)"
   ]
  },
  {
   "cell_type": "code",
   "execution_count": 71,
   "metadata": {},
   "outputs": [],
   "source": [
    "# Keys can be store immutable() but not using mutable[].\n",
    "adhaar = {(718636926600):\"Manohar\"}"
   ]
  },
  {
   "cell_type": "code",
   "execution_count": 72,
   "metadata": {},
   "outputs": [
    {
     "data": {
      "text/plain": [
       "dict_items([(718636926600, 'Manohar')])"
      ]
     },
     "execution_count": 72,
     "metadata": {},
     "output_type": "execute_result"
    }
   ],
   "source": [
    "adhaar.items()"
   ]
  },
  {
   "cell_type": "markdown",
   "metadata": {},
   "source": [
    "__Working with Missing Keys:__ \n",
    "\n",
    "When working with dictionaries in Python, it's common to encounter situations where a key that you're trying to access is not present in the dictionary. In such cases, you can handle missing keys in various ways, some of which are:\n",
    "\n",
    "- __1.Use the get() method:__ The get() method allows you to specify a default value to return if the key is missing.\n",
    "\n",
    "- __2.Use a conditional statement:__ we can use an if statement to check if the key is present in the dictionary before accessing it.\n",
    "\n",
    "- __3.Use the setdefault() method:__ The setdefault() method sets a default value for a key if it's not already present in the dictionary. It returns the value for the key if it's already present.\n",
    "\n",
    "- __4.Use the defaultdict() function:__ The defaultdict() function from the collections module allows you to specify a default value to return for missing keys."
   ]
  },
  {
   "cell_type": "code",
   "execution_count": 3,
   "metadata": {},
   "outputs": [
    {
     "name": "stdout",
     "output_type": "stream",
     "text": [
      "0\n"
     ]
    }
   ],
   "source": [
    "#1.get() method.\n",
    "my_dict = {\"apple\": 1, \"banana\": 2}\n",
    "print(my_dict.get(\"orange\", 0))"
   ]
  },
  {
   "cell_type": "code",
   "execution_count": 12,
   "metadata": {},
   "outputs": [
    {
     "name": "stdout",
     "output_type": "stream",
     "text": [
      "Key not found\n"
     ]
    }
   ],
   "source": [
    "#2.USe conditional statement\n",
    "my_dict = {\"apple\": 1, \"banana\": 2}\n",
    "if \"orange\" in my_dict:\n",
    "    print(my_dict[\"orange\"])\n",
    "else:\n",
    "    print(\"Key not found\")"
   ]
  },
  {
   "cell_type": "code",
   "execution_count": 13,
   "metadata": {},
   "outputs": [
    {
     "name": "stdout",
     "output_type": "stream",
     "text": [
      "0\n"
     ]
    }
   ],
   "source": [
    "#3.Use the setdefault() method.\n",
    "my_dict = {\"apple\": 1, \"banana\": 2}\n",
    "print(my_dict.setdefault(\"orange\", 0))"
   ]
  },
  {
   "cell_type": "code",
   "execution_count": 14,
   "metadata": {},
   "outputs": [
    {
     "name": "stdout",
     "output_type": "stream",
     "text": [
      "0\n"
     ]
    }
   ],
   "source": [
    "#4.Use the defaultdict() function\n",
    "from collections import defaultdict\n",
    "my_dict = defaultdict(int)\n",
    "my_dict[\"apple\"] = 1\n",
    "my_dict[\"banana\"] = 2\n",
    "print(my_dict[\"orange\"])"
   ]
  }
 ],
 "metadata": {
  "kernelspec": {
   "display_name": "Python 3",
   "language": "python",
   "name": "python3"
  },
  "language_info": {
   "codemirror_mode": {
    "name": "ipython",
    "version": 3
   },
   "file_extension": ".py",
   "mimetype": "text/x-python",
   "name": "python",
   "nbconvert_exporter": "python",
   "pygments_lexer": "ipython3",
   "version": "3.7.6"
  }
 },
 "nbformat": 4,
 "nbformat_minor": 4
}
