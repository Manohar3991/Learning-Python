{
 "cells": [
  {
   "cell_type": "markdown",
   "metadata": {},
   "source": [
    "__1.For-Loops with range fuctions and with Operators__\n",
    "\n",
    "- In Python, a for loop is used to iterate over a sequence (that can be a list, tuple, string, or any other iterable object) and execute a block of code for each item in the sequence.\n",
    "- The loop starts by taking the first item in the sequence and assigning it to the variable item.\n",
    "\n",
    "- The block of code inside the loop is then executed with the current value of item.\n",
    "\n",
    "- After the block of code is executed, the loop moves on to the next item in the sequence and assigns it to item.\n",
    "\n",
    "- The loop continues this process until it has gone through all the items in the sequence."
   ]
  },
  {
   "cell_type": "code",
   "execution_count": 1,
   "metadata": {},
   "outputs": [
    {
     "name": "stdout",
     "output_type": "stream",
     "text": [
      "0\n",
      "1\n",
      "2\n",
      "3\n",
      "4\n",
      "5\n",
      "6\n",
      "7\n",
      "8\n",
      "9\n"
     ]
    }
   ],
   "source": [
    "for i in range(10):    #the for loop iterates sereies of numbers using range fuction.\n",
    "    print(i)"
   ]
  },
  {
   "cell_type": "code",
   "execution_count": 4,
   "metadata": {},
   "outputs": [
    {
     "name": "stdout",
     "output_type": "stream",
     "text": [
      "0\n",
      "2\n",
      "4\n",
      "6\n",
      "8\n",
      "10\n"
     ]
    }
   ],
   "source": [
    "for i in range(0, 11, 2):    #Printing even numbers from 0 to 10.\n",
    "    print(i)"
   ]
  },
  {
   "cell_type": "code",
   "execution_count": 3,
   "metadata": {},
   "outputs": [
    {
     "name": "stdout",
     "output_type": "stream",
     "text": [
      "apple\n",
      "banana\n",
      "cherry\n"
     ]
    }
   ],
   "source": [
    "fruits = [\"apple\", \"banana\", \"cherry\"]\n",
    "for fruit in fruits:                  # the for loop iterates over a list of fruits and prints each fruit on a new line.\n",
    "    print(fruit)"
   ]
  },
  {
   "cell_type": "code",
   "execution_count": 1,
   "metadata": {},
   "outputs": [
    {
     "name": "stdout",
     "output_type": "stream",
     "text": [
      "Manohar\n",
      "Arun kumar\n",
      "Rahul sekar\n"
     ]
    }
   ],
   "source": [
    "names = [\"Manohar\", \"Arun kumar\", \"Rahul sekar\"]\n",
    "for name in names:              # the for loop iterates over a list of names and prints each name on a new line.\n",
    "    print(name)"
   ]
  },
  {
   "cell_type": "code",
   "execution_count": 6,
   "metadata": {},
   "outputs": [
    {
     "name": "stdout",
     "output_type": "stream",
     "text": [
      "The sum is: 15\n"
     ]
    }
   ],
   "source": [
    "#1.Sum of a list\n",
    "numbers = [1, 2, 3, 4, 5]\n",
    "sum = 0\n",
    "\n",
    "for num in numbers:\n",
    "    sum += num\n",
    "\n",
    "print(f\"The sum is: {sum}\")"
   ]
  },
  {
   "cell_type": "code",
   "execution_count": 7,
   "metadata": {},
   "outputs": [
    {
     "name": "stdout",
     "output_type": "stream",
     "text": [
      "The sentence is: Hello world ! \n"
     ]
    }
   ],
   "source": [
    "#2.String Concatenation\n",
    "words = [\"Hello\", \"world\", \"!\"]\n",
    "sentence = \"\"\n",
    "\n",
    "for word in words:\n",
    "    sentence += word + \" \"\n",
    "\n",
    "print(f\"The sentence is: {sentence}\")"
   ]
  },
  {
   "cell_type": "code",
   "execution_count": 2,
   "metadata": {},
   "outputs": [
    {
     "name": "stdout",
     "output_type": "stream",
     "text": [
      "1\n",
      "2\n",
      "3\n",
      "4\n",
      "5\n"
     ]
    }
   ],
   "source": [
    "# for loop with range() function and addition operator\n",
    "for i in range(5):\n",
    "    print(i + 1)"
   ]
  },
  {
   "cell_type": "code",
   "execution_count": 3,
   "metadata": {},
   "outputs": [
    {
     "name": "stdout",
     "output_type": "stream",
     "text": [
      "2\n",
      "4\n",
      "6\n",
      "8\n",
      "10\n"
     ]
    }
   ],
   "source": [
    "# for loop with range() function and multiplication operator\n",
    "for i in range(1, 6):\n",
    "    print(i * 2)"
   ]
  },
  {
   "cell_type": "code",
   "execution_count": 1,
   "metadata": {},
   "outputs": [
    {
     "name": "stdout",
     "output_type": "stream",
     "text": [
      "Enter the number you want to table: 5\n",
      "5 x 1 = 5\n",
      "5 x 2 = 10\n",
      "5 x 3 = 15\n",
      "5 x 4 = 20\n",
      "5 x 5 = 25\n",
      "5 x 6 = 30\n",
      "5 x 7 = 35\n",
      "5 x 8 = 40\n",
      "5 x 9 = 45\n",
      "5 x 10 = 50\n"
     ]
    }
   ],
   "source": [
    "#Tables using range fuction\n",
    "num = int(input(\"Enter the number you want to table: \"))\n",
    "for i in range(1, 11):\n",
    " print(f\"{num} x {i} = {num * i}\")"
   ]
  },
  {
   "cell_type": "code",
   "execution_count": 4,
   "metadata": {},
   "outputs": [
    {
     "name": "stdout",
     "output_type": "stream",
     "text": [
      "[4, 6, 9, 12, 15]\n"
     ]
    }
   ],
   "source": [
    "#Using zip function, we can add the index position numbers.\n",
    "list1 = [1, 2, 3, 4, 5]\n",
    "list2 = [1, 2, 3, 4, 5]\n",
    "list3 = [2, 2, 3, 4, 5]\n",
    "result = []\n",
    "for x, y, z in zip(list1, list2, list3):\n",
    "    result.append(x + y + z)\n",
    "print(result)"
   ]
  },
  {
   "cell_type": "markdown",
   "metadata": {},
   "source": [
    "__2.Loops with Enumeration__\n",
    "\n",
    "- In addition to iterating over the elements of a sequence, you can also use a for-loop with enumeration to keep track of the index of each element. The enumerate() function in Python can be used to iterate over a sequence and keep track of the index of each element. \n",
    "\n",
    "- the enumerate function is used to iterate over the fruits list, and for each element, it returns a tuple containing the index of the element and the element itself. The for statement then iterates over each tuple, and the variables i and fruit are assigned to the index and the element, respectively, for each iteration of the loop. The code block within the loop then prints the value of i and fruit for each iteration.\n"
   ]
  },
  {
   "cell_type": "code",
   "execution_count": 9,
   "metadata": {},
   "outputs": [
    {
     "name": "stdout",
     "output_type": "stream",
     "text": [
      "0 Manohar\n",
      "1 arun\n",
      "2 mallesh\n"
     ]
    }
   ],
   "source": [
    "fruits = ['Manohar', 'arun', 'mallesh']\n",
    "for i, fruit in enumerate(fruits):\n",
    "    print(i, fruit)"
   ]
  },
  {
   "cell_type": "code",
   "execution_count": 11,
   "metadata": {},
   "outputs": [
    {
     "name": "stdout",
     "output_type": "stream",
     "text": [
      "1 rahul\n",
      "2 pavithra\n",
      "3 manish\n",
      "4 ramya\n",
      "5 rakshitha\n",
      "6 sneha\n"
     ]
    }
   ],
   "source": [
    "fruits = ['rahul', 'pavithra', 'manish', 'ramya', 'rakshitha', 'sneha']\n",
    "for i, fruit in enumerate(fruits, 1):    #Second argument specifies that the index should start from 1 instead of 0\n",
    "    print(i, fruit)"
   ]
  },
  {
   "cell_type": "markdown",
   "metadata": {},
   "source": [
    "__3.Nested for loops__\n",
    "\n",
    "- Nested for-loops are when one for-loop is inside another for-loop, allowing you to iterate over two or more sequences at the same time. This is useful when you need to perform an operation on each combination of elements from the different sequences.\n",
    "\n",
    "- the outer for-loop iterates over the numbers list, and the inner for-loop iterates over the letters list. For each iteration of the outer loop, the inner loop iterates over the entire letters list, printing each combination of a number and a letter.\n",
    "\n",
    "- we can nest for-loops to iterate over any number of sequences. Here's an example of a nested for-loop that iterates over a list of colors and a list of sizes, and prints each combination of a color and a size"
   ]
  },
  {
   "cell_type": "code",
   "execution_count": 14,
   "metadata": {},
   "outputs": [
    {
     "name": "stdout",
     "output_type": "stream",
     "text": [
      "1 a\n",
      "1 b\n",
      "1 c\n",
      "2 a\n",
      "2 b\n",
      "2 c\n",
      "3 a\n",
      "3 b\n",
      "3 c\n"
     ]
    }
   ],
   "source": [
    "numbers = [1, 2, 3]\n",
    "letters = ['a', 'b', 'c']\n",
    "for num in numbers:\n",
    "    for letter in letters:\n",
    "        print(num, letter)"
   ]
  },
  {
   "cell_type": "code",
   "execution_count": 16,
   "metadata": {},
   "outputs": [
    {
     "name": "stdout",
     "output_type": "stream",
     "text": [
      "red small\n",
      "red medium\n",
      "red large\n",
      "green small\n",
      "green medium\n",
      "green large\n",
      "blue small\n",
      "blue medium\n",
      "blue large\n"
     ]
    }
   ],
   "source": [
    "colors = ['red', 'green', 'blue']\n",
    "sizes = ['small', 'medium', 'large']\n",
    "for color in colors:\n",
    "    for size in sizes:\n",
    "        print(color, size)"
   ]
  },
  {
   "cell_type": "code",
   "execution_count": 17,
   "metadata": {},
   "outputs": [
    {
     "name": "stdout",
     "output_type": "stream",
     "text": [
      "[(1, 4), (1, 5), (1, 6), (2, 4), (2, 5), (2, 6), (3, 4), (3, 5), (3, 6)]\n"
     ]
    }
   ],
   "source": [
    "list1 = [1, 2, 3]\n",
    "list2 = [4, 5, 6]\n",
    "pairs = []\n",
    "for num1 in list1:\n",
    "    for num2 in list2:\n",
    "        pairs.append((num1, num2))\n",
    "print(pairs)"
   ]
  },
  {
   "cell_type": "code",
   "execution_count": 27,
   "metadata": {},
   "outputs": [
    {
     "name": "stdout",
     "output_type": "stream",
     "text": [
      "1\t2\t3\t4\t5\t6\t7\t8\t9\t10\t\n",
      "2\t4\t6\t8\t10\t12\t14\t16\t18\t20\t\n",
      "3\t6\t9\t12\t15\t18\t21\t24\t27\t30\t\n",
      "4\t8\t12\t16\t20\t24\t28\t32\t36\t40\t\n",
      "5\t10\t15\t20\t25\t30\t35\t40\t45\t50\t\n",
      "6\t12\t18\t24\t30\t36\t42\t48\t54\t60\t\n",
      "7\t14\t21\t28\t35\t42\t49\t56\t63\t70\t\n",
      "8\t16\t24\t32\t40\t48\t56\t64\t72\t80\t\n",
      "9\t18\t27\t36\t45\t54\t63\t72\t81\t90\t\n",
      "10\t20\t30\t40\t50\t60\t70\t80\t90\t100\t\n"
     ]
    }
   ],
   "source": [
    "for i in range(1, 11):       # Printing multiplication table from 1 to 10:\n",
    "    for j in range(1, 11):\n",
    "        print(i * j, end=\"\\t\")\n",
    "    print()"
   ]
  },
  {
   "cell_type": "markdown",
   "metadata": {},
   "source": [
    "__3.While Loops__\n",
    "\n",
    "- A while loop in programming is a control flow statement that allows you to execute a block of code repeatedly as long as a condition is true. The loop will continue to execute as long as the condition remains true.\n",
    "\n",
    "- The condition is typically a Boolean expression that evaluates to true or false. The code inside the while loop is executed repeatedly as long as the condition is true. If the condition is false when the loop is first encountered, the code inside the loop will not be executed at all."
   ]
  },
  {
   "cell_type": "code",
   "execution_count": 1,
   "metadata": {},
   "outputs": [
    {
     "name": "stdout",
     "output_type": "stream",
     "text": [
      "1\n",
      "2\n",
      "3\n",
      "4\n",
      "5\n"
     ]
    }
   ],
   "source": [
    "num = 1        #Print numbers from 1 to 5 using a while loop\n",
    "while num <= 5:\n",
    "    print(num)\n",
    "    num += 1"
   ]
  },
  {
   "cell_type": "code",
   "execution_count": 2,
   "metadata": {},
   "outputs": [
    {
     "name": "stdout",
     "output_type": "stream",
     "text": [
      "Sum of even numbers from 1 to 10: 30\n"
     ]
    }
   ],
   "source": [
    "num = 1       #Calculate the sum of all even numbers from 1 to 10 using a while loop\n",
    "sum = 0\n",
    "\n",
    "while num <= 10:\n",
    "    if num % 2 == 0:\n",
    "        sum += num\n",
    "    num += 1\n",
    "\n",
    "print(f\"Sum of even numbers from 1 to 10: {sum}\")"
   ]
  },
  {
   "cell_type": "code",
   "execution_count": 5,
   "metadata": {},
   "outputs": [
    {
     "name": "stdout",
     "output_type": "stream",
     "text": [
      "Enter password: Manohar@1\n",
      "Access granted!\n"
     ]
    }
   ],
   "source": [
    "password = \"Manohar@1\"   #Asking the user for a password and keep asking until the correct password is entered using a while loop\n",
    "input_password = input(\"Enter password: \")\n",
    "\n",
    "while input_password != password:\n",
    "    print(\"Incorrect password!\")\n",
    "    input_password = input(\"Enter password: \")\n",
    "\n",
    "print(\"Access granted!\")"
   ]
  },
  {
   "cell_type": "code",
   "execution_count": 6,
   "metadata": {},
   "outputs": [
    {
     "name": "stdout",
     "output_type": "stream",
     "text": [
      "Original string: Manohar\n",
      "Reversed string: rahonaM\n"
     ]
    }
   ],
   "source": [
    "string = \"Manohar\"   #Reversing string using a while loop\n",
    "reversed_string = \"\"\n",
    "index = len(string) - 1\n",
    "\n",
    "while index >= 0:\n",
    "    reversed_string += string[index]\n",
    "    index -= 1\n",
    "\n",
    "print(\"Original string:\", string)\n",
    "print(\"Reversed string:\", reversed_string)"
   ]
  },
  {
   "cell_type": "code",
   "execution_count": 10,
   "metadata": {},
   "outputs": [
    {
     "name": "stdout",
     "output_type": "stream",
     "text": [
      "Factorial of 5 is 120\n"
     ]
    }
   ],
   "source": [
    "num = 5        #Calculating the factorial of a given number using a while loop\n",
    "factorial = 1\n",
    "i = 1\n",
    "\n",
    "while i <= num:\n",
    "    factorial *= i\n",
    "    i += 1\n",
    "\n",
    "print(f\"Factorial of {num} is {factorial}\")"
   ]
  },
  {
   "cell_type": "code",
   "execution_count": 11,
   "metadata": {},
   "outputs": [
    {
     "name": "stdout",
     "output_type": "stream",
     "text": [
      "7 x 1 = 7\n",
      "7 x 2 = 14\n",
      "7 x 3 = 21\n",
      "7 x 4 = 28\n",
      "7 x 5 = 35\n",
      "7 x 6 = 42\n",
      "7 x 7 = 49\n",
      "7 x 8 = 56\n",
      "7 x 9 = 63\n",
      "7 x 10 = 70\n"
     ]
    }
   ],
   "source": [
    "#Print a multiplication table for a given number using a while loop\n",
    "num = 7\n",
    "i = 1\n",
    "\n",
    "while i <= 10:\n",
    "    print(num, \"x\", i, \"=\", num * i)\n",
    "    i += 1"
   ]
  },
  {
   "cell_type": "code",
   "execution_count": 12,
   "metadata": {},
   "outputs": [
    {
     "name": "stdout",
     "output_type": "stream",
     "text": [
      "Guess a number between 1 and 10: 7\n",
      "Congratulations, you guessed the number!\n"
     ]
    }
   ],
   "source": [
    "#Asking the user to guess a number between 1 and 10 and keep asking until the correct number is guessed using a while loop\n",
    "number = 7\n",
    "guess = int(input(\"Guess a number between 1 and 10: \"))\n",
    "while guess != number:\n",
    "    print(\"Wrong guess, try again!\")\n",
    "    guess = int(input(\"Guess a number between 1 and 10: \"))\n",
    "print(\"Congratulations, you guessed the number!\")"
   ]
  },
  {
   "cell_type": "code",
   "execution_count": 14,
   "metadata": {},
   "outputs": [
    {
     "name": "stdout",
     "output_type": "stream",
     "text": [
      "The largest number in the list is: 99\n"
     ]
    }
   ],
   "source": [
    "#Finding the largest number in a given list using a while loop\n",
    "list1 = [10, 20, 4, 45, 99]\n",
    "index = 0\n",
    "largest = list1[index]\n",
    "\n",
    "while index < len(list1):\n",
    "    if list1[index] > largest:\n",
    "        largest = list1[index]\n",
    "    index += 1\n",
    "\n",
    "print(f\"The largest number in the list is: {largest}\")"
   ]
  },
  {
   "cell_type": "markdown",
   "metadata": {},
   "source": [
    "__Loop Controls:__\n",
    "\n",
    "Loop controls are used to change the flow of execution within a loop in a program.loop controls are:\n",
    " - Break statement\n",
    " - Continue statement\n",
    " - Pass statement"
   ]
  },
  {
   "cell_type": "code",
   "execution_count": 1,
   "metadata": {},
   "outputs": [
    {
     "name": "stdout",
     "output_type": "stream",
     "text": [
      "1\n",
      "2\n",
      "3\n",
      "4\n"
     ]
    }
   ],
   "source": [
    "#Break\n",
    "for i in range(1, 11):\n",
    "    if i == 5:\n",
    "        break\n",
    "    print(i)"
   ]
  },
  {
   "cell_type": "code",
   "execution_count": 2,
   "metadata": {},
   "outputs": [
    {
     "name": "stdout",
     "output_type": "stream",
     "text": [
      "1\n",
      "2\n",
      "3\n",
      "4\n",
      "6\n",
      "7\n",
      "8\n",
      "9\n",
      "10\n"
     ]
    }
   ],
   "source": [
    "#Continue statement\n",
    "for i in range(1, 11):\n",
    "    if i == 5:\n",
    "        continue\n",
    "    print(i)"
   ]
  },
  {
   "cell_type": "code",
   "execution_count": 3,
   "metadata": {},
   "outputs": [
    {
     "name": "stdout",
     "output_type": "stream",
     "text": [
      "1\n",
      "3\n",
      "5\n",
      "7\n",
      "9\n"
     ]
    }
   ],
   "source": [
    "#Pass statement\n",
    "for i in range(1, 11):\n",
    "    if i % 2 == 0:\n",
    "        pass\n",
    "    else:\n",
    "        print(i)"
   ]
  },
  {
   "cell_type": "code",
   "execution_count": 4,
   "metadata": {},
   "outputs": [
    {
     "name": "stdout",
     "output_type": "stream",
     "text": [
      "1 1\n",
      "1 2\n",
      "1 3\n",
      "2 1\n",
      "3 1\n",
      "3 2\n",
      "3 3\n"
     ]
    }
   ],
   "source": [
    "#Nested loop with break: This example shows how to use a break statement to immediately terminate a nested loop:\n",
    "for i in range(1, 4):\n",
    "    for j in range(1, 4):\n",
    "        if i == 2 and j == 2:\n",
    "            break\n",
    "        print(i, j)"
   ]
  },
  {
   "cell_type": "code",
   "execution_count": 5,
   "metadata": {},
   "outputs": [
    {
     "name": "stdout",
     "output_type": "stream",
     "text": [
      "1\n",
      "2\n",
      "4\n",
      "5\n"
     ]
    }
   ],
   "source": [
    "#While loop with continue: This example shows how to use a continue statement to skip over iterations in a while loop:\n",
    "i = 0\n",
    "while i < 5:\n",
    "    i += 1\n",
    "    if i == 3:\n",
    "        continue\n",
    "    print(i)"
   ]
  },
  {
   "cell_type": "code",
   "execution_count": 6,
   "metadata": {},
   "outputs": [
    {
     "name": "stdout",
     "output_type": "stream",
     "text": [
      "apple\n",
      "banana\n",
      "kiwi\n"
     ]
    }
   ],
   "source": [
    "#For loop with pass: This example shows how to use a pass statement to do nothing in a for loop:\n",
    "fruits = ['apple', 'banana', 'orange', 'kiwi']\n",
    "for fruit in fruits:\n",
    "    if fruit == 'orange':\n",
    "        pass\n",
    "    else:\n",
    "        print(fruit)"
   ]
  },
  {
   "cell_type": "markdown",
   "metadata": {},
   "source": [
    "__Comprehension:__\n",
    "\n",
    "Comprehensions provide us with a short and concise way to construct new sequences (such as lists, set, dictionary etc.) using sequences which have been already defined.\n",
    "\n",
    "- Comprehensions in Python are a concise way to create collections such as lists, sets, and dictionaries."
   ]
  },
  {
   "cell_type": "code",
   "execution_count": 7,
   "metadata": {},
   "outputs": [
    {
     "name": "stdout",
     "output_type": "stream",
     "text": [
      "[1, 4, 9, 16, 25, 36, 49, 64, 81, 100]\n"
     ]
    }
   ],
   "source": [
    "#List comprehension: This creates a new list based on an existing list or other iterable.\n",
    "# Creating a list of squares of numbers from 1 to 10\n",
    "squares = [x*x for x in range(1, 11)]\n",
    "print(squares)"
   ]
  },
  {
   "cell_type": "code",
   "execution_count": 12,
   "metadata": {},
   "outputs": [],
   "source": [
    "# Traditional method\n",
    "even_list = []\n",
    "for i in range(1,21):\n",
    "    if i%2 == 0:\n",
    "        even_list.append(i)"
   ]
  },
  {
   "cell_type": "code",
   "execution_count": 13,
   "metadata": {},
   "outputs": [
    {
     "name": "stdout",
     "output_type": "stream",
     "text": [
      "[2, 4, 6, 8, 10, 12, 14, 16, 18, 20]\n"
     ]
    }
   ],
   "source": [
    "print(even_list)"
   ]
  },
  {
   "cell_type": "code",
   "execution_count": 14,
   "metadata": {},
   "outputs": [
    {
     "name": "stdout",
     "output_type": "stream",
     "text": [
      "[1, 2, 3, 4, 5, 6, 7, 8, 9, 10, 11, 12, 13, 14, 15, 16, 17, 18, 19, 20]\n"
     ]
    }
   ],
   "source": [
    "# Comprehension method\n",
    "even_list_compro = [i for i in range(1,21)]\n",
    "print(even_list_compro)"
   ]
  },
  {
   "cell_type": "code",
   "execution_count": 8,
   "metadata": {},
   "outputs": [
    {
     "name": "stdout",
     "output_type": "stream",
     "text": [
      "{2, 4, 6, 8, 10}\n"
     ]
    }
   ],
   "source": [
    "#Set comprehension: This creates a new set based on an existing list or other iterable.\n",
    "# Creating a set of even numbers from 1 to 10\n",
    "evens = {x for x in range(1, 11) if x % 2 == 0}\n",
    "print(evens)"
   ]
  },
  {
   "cell_type": "code",
   "execution_count": 9,
   "metadata": {},
   "outputs": [
    {
     "name": "stdout",
     "output_type": "stream",
     "text": [
      "{1: 1, 2: 4, 3: 9, 4: 16, 5: 25, 6: 36, 7: 49, 8: 64, 9: 81, 10: 100}\n"
     ]
    }
   ],
   "source": [
    "#Dictionary comprehension: This creates a new dictionary based on an existing dictionary or other iterable.\n",
    "# Creating a dictionary of squares of numbers from 1 to 10\n",
    "squares = {x: x*x for x in range(1, 11)}\n",
    "print(squares)"
   ]
  },
  {
   "cell_type": "markdown",
   "metadata": {},
   "source": [
    "__Functions:__\n",
    "- Functions in Python are blocks of code that can be called and executed repeatedly throughout a program. They are defined using the def keyword, followed by the function name, and any arguments that the function takes.\n",
    "- functions are a powerful tool for organizing and reusing code in Python. They can take arguments, return values, and have optional arguments with default values. Functions can also be defined within other functions and can be passed as arguments to other functions, making them a versatile tool for solving complex programming problems."
   ]
  },
  {
   "cell_type": "code",
   "execution_count": 16,
   "metadata": {},
   "outputs": [],
   "source": [
    "def add_numbers(x, y):\n",
    "    sum = x + y\n",
    "    return sum"
   ]
  },
  {
   "cell_type": "markdown",
   "metadata": {},
   "source": [
    "In this example, the def keyword is used to define the function add_numbers, which takes two arguments x and y. The body of the function calculates their sum and returns it using the return keyword."
   ]
  },
  {
   "cell_type": "code",
   "execution_count": 17,
   "metadata": {},
   "outputs": [
    {
     "name": "stdout",
     "output_type": "stream",
     "text": [
      "5\n"
     ]
    }
   ],
   "source": [
    "#To call the function, you simply pass in values for the arguments, like this:\n",
    "result = add_numbers(2, 3)\n",
    "print(result)"
   ]
  },
  {
   "cell_type": "markdown",
   "metadata": {},
   "source": [
    "In this example, we call the add_numbers function with arguments 2 and 3, and assign the result to the variable result. We then print the value of result, which is 5."
   ]
  },
  {
   "cell_type": "code",
   "execution_count": 18,
   "metadata": {},
   "outputs": [],
   "source": [
    "def greet(name, greeting='Hello'):\n",
    "    print(greeting + ', ' + name + '!')"
   ]
  },
  {
   "cell_type": "code",
   "execution_count": 22,
   "metadata": {},
   "outputs": [
    {
     "name": "stdout",
     "output_type": "stream",
     "text": [
      "Hello, Manohar!\n",
      "Good morning, have a nice day!\n"
     ]
    }
   ],
   "source": [
    "greet('Manohar')\n",
    "greet('have a nice day', 'Good morning')"
   ]
  },
  {
   "cell_type": "markdown",
   "metadata": {},
   "source": [
    "In this example, the greet function takes two arguments: name and greeting, with a default value of 'Hello'. If no value is specified for greeting when the function is called, it will use the default value."
   ]
  },
  {
   "cell_type": "code",
   "execution_count": 23,
   "metadata": {},
   "outputs": [
    {
     "name": "stdout",
     "output_type": "stream",
     "text": [
      "6\n"
     ]
    }
   ],
   "source": [
    "def multiply_numbers(x, y):\n",
    "    product = x * y\n",
    "    return product\n",
    "\n",
    "result = multiply_numbers(2, 3)\n",
    "print(result)"
   ]
  },
  {
   "cell_type": "code",
   "execution_count": 24,
   "metadata": {},
   "outputs": [],
   "source": [
    "# CALCULATOR FUNCTION\n",
    "def calculator(a, b, operator):\n",
    "    if operator == \"+\":\n",
    "        print(f\"The addition value is: {a+b}\")\n",
    "    elif operator == \"-\":\n",
    "        print(f\"The substraction value is: {a-b}\")\n",
    "    elif operator == \"*\":\n",
    "        print(f\"The multiplication value is: {a*b}\")\n",
    "    elif operator == \"/\":\n",
    "        print(f\"The division value is: {a/b}\")\n",
    "    else:\n",
    "        print(\"error\")"
   ]
  },
  {
   "cell_type": "code",
   "execution_count": 25,
   "metadata": {},
   "outputs": [
    {
     "name": "stdout",
     "output_type": "stream",
     "text": [
      "The addition value is: 70\n"
     ]
    }
   ],
   "source": [
    "calculator(25, 45, \"+\")"
   ]
  },
  {
   "cell_type": "code",
   "execution_count": 26,
   "metadata": {},
   "outputs": [
    {
     "name": "stdout",
     "output_type": "stream",
     "text": [
      "The substraction value is: 75\n"
     ]
    }
   ],
   "source": [
    "calculator(55, 20, \"-\")"
   ]
  },
  {
   "cell_type": "code",
   "execution_count": 27,
   "metadata": {},
   "outputs": [
    {
     "name": "stdout",
     "output_type": "stream",
     "text": [
      "The multiplication value is: 10\n"
     ]
    }
   ],
   "source": [
    "calculator(5, 5, \"*\")"
   ]
  },
  {
   "cell_type": "code",
   "execution_count": 28,
   "metadata": {},
   "outputs": [
    {
     "name": "stdout",
     "output_type": "stream",
     "text": [
      "The division value is: 57\n"
     ]
    }
   ],
   "source": [
    "calculator(55, 2, \"/\")"
   ]
  },
  {
   "cell_type": "markdown",
   "metadata": {},
   "source": [
    "__Local and Global Variable:__\n",
    "\n",
    "\n",
    "- __Local variables:__ A variable that is defined within a function is called a local variable. It can only be accessed within the function it was defined in. If you try to access it outside the function, you will get an error.\n",
    "\n",
    "- __Global variables:__ A variable that is defined outside a function is called a global variable. It can be accessed from any part of the code, including all functions."
   ]
  },
  {
   "cell_type": "code",
   "execution_count": 29,
   "metadata": {},
   "outputs": [
    {
     "name": "stdout",
     "output_type": "stream",
     "text": [
      "3\n"
     ]
    }
   ],
   "source": [
    "#Local variable\n",
    "def my_function():\n",
    "    x = 3\n",
    "    print(x)\n",
    "\n",
    "my_function()"
   ]
  },
  {
   "cell_type": "markdown",
   "metadata": {},
   "source": [
    "In this example, the variable x is defined inside the function my_function, so it is a local variable. The variable x is only accessible within the function, so when the function is called, the value of x is printed to the console."
   ]
  },
  {
   "cell_type": "code",
   "execution_count": 30,
   "metadata": {},
   "outputs": [
    {
     "name": "stdout",
     "output_type": "stream",
     "text": [
      "3\n"
     ]
    }
   ],
   "source": [
    "#Global variable \n",
    "x = 3\n",
    "\n",
    "def my_function():\n",
    "    print(x)\n",
    "\n",
    "my_function()"
   ]
  },
  {
   "cell_type": "markdown",
   "metadata": {},
   "source": [
    "n this example, the variable x is defined outside the function my_function, so it is a global variable. The variable x is accessible anywhere in the code, so when the function is called, the value of x is printed to the console."
   ]
  },
  {
   "cell_type": "code",
   "execution_count": 31,
   "metadata": {},
   "outputs": [
    {
     "name": "stdout",
     "output_type": "stream",
     "text": [
      "4\n",
      "3\n"
     ]
    }
   ],
   "source": [
    "#Local and global variable\n",
    "x = 3\n",
    "\n",
    "def my_function():\n",
    "    x = 4\n",
    "    print(x)\n",
    "\n",
    "my_function()\n",
    "print(x)"
   ]
  },
  {
   "cell_type": "markdown",
   "metadata": {},
   "source": [
    "In this example, the variable x is defined both globally and locally. When the function my_function is called, the local variable x with value 4 is used inside the function, so that value is printed to the console. However, outside the function, the global variable x with value 3 is still accessible, so that value is printed to the console after the function call."
   ]
  },
  {
   "cell_type": "code",
   "execution_count": 32,
   "metadata": {},
   "outputs": [
    {
     "name": "stdout",
     "output_type": "stream",
     "text": [
      "4\n"
     ]
    }
   ],
   "source": [
    "#Global variable modification\n",
    "x = 3\n",
    "\n",
    "def my_function():\n",
    "    global x\n",
    "    x = 4\n",
    "\n",
    "my_function()\n",
    "print(x)"
   ]
  },
  {
   "cell_type": "markdown",
   "metadata": {},
   "source": [
    "In this example, the global keyword is used inside the function my_function to indicate that the global variable x should be modified. When the function is called, the value of the global variable x is changed to 4, so that value is printed to the console after the function call."
   ]
  },
  {
   "cell_type": "markdown",
   "metadata": {},
   "source": [
    "__Nested Functions:__\n",
    "\n",
    "a nested function is a function defined inside another function. It is also called a local function because it is only accessible within the scope of the outer function."
   ]
  },
  {
   "cell_type": "code",
   "execution_count": 33,
   "metadata": {},
   "outputs": [
    {
     "name": "stdout",
     "output_type": "stream",
     "text": [
      "8\n"
     ]
    }
   ],
   "source": [
    "def outer_function(x):\n",
    "    def inner_function(y):\n",
    "        return x + y\n",
    "    return inner_function\n",
    "\n",
    "closure = outer_function(5)\n",
    "result = closure(3)\n",
    "print(result)"
   ]
  },
  {
   "cell_type": "markdown",
   "metadata": {},
   "source": [
    "In this example, outer_function returns inner_function which is defined inside it. The returned function inner_function has access to the variable x from the outer function, even after outer_function has finished executing. This is an example of a closure, where a function retains access to the variables in its enclosing scope."
   ]
  },
  {
   "cell_type": "code",
   "execution_count": 34,
   "metadata": {},
   "outputs": [
    {
     "name": "stdout",
     "output_type": "stream",
     "text": [
      "The value of x inside inner function is: 15\n",
      "The value of x outside inner function is: 15\n"
     ]
    }
   ],
   "source": [
    "def outer_function():\n",
    "    x = 10\n",
    "    def inner_function():\n",
    "        nonlocal x\n",
    "        x += 5\n",
    "        print(\"The value of x inside inner function is:\", x)\n",
    "    inner_function()\n",
    "    print(\"The value of x outside inner function is:\", x)\n",
    "\n",
    "outer_function()"
   ]
  },
  {
   "cell_type": "markdown",
   "metadata": {},
   "source": [
    "In this example, inner_function is nested inside outer_function, and has access to the variable x defined in outer_function. By using the nonlocal keyword, we can modify the value of x from within inner_function. The output shows that the value of x is modified inside inner_function, and the modified value is also reflected outside of it."
   ]
  },
  {
   "cell_type": "code",
   "execution_count": 35,
   "metadata": {},
   "outputs": [
    {
     "name": "stdout",
     "output_type": "stream",
     "text": [
      "8 13\n"
     ]
    }
   ],
   "source": [
    "def outer_function(x):\n",
    "    def inner_function(y):\n",
    "        return x + y\n",
    "    return inner_function\n",
    "\n",
    "closure1 = outer_function(5)\n",
    "closure2 = outer_function(10)\n",
    "result1 = closure1(3)\n",
    "result2 = closure2(3)\n",
    "print(result1, result2)"
   ]
  },
  {
   "cell_type": "markdown",
   "metadata": {},
   "source": [
    "In this example, we define outer_function which returns inner_function. We call outer_function twice with different values for x, creating two closures closure1 and closure2. Each closure has its own copy of x from the respective call to outer_function. We then call each closure with the same argument 3, resulting in different return values based on the value of x for each closure."
   ]
  },
  {
   "cell_type": "markdown",
   "metadata": {},
   "source": [
    "__Lambda Function:__\n",
    "    \n",
    "Lambda functions are a type of anonymous function in Python. They are created using the keyword lambda and allow you to define a simple function without needing to use the def keyword."
   ]
  },
  {
   "cell_type": "code",
   "execution_count": 36,
   "metadata": {},
   "outputs": [
    {
     "name": "stdout",
     "output_type": "stream",
     "text": [
      "10\n"
     ]
    }
   ],
   "source": [
    "double = lambda x: x * 2\n",
    "result = double(5)\n",
    "print(result) # Output: 10"
   ]
  },
  {
   "cell_type": "markdown",
   "metadata": {},
   "source": [
    "In this example, we define a lambda function double that takes one argument x and returns x * 2. We then call the lambda function with the argument 5, which results in the output 10."
   ]
  },
  {
   "cell_type": "code",
   "execution_count": 37,
   "metadata": {},
   "outputs": [
    {
     "name": "stdout",
     "output_type": "stream",
     "text": [
      "[(3, 1), (1, 2), (2, 7), (5, 10)]\n"
     ]
    }
   ],
   "source": [
    "points = [(1, 2), (3, 1), (5, 10), (2, 7)]\n",
    "sorted_points = sorted(points, key=lambda x: x[1])\n",
    "print(sorted_points) # Output: [(3, 1), (1, 2), (2, 7), (5, 10)]"
   ]
  },
  {
   "cell_type": "markdown",
   "metadata": {},
   "source": [
    "In this example, we have a list of points, where each point is represented as a tuple of two integers. We want to sort the points based on their second coordinate (i.e., the y value), so we use the sorted function and pass a lambda function as the key argument. The lambda function takes one argument x, which is a point tuple, and returns the second element of the tuple (i.e., the y value). This results in the list of points being sorted by their y value."
   ]
  },
  {
   "cell_type": "code",
   "execution_count": 39,
   "metadata": {},
   "outputs": [
    {
     "name": "stdout",
     "output_type": "stream",
     "text": [
      "[1, 4, 9, 16, 25]\n",
      "[1, 8, 27, 64, 125]\n"
     ]
    }
   ],
   "source": [
    "def operate_on_numbers(numbers, operation):\n",
    "    return [operation(x) for x in numbers]\n",
    "\n",
    "numbers = [1, 2, 3, 4, 5]\n",
    "squared_numbers = operate_on_numbers(numbers, lambda x: x ** 2)\n",
    "cubed_numbers = operate_on_numbers(numbers, lambda x: x ** 3)\n",
    "print(squared_numbers)\n",
    "print(cubed_numbers)"
   ]
  },
  {
   "cell_type": "markdown",
   "metadata": {},
   "source": [
    "In this example, we define a function operate_on_numbers that takes a list of numbers and a function operation as arguments. The function applies the operation function to each number in the list using a list comprehension, and returns the resulting list. We then call operate_on_numbers twice with different lambda functions as the operation argument, resulting in two lists of squared and cubed numbers, respectively."
   ]
  },
  {
   "cell_type": "markdown",
   "metadata": {},
   "source": [
    "__Functions as Arguments to Functions:__\n",
    "    \n",
    "- functions can be passed as arguments to other functions. This is a powerful feature that allows us to write higher-order functions, which are functions that operate on other functions."
   ]
  },
  {
   "cell_type": "code",
   "execution_count": 40,
   "metadata": {},
   "outputs": [
    {
     "name": "stdout",
     "output_type": "stream",
     "text": [
      "25\n"
     ]
    }
   ],
   "source": [
    "def apply_operation(x, operation):\n",
    "    return operation(x)\n",
    "\n",
    "def square(x):\n",
    "    return x ** 2\n",
    "\n",
    "result = apply_operation(5, square)\n",
    "print(result)"
   ]
  },
  {
   "cell_type": "markdown",
   "metadata": {},
   "source": [
    "In this example, we define a function apply_operation that takes two arguments x and operation. The function applies the operation function to the input x and returns the result. We also define a function square that squares its input. We then call apply_operation with the arguments 5 and square, which results in the output 25 (i.e., square(5))."
   ]
  },
  {
   "cell_type": "code",
   "execution_count": 41,
   "metadata": {},
   "outputs": [
    {
     "name": "stdout",
     "output_type": "stream",
     "text": [
      "55\n",
      "225\n"
     ]
    }
   ],
   "source": [
    "def sum_numbers(numbers):\n",
    "    return sum(numbers)\n",
    "\n",
    "def apply_to_each(numbers, operation):\n",
    "    return [operation(x) for x in numbers]\n",
    "\n",
    "numbers = [1, 2, 3, 4, 5]\n",
    "sum_of_squares = sum(apply_to_each(numbers, lambda x: x ** 2))\n",
    "sum_of_cubes = sum(apply_to_each(numbers, lambda x: x ** 3))\n",
    "print(sum_of_squares)\n",
    "print(sum_of_cubes)"
   ]
  },
  {
   "cell_type": "markdown",
   "metadata": {},
   "source": [
    "In this example, we define a function sum_numbers that takes a list of numbers and returns the sum of the numbers. We also define a function apply_to_each that takes a list of numbers and a function operation, and returns a new list with the operation applied to each element of the input list. We then call apply_to_each twice with different lambda functions as the operation argument, resulting in two lists of squared and cubed numbers, respectively. We use the sum function to compute the sum of each list, resulting in the output 55 and 225."
   ]
  },
  {
   "cell_type": "code",
   "execution_count": 43,
   "metadata": {},
   "outputs": [
    {
     "name": "stdout",
     "output_type": "stream",
     "text": [
      "625\n"
     ]
    }
   ],
   "source": [
    "def apply_twice(x, operation):\n",
    "    return operation(operation(x))\n",
    "\n",
    "def square(x):\n",
    "    return x ** 2\n",
    "\n",
    "result = apply_twice(5, square)\n",
    "print(result)"
   ]
  },
  {
   "cell_type": "markdown",
   "metadata": {},
   "source": [
    "In this example, we define a function apply_twice that takes two arguments x and operation. The function applies the operation function to the input x twice and returns the result. We also define a function square that squares its input. We then call apply_twice with the arguments 5 and square, which results in the output 625 (i.e., square(square(5)))."
   ]
  },
  {
   "cell_type": "markdown",
   "metadata": {},
   "source": [
    "__Object Oriented Programming__\n",
    "\n",
    "- Object-oriented programming (OOP) is a programming paradigm that is based on the concept of objects. An object is an instance of a class, which is a template for creating objects. OOP is widely used in modern software development because it provides a way to organize and structure code in a modular and reusable way.\n",
    "\n",
    "- In OOP, classes are used to encapsulate data and behavior (i.e., methods) into a single entity. Objects are created from classes and can interact with each other by sending messages. The three main pillars of OOP are encapsulation, inheritance, and polymorphism.\n",
    "\n",
    "- __Class:__ A blueprint for creating objects, which defines a set of attributes and methods that the objects will have.\n",
    "\n",
    "- __Object:__ An instance of a class, which has its own set of attributes and can perform methods defined in the class.\n",
    "\n",
    "- __Encapsulation:__ The practice of hiding internal implementation details of an object from the outside world, and only exposing a well-defined interface for interacting with the object.\n",
    "\n",
    "- __Inheritance:__ A mechanism for creating a new class that is a modified version of an existing class. The new class inherits attributes and methods from the parent class and can also have its own additional attributes and methods.\n",
    "\n",
    "- __Polymorphism:__ The ability of different objects to respond to the same message (i.e., method call) in different ways. Polymorphism allows for more flexible and generic code, as it enables code to work with different objects that may have different implementations of the same method."
   ]
  },
  {
   "cell_type": "markdown",
   "metadata": {},
   "source": [
    "__1.Class and objects:__\n",
    "\n",
    "- Classes and objects are fundamental concepts in object-oriented programming (OOP). OOP is a programming paradigm that emphasizes the use of objects that have properties (attributes) and behaviors (methods). In Python, a class is a blueprint for creating objects, and an object is an instance of a class.\n",
    "\n",
    "- A class is defined using the class keyword followed by the name of the class. The body of the class contains the attributes and methods of the class. Attributes are variables that hold data, while methods are functions that perform actions.\n",
    "\n",
    "- When an object is created from a class, it is called an instance of that class. The process of creating an object from a class is called instantiation. The __init__ method is a special method that is called when an object is instantiated. It is used to set the initial values of the object's attributes."
   ]
  },
  {
   "cell_type": "code",
   "execution_count": 9,
   "metadata": {},
   "outputs": [],
   "source": [
    "#Creating a Car class\n",
    "class Car:\n",
    "    def __init__(self, make, model, year):\n",
    "        self.make = make\n",
    "        self.model = model\n",
    "        self.year = year\n",
    "    \n",
    "    def drive(self):\n",
    "        print(f\"The {self.year} {self.make} {self.model} is driving.\")"
   ]
  },
  {
   "cell_type": "code",
   "execution_count": 10,
   "metadata": {},
   "outputs": [],
   "source": [
    "car = Car(\"Toyota\", \"Camry\", 2020)"
   ]
  },
  {
   "cell_type": "code",
   "execution_count": 11,
   "metadata": {},
   "outputs": [
    {
     "name": "stdout",
     "output_type": "stream",
     "text": [
      "The 2020 Toyota Camry is driving.\n"
     ]
    }
   ],
   "source": [
    "car.drive()"
   ]
  },
  {
   "cell_type": "markdown",
   "metadata": {},
   "source": [
    "In this example, we define a Car class that has three attributes (make, model, and year) and one method (drive). The __init__ method is called when a Car object is created and sets the initial values of the attributes. The drive method is a simple method that prints a message to the console using the attributes of the object."
   ]
  },
  {
   "cell_type": "code",
   "execution_count": 12,
   "metadata": {},
   "outputs": [],
   "source": [
    "class laptop:\n",
    "    def __init__(self, brand, model, year):\n",
    "        self.brand = brand\n",
    "        self.model = model\n",
    "        self.year = year\n",
    "    \n",
    "    def working(self):\n",
    "        print(f\"The {self.year} {self.brand} {self.model} is working good.\")"
   ]
  },
  {
   "cell_type": "code",
   "execution_count": 13,
   "metadata": {},
   "outputs": [],
   "source": [
    "laptop = laptop(\"acer\", \"aspir 5\", 2023)"
   ]
  },
  {
   "cell_type": "code",
   "execution_count": 14,
   "metadata": {},
   "outputs": [
    {
     "name": "stdout",
     "output_type": "stream",
     "text": [
      "The 2023 acer aspir 5 is working good.\n"
     ]
    }
   ],
   "source": [
    "laptop.working()"
   ]
  },
  {
   "cell_type": "markdown",
   "metadata": {},
   "source": [
    "In this example, we define a laptop class that has three attributes (brand, model, and year) and one method (working). The __init__ method is called when a laptop object is created and sets the initial values of the attributes. The working method is a simple method that prints a message to the console using the attributes of the object."
   ]
  },
  {
   "cell_type": "code",
   "execution_count": 15,
   "metadata": {},
   "outputs": [],
   "source": [
    "#Creating a Person class\n",
    "class Person:\n",
    "    def __init__(self, name, age):\n",
    "        self.name = name\n",
    "        self.age = age\n",
    "    \n",
    "    def say_hello(self):\n",
    "        print(f\"Hello, my name is {self.name} and I am {self.age} years old.\")"
   ]
  },
  {
   "cell_type": "code",
   "execution_count": 16,
   "metadata": {},
   "outputs": [],
   "source": [
    "person = Person(\"Manohar\", 22)"
   ]
  },
  {
   "cell_type": "code",
   "execution_count": 17,
   "metadata": {},
   "outputs": [
    {
     "name": "stdout",
     "output_type": "stream",
     "text": [
      "Hello, my name is Manohar and I am 22 years old.\n"
     ]
    }
   ],
   "source": [
    "person.say_hello()"
   ]
  },
  {
   "cell_type": "markdown",
   "metadata": {},
   "source": [
    "In this example, we define a person class that has two attributes (name and age) and one method (say_hello). The __init__ method is called when a Person object is created and sets the initial values of the attributes. The say_hello method is a simple method that prints a message to the console using the attributes of the object."
   ]
  },
  {
   "cell_type": "markdown",
   "metadata": {},
   "source": [
    "__Inheritance, Encapsulation and Polymorphism__"
   ]
  },
  {
   "cell_type": "markdown",
   "metadata": {},
   "source": [
    "In object-oriented programming, inheritance, encapsulation, and polymorphism are three fundamental concepts that help in creating more maintainable, modular, and flexible code.\n",
    "\n",
    "__1.Inheritance:__\n",
    "\n",
    "Inheritance is a mechanism that allows a new class to be based on an existing class. The new class, called the subclass or derived class, inherits the properties and behavior of the existing class, called the superclass or base class, and can also add its own properties and behavior. Inheritance helps in reducing code duplication and enables code reuse."
   ]
  },
  {
   "cell_type": "code",
   "execution_count": 18,
   "metadata": {},
   "outputs": [],
   "source": [
    "class Animal:\n",
    "    def __init__(self, name, species):\n",
    "        self.name = name\n",
    "        self.species = species\n",
    "    \n",
    "    def make_sound(self):\n",
    "        pass\n",
    "\n",
    "class Dog(Animal):\n",
    "    def __init__(self, name, breed):\n",
    "        super().__init__(name, species=\"Dog\")\n",
    "        self.breed = breed\n",
    "    \n",
    "    def make_sound(self):\n",
    "        print(\"Woof!\")"
   ]
  },
  {
   "cell_type": "code",
   "execution_count": 20,
   "metadata": {},
   "outputs": [
    {
     "name": "stdout",
     "output_type": "stream",
     "text": [
      "Buddy\n",
      "Dog\n",
      "Golden Retriever\n",
      "Woof!\n"
     ]
    }
   ],
   "source": [
    "my_dog = Dog(\"Buddy\", \"Golden Retriever\")\n",
    "print(my_dog.name) \n",
    "print(my_dog.species) \n",
    "print(my_dog.breed)\n",
    "my_dog.make_sound()"
   ]
  },
  {
   "cell_type": "markdown",
   "metadata": {},
   "source": [
    "In this example, we define an Animal class with an __init__ method and a make_sound method. We then define a Dog class that inherits from the Animal class and overrides the __init__ and make_sound methods. The super() function is used to call the __init__ method of the superclass."
   ]
  },
  {
   "cell_type": "markdown",
   "metadata": {},
   "source": [
    "__2.Encapsulation:__\n",
    "\n",
    "Encapsulation is the practice of hiding the internal details of an object from the outside world and only exposing a public interface that can be used to interact with the object. This helps in keeping the code modular, reducing coupling, and improving maintainability. In Python, encapsulation is achieved through the use of private and protected attributes and methods. Private attributes and methods are denoted by a double underscore prefix, while protected attributes and methods are denoted by a single underscore prefix."
   ]
  },
  {
   "cell_type": "code",
   "execution_count": 22,
   "metadata": {},
   "outputs": [],
   "source": [
    "class BankAccount:\n",
    "    def __init__(self, account_number, balance):\n",
    "        self.__account_number = account_number\n",
    "        self.__balance = balance\n",
    "    \n",
    "    def deposit(self, amount):\n",
    "        self.__balance += amount\n",
    "    \n",
    "    def withdraw(self, amount):\n",
    "        if amount <= self.__balance:\n",
    "            self.__balance -= amount\n",
    "        else:\n",
    "            print(\"Insufficient funds.\")\n",
    "    \n",
    "    def get_balance(self):\n",
    "        return self.__balance"
   ]
  },
  {
   "cell_type": "code",
   "execution_count": 24,
   "metadata": {},
   "outputs": [
    {
     "name": "stdout",
     "output_type": "stream",
     "text": [
      "1000\n",
      "1500\n",
      "1300\n",
      "Insufficient funds.\n"
     ]
    }
   ],
   "source": [
    "my_account = BankAccount(\"123456789\", 1000)\n",
    "print(my_account.get_balance())\n",
    "my_account.deposit(500)\n",
    "print(my_account.get_balance())\n",
    "my_account.withdraw(200)\n",
    "print(my_account.get_balance())\n",
    "my_account.withdraw(1500)"
   ]
  },
  {
   "cell_type": "markdown",
   "metadata": {},
   "source": [
    "In this example, we define a BankAccount class with an __init__ method, deposit, withdraw, and get_balance methods. The account_number and balance attributes are encapsulated using double underscores to make them private. The public interface for interacting with the object is through the deposit, withdraw, and get_balance methods."
   ]
  },
  {
   "cell_type": "markdown",
   "metadata": {},
   "source": [
    "__3.Polymorphism:__\n",
    "\n",
    "Polymorphism is the ability of objects of different classes to be used interchangeably. This is achieved through the use of inheritance and method overriding. Polymorphism helps in creating more flexible and reusable code."
   ]
  },
  {
   "cell_type": "code",
   "execution_count": 25,
   "metadata": {},
   "outputs": [
    {
     "name": "stdout",
     "output_type": "stream",
     "text": [
      "Woof!\n",
      "Meow!\n"
     ]
    }
   ],
   "source": [
    "class Animal:\n",
    "    def make_sound(self):\n",
    "        pass\n",
    "\n",
    "class Dog(Animal):\n",
    "    def make_sound(self):\n",
    "        print(\"Woof!\")\n",
    "\n",
    "class Cat(Animal):\n",
    "    def make_sound(self):\n",
    "        print(\"Meow!\")\n",
    "\n",
    "def make_animal_sound(animal):\n",
    "    animal.make_sound()\n",
    "\n",
    "dog = Dog()\n",
    "cat = Cat()\n",
    "\n",
    "make_animal_sound(dog)\n",
    "make_animal_sound(cat)"
   ]
  },
  {
   "cell_type": "markdown",
   "metadata": {},
   "source": [
    "In this example, we define an Animal class with a make_sound method. We then define Dog and Cat classes that inherit from the Animal class and override the make_sound method. We also define a `make"
   ]
  },
  {
   "cell_type": "markdown",
   "metadata": {},
   "source": [
    "__Error handling__"
   ]
  },
  {
   "cell_type": "markdown",
   "metadata": {},
   "source": [
    "- Error handling in Python refers to the process of catching and handling errors (also known as exceptions) that can occur during the execution of a program. Exceptions are raised by the Python interpreter when it encounters an error that it can't handle, such as trying to divide by zero, accessing an undefined variable, or calling a method on an object that doesn't support it.\n",
    "\n",
    "- Python provides several built-in mechanisms for error handling, including the try-except statement, which allows you to catch and handle specific types of exceptions. You can also use a generic except statement to catch any type of exception, or a finally statement to execute code that should always run, regardless of whether an exception was raised or not.\n",
    "\n",
    "- In addition to these built-in mechanisms, Python also provides ways to raise your own exceptions using the raise statement, and to create custom exception classes that can be used to handle specific types of errors in your program.\n",
    "\n",
    "- In Python, there are two main types of errors: syntax errors and exceptions."
   ]
  },
  {
   "cell_type": "markdown",
   "metadata": {},
   "source": [
    "__1.Syntax errors:__\n",
    "\n",
    "These errors occur when the Python interpreter is unable to parse your code because it violates the rules of the Python language. Syntax errors are usually detected when you try to run your code and cause the interpreter to display an error message. Examples of syntax errors include misspelled keywords or variable names, missing colons or parentheses, and incorrect indentation.\n",
    "\n",
    "__2.Exceptions:__\n",
    "\n",
    "These errors occur when your code is syntactically correct, but encounters a problem during execution. Exceptions can be caused by a wide variety of problems, such as dividing by zero, trying to access an undefined variable, or calling a method on an object that doesn't support it. When an exception is raised, the Python interpreter stops executing your program and displays an error message. Exceptions can be caught and handled using the try-except statement."
   ]
  },
  {
   "cell_type": "markdown",
   "metadata": {},
   "source": [
    "__Try and Except__"
   ]
  },
  {
   "cell_type": "code",
   "execution_count": 26,
   "metadata": {},
   "outputs": [
    {
     "name": "stdout",
     "output_type": "stream",
     "text": [
      "Cannot divide by zero!\n"
     ]
    }
   ],
   "source": [
    "# Handling a division by zero error\n",
    "num1 = 10\n",
    "num2 = 0\n",
    "\n",
    "try:\n",
    "    result = num1 / num2\n",
    "except ZeroDivisionError:\n",
    "    print(\"Cannot divide by zero!\")"
   ]
  },
  {
   "cell_type": "code",
   "execution_count": 27,
   "metadata": {},
   "outputs": [
    {
     "name": "stdout",
     "output_type": "stream",
     "text": [
      "Error: nonexistentfile.txt not found!\n"
     ]
    }
   ],
   "source": [
    "#Handling a file not found error\n",
    "filename = \"nonexistentfile.txt\"\n",
    "\n",
    "try:\n",
    "    with open(filename, \"r\") as f:\n",
    "        data = f.read()\n",
    "except FileNotFoundError:\n",
    "    print(f\"Error: {filename} not found!\")"
   ]
  },
  {
   "cell_type": "code",
   "execution_count": 28,
   "metadata": {},
   "outputs": [
    {
     "name": "stdout",
     "output_type": "stream",
     "text": [
      "Error: abc is not a valid integer!\n"
     ]
    }
   ],
   "source": [
    "#Handling a value error\n",
    "user_input = \"abc\"\n",
    "\n",
    "try:\n",
    "    num = int(user_input)\n",
    "except ValueError:\n",
    "    print(f\"Error: {user_input} is not a valid integer!\")"
   ]
  },
  {
   "cell_type": "markdown",
   "metadata": {},
   "source": [
    "__File Handling__\n",
    "\n",
    "File handling in Python refers to the process of creating, reading, updating, and deleting files on a computer's file system. Python provides a built-in file handling module called os and io for this purpose. "
   ]
  },
  {
   "cell_type": "code",
   "execution_count": 31,
   "metadata": {},
   "outputs": [
    {
     "name": "stdout",
     "output_type": "stream",
     "text": [
      "hi\n",
      "good\n",
      "morning\n",
      "have\n",
      "a\n",
      "nice\n",
      "day\n"
     ]
    }
   ],
   "source": [
    "#Opening and reading a file\n",
    "# open a file in read mode\n",
    "file = open(\"manohar.txt\", \"r\")\n",
    "\n",
    "# read the contents of the file\n",
    "data = file.read()\n",
    "\n",
    "# print the data\n",
    "print(data)\n",
    "\n",
    "# close the file\n",
    "file.close()"
   ]
  },
  {
   "cell_type": "code",
   "execution_count": 39,
   "metadata": {},
   "outputs": [],
   "source": [
    "#Writing to a file\n",
    "# open a file in write mode\n",
    "file = open(\"manu.txt\", \"w\")\n",
    "\n",
    "# write to the file\n",
    "file.write(\"happy coding!\")\n",
    "\n",
    "# close the file\n",
    "file.close()"
   ]
  },
  {
   "cell_type": "code",
   "execution_count": 40,
   "metadata": {},
   "outputs": [
    {
     "name": "stdout",
     "output_type": "stream",
     "text": [
      "happy coding!\n"
     ]
    }
   ],
   "source": [
    "file = open(\"manu.txt\", \"r\")\n",
    "\n",
    "# read the contents of the file\n",
    "data = file.read()\n",
    "\n",
    "# print the data\n",
    "print(data)\n",
    "\n",
    "# close the file\n",
    "file.close()"
   ]
  },
  {
   "cell_type": "code",
   "execution_count": 41,
   "metadata": {},
   "outputs": [],
   "source": [
    "#Appending to a file\n",
    "# open a file in append mode\n",
    "file = open(\"manu.txt\", \"a\")\n",
    "\n",
    "# append to the file\n",
    "file.write(\"happy coding!\")\n",
    "\n",
    "# close the file\n",
    "file.close()"
   ]
  },
  {
   "cell_type": "code",
   "execution_count": 42,
   "metadata": {},
   "outputs": [
    {
     "name": "stdout",
     "output_type": "stream",
     "text": [
      "happy coding!happy coding!\n"
     ]
    }
   ],
   "source": [
    "file = open(\"manu.txt\", \"r\")\n",
    "\n",
    "# read the contents of the file\n",
    "data = file.read()\n",
    "\n",
    "# print the data\n",
    "print(data)\n",
    "\n",
    "# close the file\n",
    "file.close()"
   ]
  },
  {
   "cell_type": "code",
   "execution_count": 46,
   "metadata": {},
   "outputs": [
    {
     "name": "stdout",
     "output_type": "stream",
     "text": [
      "The file exists.\n"
     ]
    }
   ],
   "source": [
    "# check if a file exists\n",
    "import os\n",
    "if os.path.exists(\"manu.txt\"):\n",
    "    print(\"The file exists.\")\n",
    "else:\n",
    "    print(\"The file does not exist.\")"
   ]
  },
  {
   "cell_type": "code",
   "execution_count": 47,
   "metadata": {},
   "outputs": [],
   "source": [
    "# delete a file\n",
    "import os\n",
    "os.remove(\"example.txt\")"
   ]
  },
  {
   "cell_type": "code",
   "execution_count": 48,
   "metadata": {},
   "outputs": [
    {
     "name": "stdout",
     "output_type": "stream",
     "text": [
      "The file does not exist.\n"
     ]
    }
   ],
   "source": [
    "import os\n",
    "if os.path.exists(\"example.txt\"):\n",
    "    print(\"The file exists.\")\n",
    "else:\n",
    "    print(\"The file does not exist.\")"
   ]
  }
 ],
 "metadata": {
  "kernelspec": {
   "display_name": "Python 3",
   "language": "python",
   "name": "python3"
  },
  "language_info": {
   "codemirror_mode": {
    "name": "ipython",
    "version": 3
   },
   "file_extension": ".py",
   "mimetype": "text/x-python",
   "name": "python",
   "nbconvert_exporter": "python",
   "pygments_lexer": "ipython3",
   "version": "3.7.6"
  }
 },
 "nbformat": 4,
 "nbformat_minor": 4
}
