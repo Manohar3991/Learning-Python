{
 "cells": [
  {
   "cell_type": "markdown",
   "metadata": {},
   "source": [
    "# Conditional Statement\n",
    "\n",
    "Like every other programming language, Python also has some predefined conditional statements. A conditional statement as the name suggests itself, is used to handle conditions in your program. These statements guide the program while making decisions based on the conditions encountered by the program.\n",
    "\n",
    "Python has 3 key Conditional Statements that you should know:\n",
    "\n",
    "- if statement\n",
    "- if-else statement\n",
    "- if-elif-else statement\n",
    "\n",
    "__if Statement:__\n",
    "The if statement is a conditional statement in python, that is used to determine whether a block of code will be executed or not. Meaning if the program finds the condition defined in the if statement to be true, it will go ahead and execute the code block inside the if statement.\n",
    "\n",
    "__if-else Statement:__\n",
    "As discussed above, the if statement executes the code block when the condition is true. Similarly, the else statement works in conjuncture with the if statement to execute a code block when the defined if condition is false.\n",
    "\n",
    "__if-elif-else ladder:__\n",
    "The elif statement is used to check for multiple conditions and execute the code block within if any of the conditions evaluate to be true.\n",
    "The elif statement is similar to the else statement in the context that it is optional but unlike the else statement, there can be multiple elif statements in a code block following an if statement."
   ]
  },
  {
   "cell_type": "markdown",
   "metadata": {},
   "source": [
    "__1.'if' statement.__"
   ]
  },
  {
   "cell_type": "code",
   "execution_count": null,
   "metadata": {},
   "outputs": [],
   "source": [
    "# Checking if a number is positive or negative using 'if' statement.\n",
    "num = int(input(\"Enter a number: \"))\n",
    "if num > 0:\n",
    "    print(\"The number is positive.\")"
   ]
  },
  {
   "cell_type": "code",
   "execution_count": null,
   "metadata": {},
   "outputs": [],
   "source": [
    "# Checking if a string is empty or not.\n",
    "string = input(\"Enter a string: \")\n",
    "if string == \"\":\n",
    "    print(\"The string is empty.\")"
   ]
  },
  {
   "cell_type": "code",
   "execution_count": null,
   "metadata": {},
   "outputs": [],
   "source": [
    "# Checking if a number is even or odd.\n",
    "number = int(input(\"Enter the number to check even or not: \"))\n",
    "if number % 2 == 0:\n",
    "    print(\"The number is even.\")\n",
    "if number % 2 != 0:\n",
    "    print(\"The number is odd.\")"
   ]
  },
  {
   "cell_type": "markdown",
   "metadata": {},
   "source": [
    "__2.'If-Else Statement'.__"
   ]
  },
  {
   "cell_type": "code",
   "execution_count": null,
   "metadata": {},
   "outputs": [],
   "source": [
    "# Checking the name Palindrome or not.\n",
    "name = input(\"enter the name: \")\n",
    "revName = reversed(name)\n",
    "if list(name)==list(revName):\n",
    "    print(\"it is palindrome\")\n",
    "else:\n",
    "    print(\"it's not palindrome\")"
   ]
  },
  {
   "cell_type": "code",
   "execution_count": null,
   "metadata": {},
   "outputs": [],
   "source": [
    "# Checking if a user input matches a pre-defined value\n",
    "user_input = input(\"Enter a password: \")\n",
    "password = \"Manohar@123\"\n",
    "if user_input == password:\n",
    "    print(\"Access granted.\")\n",
    "else:\n",
    "    print(\"Access denied.\")"
   ]
  },
  {
   "cell_type": "code",
   "execution_count": null,
   "metadata": {},
   "outputs": [],
   "source": [
    "# Checking if a number is even or odd.\n",
    "num = int(input(\"Enter a number: \"))\n",
    "if num % 2 == 0:\n",
    "    print(\"The number is even.\")\n",
    "else:\n",
    "    print(\"The number is odd.\")"
   ]
  },
  {
   "cell_type": "code",
   "execution_count": null,
   "metadata": {},
   "outputs": [],
   "source": [
    "# Checking if a user is old enough to vote.\n",
    "age = int(input(\"Enter your age: \"))\n",
    "if age >= 18:\n",
    "    print(\"You are old enough to vote.\")\n",
    "else:\n",
    "    print(\"You are not old enough to vote yet.\")"
   ]
  },
  {
   "cell_type": "code",
   "execution_count": null,
   "metadata": {},
   "outputs": [],
   "source": [
    "# Checking if a year is a leap year or not.\n",
    "year = int(input(\"Enter a year: \"))\n",
    "if year % 4 == 0 and (year % 100 != 0 or year % 400 == 0):\n",
    "    print(\"The year is a leap year.\")\n",
    "else:\n",
    "    print(\"The year is not a leap year.\")"
   ]
  },
  {
   "cell_type": "markdown",
   "metadata": {},
   "source": [
    "__3.If-Elif-Else Statements__"
   ]
  },
  {
   "cell_type": "code",
   "execution_count": null,
   "metadata": {},
   "outputs": [],
   "source": [
    "# Checking the grade of a student based on their score.\n",
    "score = int(input(\"Enter the student's score: \"))\n",
    "if score >= 90:\n",
    "    print(\"The student received an A.\")\n",
    "elif score >= 80:\n",
    "    print(\"The student received a B.\")\n",
    "elif score >= 70:\n",
    "    print(\"The student received a C.\")\n",
    "elif score >= 60:\n",
    "    print(\"The student received a D.\")\n",
    "else:\n",
    "    print(\"The student received an F.\")"
   ]
  },
  {
   "cell_type": "code",
   "execution_count": null,
   "metadata": {},
   "outputs": [],
   "source": [
    "# Checking the day of the week.\n",
    "\n",
    "import datetime\n",
    "\n",
    "today = datetime.datetime.today().weekday()\n",
    "if today == 0:\n",
    "    print(\"Today is Monday.\")\n",
    "elif today == 1:\n",
    "    print(\"Today is Tuesday.\")\n",
    "elif today == 2:\n",
    "    print(\"Today is Wednesday.\")\n",
    "elif today == 3:\n",
    "    print(\"Today is Thursday.\")\n",
    "elif today == 4:\n",
    "    print(\"Today is Friday.\")\n",
    "elif today == 5:\n",
    "    print(\"Today is Saturday.\")\n",
    "else:\n",
    "    print(\"Today is Sunday.\")"
   ]
  },
  {
   "cell_type": "code",
   "execution_count": null,
   "metadata": {},
   "outputs": [],
   "source": [
    "# Student eligibility test.\n",
    "print(\"Student Eligibility Test\")\n",
    "name = input(\"Enter Name of the student: \")\n",
    "perc = float(input(f\"Enter the UG pecentage of {name}: \"))\n",
    "entMarks = int(input(f\"Enter the Entrance marks of {name}: \"))\n",
    "score = float((perc/2)+(entMarks))\n",
    "print(\"Overall score is: \",round(score,2))\n",
    "if score>70:\n",
    "    print(\"Eligible under scheme A\")\n",
    "elif score>50:\n",
    "    print(\"Eligible under scheme B\")\n",
    "else:\n",
    "    print(\"Not Eligible for Admission\")"
   ]
  },
  {
   "cell_type": "markdown",
   "metadata": {},
   "source": [
    "__4.Nested 'if'__"
   ]
  },
  {
   "cell_type": "code",
   "execution_count": 8,
   "metadata": {},
   "outputs": [
    {
     "name": "stdout",
     "output_type": "stream",
     "text": [
      "Enter your gender: male\n",
      "Enter your age: 20\n",
      "You are eligible for military service\n"
     ]
    }
   ],
   "source": [
    "\"\"\"\n",
    "checking if the person is eligible for military service based on their age and gender. \n",
    "We use a nested if statement to check if the person is male or not.\n",
    "\n",
    "\"\"\"\n",
    "gender = input(\"Enter your gender: \")\n",
    "age = int(input(\"Enter your age: \"))\n",
    "\n",
    "if age >= 18:\n",
    "    if gender == \"male\":\n",
    "        print(\"You are eligible for military service\")\n",
    "    else:\n",
    "        print(\"You are not eligible for military service\")\n",
    "else:\n",
    "    print(\"You are too young for military service\")"
   ]
  },
  {
   "cell_type": "code",
   "execution_count": 1,
   "metadata": {},
   "outputs": [
    {
     "name": "stdout",
     "output_type": "stream",
     "text": [
      "Enter applicant name: Manohar\n",
      "EnterManohar's  age: 25\n",
      "EnterManohar's  cibil score : 800\n",
      "Enter Manohar's bank balance: 55000\n",
      "Manohar has good cibil score but age is below 25\n"
     ]
    }
   ],
   "source": [
    "# Possitive\n",
    "#Checking the eligibility of a person for bank loan\n",
    "name1 = input(\"Enter applicant name: \")\n",
    "age = int(input(f\"Enter{name1}'s  age: \"))\n",
    "cibil = int(input(f\"Enter{name1}'s  cibil score : \"))\n",
    "bankBalance = float(input(f\"Enter {name1}'s bank balance: \"))\n",
    "\n",
    "if cibil>750:\n",
    "    if age>25:    \n",
    "        if bankBalance>50000:\n",
    "            print(f\" {name1} is eligible for loan \")\n",
    "        else :\n",
    "            print(f\" {name1} has good cibil score and age but no insufficiant balanece\" )\n",
    "    else:\n",
    "        print(f\" {name1} has good cibil score but age is below 25\")\n",
    "else:\n",
    "    print(f\" {name1} has low cibil score and not eligible for loan\")"
   ]
  },
  {
   "cell_type": "code",
   "execution_count": 2,
   "metadata": {},
   "outputs": [
    {
     "name": "stdout",
     "output_type": "stream",
     "text": [
      "Enter applicant name: Manohar\n",
      "Enter Manohar's age: 15\n",
      "Enter Manohar's cibil score : 500\n",
      "Enter Manohar's bank balance: 55000\n",
      " Manohar has low cibil score and not eligible for loan\n"
     ]
    }
   ],
   "source": [
    "# Nagitive\n",
    "\n",
    "name1 = input(\"Enter applicant name: \")\n",
    "age = int(input(f\"Enter {name1}'s age: \"))\n",
    "cibil = int(input(f\"Enter {name1}'s cibil score : \"))\n",
    "bankBalance = float(input(f\"Enter {name1}'s bank balance: \"))\n",
    "\n",
    "if cibil>750:\n",
    "    if age>25:    \n",
    "        if bankBalance>50000:\n",
    "            print(f\" {name1} is eligible for loan \")\n",
    "        else :\n",
    "            print(f\" {name1} has good cibil score and age but no insufficiant balanece\" )\n",
    "    else:\n",
    "        print(f\" {name1} has good cibil score but age is below 25\")\n",
    "else:\n",
    "    print(f\" {name1} has low cibil score and not eligible for loan\")"
   ]
  }
 ],
 "metadata": {
  "kernelspec": {
   "display_name": "Python 3",
   "language": "python",
   "name": "python3"
  },
  "language_info": {
   "codemirror_mode": {
    "name": "ipython",
    "version": 3
   },
   "file_extension": ".py",
   "mimetype": "text/x-python",
   "name": "python",
   "nbconvert_exporter": "python",
   "pygments_lexer": "ipython3",
   "version": "3.7.6"
  }
 },
 "nbformat": 4,
 "nbformat_minor": 4
}
