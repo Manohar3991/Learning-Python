{
 "cells": [
  {
   "cell_type": "markdown",
   "metadata": {},
   "source": [
    "# Functions\n",
    "\n",
    "There are Three types of functions:\n",
    "   - __Built-In Function  :__ In Python, a built-in function is a function that is included in the Python standard library and can be used without having to install any external libraries. These functions are readily available for use and provide commonly needed functionality, such as printing to the console, converting data types, and mathematical operations. Examples of built-in functions are print(), len(), int(), abs(), etc.\n",
    "   \n",
    "   \n",
    "   - __User-input Function :__  A user-defined function is a function that is defined by the user and can accept inputs, perform specific operations and return output. These functions are created using the def keyword and can be called by passing the required inputs.\n",
    "\n",
    "\n",
    "\n",
    "Functions in Python are reusable blocks of code that accept inputs (arguments) and return output. They are defined using the \"def\" keyword and can optionally take inputs (arguments). They can be called multiple times, making code more organized and reusable. Syntax:"
   ]
  },
  {
   "cell_type": "code",
   "execution_count": 1,
   "metadata": {
    "scrolled": true
   },
   "outputs": [
    {
     "name": "stdout",
     "output_type": "stream",
     "text": [
      "7\n"
     ]
    }
   ],
   "source": [
    "def add(a, b):\n",
    "    return a + b\n",
    "\n",
    "result = add(3, 4)\n",
    "print(result) # 7"
   ]
  },
  {
   "cell_type": "code",
   "execution_count": 3,
   "metadata": {},
   "outputs": [
    {
     "name": "stdout",
     "output_type": "stream",
     "text": [
      "[2, 4, 6, 8, 10, 12, 14, 16, 18, 20]\n"
     ]
    }
   ],
   "source": [
    "#Normal Method of generating even list\n",
    "evenList=[]\n",
    "for number in range(1,21):\n",
    "    if number%2==0:\n",
    "        evenList.append(number)\n",
    "print(evenList)"
   ]
  },
  {
   "cell_type": "code",
   "execution_count": 5,
   "metadata": {},
   "outputs": [
    {
     "name": "stdout",
     "output_type": "stream",
     "text": [
      "[1, 3, 5, 7, 9, 11, 13, 15, 17, 19]\n"
     ]
    }
   ],
   "source": [
    "#comprehension method\n",
    "oddList = [i for i in range(1,21) if i%2 != 0]\n",
    "print(oddList)"
   ]
  },
  {
   "cell_type": "code",
   "execution_count": 6,
   "metadata": {},
   "outputs": [
    {
     "data": {
      "text/plain": [
       "False"
      ]
     },
     "execution_count": 6,
     "metadata": {},
     "output_type": "execute_result"
    }
   ],
   "source": [
    "1%2==0"
   ]
  },
  {
   "cell_type": "code",
   "execution_count": 7,
   "metadata": {},
   "outputs": [
    {
     "data": {
      "text/plain": [
       "True"
      ]
     },
     "execution_count": 7,
     "metadata": {},
     "output_type": "execute_result"
    }
   ],
   "source": [
    "2%2==0"
   ]
  },
  {
   "cell_type": "code",
   "execution_count": 8,
   "metadata": {},
   "outputs": [],
   "source": [
    "MyList = [5, 6, 8, 9, 12, 15, 22, 32, 55]"
   ]
  },
  {
   "cell_type": "code",
   "execution_count": 10,
   "metadata": {},
   "outputs": [
    {
     "name": "stdout",
     "output_type": "stream",
     "text": [
      "[25, 36, 64, 81, 144, 225, 484, 1024, 3025]\n"
     ]
    }
   ],
   "source": [
    "#traversing method\n",
    "poweredList=[]\n",
    "for number in MyList:\n",
    "    powered=number**2\n",
    "    poweredList.append(powered)\n",
    "print(poweredList)"
   ]
  },
  {
   "cell_type": "code",
   "execution_count": 11,
   "metadata": {},
   "outputs": [],
   "source": [
    "#comprehension method\n",
    "poweredListNew=[i**2 for i in MyList]"
   ]
  },
  {
   "cell_type": "code",
   "execution_count": 12,
   "metadata": {},
   "outputs": [
    {
     "data": {
      "text/plain": [
       "[25, 36, 64, 81, 144, 225, 484, 1024, 3025]"
      ]
     },
     "execution_count": 12,
     "metadata": {},
     "output_type": "execute_result"
    }
   ],
   "source": [
    "poweredListNew"
   ]
  },
  {
   "cell_type": "code",
   "execution_count": 13,
   "metadata": {},
   "outputs": [],
   "source": [
    "import math\n",
    "sqrt1=[math.sqrt(i) for i in MyList]"
   ]
  },
  {
   "cell_type": "code",
   "execution_count": 15,
   "metadata": {},
   "outputs": [
    {
     "name": "stdout",
     "output_type": "stream",
     "text": [
      "[2.23606797749979, 2.449489742783178, 2.8284271247461903, 3.0, 3.4641016151377544, 3.872983346207417, 4.69041575982343, 5.656854249492381, 7.416198487095663]\n"
     ]
    }
   ],
   "source": [
    "print(sqrt1)"
   ]
  },
  {
   "cell_type": "code",
   "execution_count": 16,
   "metadata": {},
   "outputs": [],
   "source": [
    "import math\n",
    "sqrt1=[round(math.sqrt(i),2) for i in MyList]"
   ]
  },
  {
   "cell_type": "code",
   "execution_count": 17,
   "metadata": {},
   "outputs": [
    {
     "data": {
      "text/plain": [
       "[2.24, 2.45, 2.83, 3.0, 3.46, 3.87, 4.69, 5.66, 7.42]"
      ]
     },
     "execution_count": 17,
     "metadata": {},
     "output_type": "execute_result"
    }
   ],
   "source": [
    "sqrt1"
   ]
  },
  {
   "cell_type": "code",
   "execution_count": 19,
   "metadata": {},
   "outputs": [
    {
     "name": "stdout",
     "output_type": "stream",
     "text": [
      "14\n"
     ]
    }
   ],
   "source": [
    "# Normal method of doing a+b=c\n",
    "a = 5\n",
    "b = 9\n",
    "c= a + b\n",
    "print(c)"
   ]
  },
  {
   "cell_type": "code",
   "execution_count": 20,
   "metadata": {},
   "outputs": [],
   "source": [
    "# comprehension method\n",
    "def additions(a,b):\n",
    "    c = a + b\n",
    "    print(f\"Sum of {a} and {b} is {c}\")"
   ]
  },
  {
   "cell_type": "code",
   "execution_count": 21,
   "metadata": {},
   "outputs": [
    {
     "name": "stdout",
     "output_type": "stream",
     "text": [
      "Sum of 500 and 200 is 700\n"
     ]
    }
   ],
   "source": [
    "additions(500, 200)"
   ]
  },
  {
   "cell_type": "code",
   "execution_count": 22,
   "metadata": {},
   "outputs": [],
   "source": [
    "# comprehension method\n",
    "def multiplication(a,b):\n",
    "    c = a * b\n",
    "    print(f\"The Multiplication value of {a} and {b} is {c}\")"
   ]
  },
  {
   "cell_type": "code",
   "execution_count": 23,
   "metadata": {},
   "outputs": [
    {
     "name": "stdout",
     "output_type": "stream",
     "text": [
      "The Multiplication value of 25 and 52 is 1300\n"
     ]
    }
   ],
   "source": [
    "multiplication(25,52)"
   ]
  },
  {
   "cell_type": "code",
   "execution_count": 27,
   "metadata": {},
   "outputs": [],
   "source": [
    "# Using string\n",
    "def welcome(a):\n",
    "    name = a\n",
    "    print(f\"Welcome {name}!!!\")"
   ]
  },
  {
   "cell_type": "code",
   "execution_count": 28,
   "metadata": {},
   "outputs": [
    {
     "name": "stdout",
     "output_type": "stream",
     "text": [
      "Welcome Manohar!!!\n"
     ]
    }
   ],
   "source": [
    "welcome(\"Manohar\")"
   ]
  },
  {
   "cell_type": "code",
   "execution_count": 29,
   "metadata": {},
   "outputs": [],
   "source": [
    "def check_odd_even(a):\n",
    "    if a%2==0:\n",
    "        print(\"Number is Even\")\n",
    "    else:\n",
    "        print(\"Number is Odd\")"
   ]
  },
  {
   "cell_type": "code",
   "execution_count": 30,
   "metadata": {},
   "outputs": [
    {
     "name": "stdout",
     "output_type": "stream",
     "text": [
      "Number is Odd\n"
     ]
    }
   ],
   "source": [
    "check_odd_even(5)"
   ]
  },
  {
   "cell_type": "code",
   "execution_count": 31,
   "metadata": {},
   "outputs": [
    {
     "name": "stdout",
     "output_type": "stream",
     "text": [
      "Number is Even\n"
     ]
    }
   ],
   "source": [
    "check_odd_even(4)"
   ]
  },
  {
   "cell_type": "code",
   "execution_count": 32,
   "metadata": {},
   "outputs": [],
   "source": [
    "def compare_num(a,b):\n",
    "    if a > b:\n",
    "        print(\"First Number is Greater\")\n",
    "    else:\n",
    "        print(\"Second Number is Greater\")"
   ]
  },
  {
   "cell_type": "code",
   "execution_count": 33,
   "metadata": {},
   "outputs": [
    {
     "name": "stdout",
     "output_type": "stream",
     "text": [
      "First Number is Greater\n"
     ]
    }
   ],
   "source": [
    "compare_num(52, 45)"
   ]
  },
  {
   "cell_type": "code",
   "execution_count": 34,
   "metadata": {},
   "outputs": [
    {
     "name": "stdout",
     "output_type": "stream",
     "text": [
      "Second Number is Greater\n"
     ]
    }
   ],
   "source": [
    "compare_num(52, 445)"
   ]
  },
  {
   "cell_type": "code",
   "execution_count": 35,
   "metadata": {},
   "outputs": [],
   "source": [
    "def sqrt_num(g):\n",
    "    sqrtnum = g**0.5\n",
    "    return sqrtnum"
   ]
  },
  {
   "cell_type": "code",
   "execution_count": 37,
   "metadata": {},
   "outputs": [
    {
     "data": {
      "text/plain": [
       "2.0"
      ]
     },
     "execution_count": 37,
     "metadata": {},
     "output_type": "execute_result"
    }
   ],
   "source": [
    "sqrt_num(4)"
   ]
  },
  {
   "cell_type": "code",
   "execution_count": 38,
   "metadata": {},
   "outputs": [],
   "source": [
    "# Checking leap year using Comprehension method\n",
    "def check_leap(a):\n",
    "    year=a\n",
    "    if (year%4==0 and year%100 != 0) or year%400==0:\n",
    "        print(f\"Given year {year} is leap\")\n",
    "    else:\n",
    "        print(f\"Given year {year} is not leap\")"
   ]
  },
  {
   "cell_type": "code",
   "execution_count": 39,
   "metadata": {},
   "outputs": [
    {
     "name": "stdout",
     "output_type": "stream",
     "text": [
      "Given year 2004 is leap\n"
     ]
    }
   ],
   "source": [
    "check_leap(2004)"
   ]
  },
  {
   "cell_type": "code",
   "execution_count": 40,
   "metadata": {},
   "outputs": [
    {
     "name": "stdout",
     "output_type": "stream",
     "text": [
      "Given year 2022 is not leap\n"
     ]
    }
   ],
   "source": [
    "check_leap(2022)"
   ]
  },
  {
   "cell_type": "code",
   "execution_count": 41,
   "metadata": {},
   "outputs": [],
   "source": [
    "def dms_to_dd(a,b,c):\n",
    "    dd=a + (b / 60) + (c / 3600)\n",
    "    return dd"
   ]
  },
  {
   "cell_type": "code",
   "execution_count": 42,
   "metadata": {},
   "outputs": [
    {
     "data": {
      "text/plain": [
       "76.20222222222222"
      ]
     },
     "execution_count": 42,
     "metadata": {},
     "output_type": "execute_result"
    }
   ],
   "source": [
    "dms_to_dd(76, 12, 8)"
   ]
  },
  {
   "cell_type": "code",
   "execution_count": 43,
   "metadata": {},
   "outputs": [],
   "source": [
    "def check_leap(a):\n",
    "    '''\n",
    "    This function used to return the year is leap or not\n",
    "            Parameters:\n",
    "                a (int): A decimal integer\n",
    "            Returns:\n",
    "                year (str): leap or not\n",
    "    '''\n",
    "    year=a\n",
    "    if (year%4==0 and year%100 != 0) or year%400==0:\n",
    "        print(f\"Given year {year} is leap\")\n",
    "    else:\n",
    "        print(f\"Given year {year} is not leap\")"
   ]
  },
  {
   "cell_type": "code",
   "execution_count": 44,
   "metadata": {},
   "outputs": [
    {
     "name": "stdout",
     "output_type": "stream",
     "text": [
      "Given year 2002 is not leap\n"
     ]
    }
   ],
   "source": [
    "check_leap(2002)"
   ]
  },
  {
   "cell_type": "code",
   "execution_count": 45,
   "metadata": {},
   "outputs": [
    {
     "name": "stdout",
     "output_type": "stream",
     "text": [
      "\n",
      "    This function used to return the year is leap or not\n",
      "            Parameters:\n",
      "                a (int): A decimal integer\n",
      "            Returns:\n",
      "                year (str): leap or not\n",
      "    \n"
     ]
    }
   ],
   "source": [
    "print(check_leap.__doc__)"
   ]
  },
  {
   "cell_type": "code",
   "execution_count": 46,
   "metadata": {},
   "outputs": [],
   "source": [
    "def dms_to_dd(d,m,s):\n",
    "    '''\n",
    "    This function used to return decimal degree based on degree, minutes, seconds\n",
    "        Parameters:\n",
    "            a (int): A decimal integer\n",
    "            b (int/float): A decimal /integer\n",
    "            c (int/float): A decimal /integer\n",
    "        Returns:\n",
    "            dd (float): decimal degree\n",
    "    '''\n",
    "    dd=d + (m / 60) + (s / 3600)\n",
    "    return dd"
   ]
  },
  {
   "cell_type": "code",
   "execution_count": 47,
   "metadata": {},
   "outputs": [
    {
     "data": {
      "text/plain": [
       "12.436666666666667"
      ]
     },
     "execution_count": 47,
     "metadata": {},
     "output_type": "execute_result"
    }
   ],
   "source": [
    "dms_to_dd(12, 26, 12)"
   ]
  },
  {
   "cell_type": "code",
   "execution_count": 48,
   "metadata": {},
   "outputs": [],
   "source": [
    "def dms_to_dd(d,m,s,z):\n",
    "    '''\n",
    "    This function used to return decimal degree based on degree, minutes, seconds\n",
    "    Parameters:\n",
    "        a (int): A decimal integer\n",
    "        b (int/float): A decimal /integer\n",
    "        c (int/float): A decimal /integer\n",
    "        z (str): Hemisphere\n",
    "    Returns:\n",
    "        dd (float): decimal degree\n",
    "    '''\n",
    "    if (d<180 and m<60 and m<60 and z==\"E\"):\n",
    "        dd=d + (m / 60) + (s / 3600)\n",
    "        return dd\n",
    "    elif (d<180 and m<60 and m<60 and z==\"W\"):\n",
    "        dd=-(d + (m / 60) + (s / 3600))\n",
    "        return dd\n",
    "    elif (d<180 and m<60 and m<60 and z==\"N\"):\n",
    "        dd=d + (m / 60) + (s / 3600)\n",
    "        return dd\n",
    "    elif (d<180 and m<60 and m<60 and z==\"S\"):\n",
    "        dd=-(d + (m / 60) + (s / 3600))\n",
    "        return dd\n",
    "    else:\n",
    "        print(\"arguments are out of range\") "
   ]
  },
  {
   "cell_type": "code",
   "execution_count": 52,
   "metadata": {},
   "outputs": [
    {
     "data": {
      "text/plain": [
       "-12.251666666666667"
      ]
     },
     "execution_count": 52,
     "metadata": {},
     "output_type": "execute_result"
    }
   ],
   "source": [
    "dms_to_dd(12, 15, 6, 'S')"
   ]
  },
  {
   "cell_type": "code",
   "execution_count": 4,
   "metadata": {},
   "outputs": [
    {
     "name": "stdout",
     "output_type": "stream",
     "text": [
      "[2, 4, 6, 8, 10, 12, 14, 16, 18, 20]\n"
     ]
    }
   ],
   "source": [
    "m = []\n",
    "for number in range(1,21):\n",
    "    if number%2==0:\n",
    "        m.append(number)\n",
    "print(m)"
   ]
  },
  {
   "cell_type": "markdown",
   "metadata": {},
   "source": [
    "### Nested Function"
   ]
  },
  {
   "cell_type": "code",
   "execution_count": 1,
   "metadata": {},
   "outputs": [],
   "source": [
    "def num1(x):\n",
    "    def num2(y):\n",
    "        return x + y\n",
    "    return num2"
   ]
  },
  {
   "cell_type": "code",
   "execution_count": 3,
   "metadata": {},
   "outputs": [
    {
     "data": {
      "text/plain": [
       "40"
      ]
     },
     "execution_count": 3,
     "metadata": {},
     "output_type": "execute_result"
    }
   ],
   "source": [
    "num1(15)(25)"
   ]
  },
  {
   "cell_type": "code",
   "execution_count": 4,
   "metadata": {},
   "outputs": [],
   "source": [
    "def calculate():\n",
    "    def sums(a,b):\n",
    "        add = a + b\n",
    "        return add\n",
    "    return sums"
   ]
  },
  {
   "cell_type": "code",
   "execution_count": 5,
   "metadata": {},
   "outputs": [
    {
     "data": {
      "text/plain": [
       "29"
      ]
     },
     "execution_count": 5,
     "metadata": {},
     "output_type": "execute_result"
    }
   ],
   "source": [
    "calculate()(4,25)"
   ]
  },
  {
   "cell_type": "code",
   "execution_count": 6,
   "metadata": {},
   "outputs": [],
   "source": [
    "a = 6\n",
    "def calculate():\n",
    "    a = 3\n",
    "    def sums(b):\n",
    "        nonlocal a\n",
    "        add = a + b\n",
    "        return add\n",
    "    return sums"
   ]
  },
  {
   "cell_type": "code",
   "execution_count": 7,
   "metadata": {},
   "outputs": [
    {
     "data": {
      "text/plain": [
       "22"
      ]
     },
     "execution_count": 7,
     "metadata": {},
     "output_type": "execute_result"
    }
   ],
   "source": [
    "calculate()(19)"
   ]
  },
  {
   "cell_type": "code",
   "execution_count": 10,
   "metadata": {},
   "outputs": [],
   "source": [
    "def calculate():\n",
    "    a = 65\n",
    "    b = 4 \n",
    "    def sums():\n",
    "        nonlocal a\n",
    "        nonlocal b\n",
    "        add = a + b\n",
    "        return add\n",
    "    return sums"
   ]
  },
  {
   "cell_type": "code",
   "execution_count": 11,
   "metadata": {},
   "outputs": [
    {
     "data": {
      "text/plain": [
       "69"
      ]
     },
     "execution_count": 11,
     "metadata": {},
     "output_type": "execute_result"
    }
   ],
   "source": [
    "calculate()()"
   ]
  },
  {
   "cell_type": "code",
   "execution_count": 12,
   "metadata": {},
   "outputs": [],
   "source": [
    "#Lambda\n",
    "\n",
    "add = lambda a,b : a + b"
   ]
  },
  {
   "cell_type": "code",
   "execution_count": 13,
   "metadata": {},
   "outputs": [
    {
     "data": {
      "text/plain": [
       "9"
      ]
     },
     "execution_count": 13,
     "metadata": {},
     "output_type": "execute_result"
    }
   ],
   "source": [
    "add(4,5)"
   ]
  },
  {
   "cell_type": "code",
   "execution_count": 14,
   "metadata": {},
   "outputs": [
    {
     "data": {
      "text/plain": [
       "function"
      ]
     },
     "execution_count": 14,
     "metadata": {},
     "output_type": "execute_result"
    }
   ],
   "source": [
    "type(add)"
   ]
  },
  {
   "cell_type": "code",
   "execution_count": 15,
   "metadata": {},
   "outputs": [],
   "source": [
    "#Map # alternative to list traversing and doing operation\n",
    "\n",
    "value = [1,2,3,4,5,6,7]\n",
    "powered = list(map(lambda x : x * 2, value))"
   ]
  },
  {
   "cell_type": "code",
   "execution_count": 16,
   "metadata": {},
   "outputs": [
    {
     "data": {
      "text/plain": [
       "[2, 4, 6, 8, 10, 12, 14]"
      ]
     },
     "execution_count": 16,
     "metadata": {},
     "output_type": "execute_result"
    }
   ],
   "source": [
    "powered"
   ]
  },
  {
   "cell_type": "code",
   "execution_count": 17,
   "metadata": {},
   "outputs": [
    {
     "data": {
      "text/plain": [
       "list"
      ]
     },
     "execution_count": 17,
     "metadata": {},
     "output_type": "execute_result"
    }
   ],
   "source": [
    "type(powered)"
   ]
  },
  {
   "cell_type": "code",
   "execution_count": 18,
   "metadata": {},
   "outputs": [],
   "source": [
    "#filter # alternative to condition check and append\n",
    "\n",
    "filtered = list(filter(lambda x : x % 2!=0, value))"
   ]
  },
  {
   "cell_type": "code",
   "execution_count": 19,
   "metadata": {},
   "outputs": [
    {
     "name": "stdout",
     "output_type": "stream",
     "text": [
      "[1, 3, 5, 7]\n"
     ]
    }
   ],
   "source": [
    "print(filtered)"
   ]
  },
  {
   "cell_type": "code",
   "execution_count": 23,
   "metadata": {},
   "outputs": [],
   "source": [
    "#reduce #iteration and accumulation\n",
    "newVal = [1, 2, 3, 4, 50, 6, 7]"
   ]
  },
  {
   "cell_type": "code",
   "execution_count": 24,
   "metadata": {},
   "outputs": [
    {
     "name": "stdout",
     "output_type": "stream",
     "text": [
      "73\n"
     ]
    }
   ],
   "source": [
    "from functools import reduce\n",
    "addition = reduce(lambda x, y : x + y, newVal)\n",
    "print(addition)"
   ]
  },
  {
   "cell_type": "code",
   "execution_count": 25,
   "metadata": {},
   "outputs": [
    {
     "name": "stdout",
     "output_type": "stream",
     "text": [
      "-71\n"
     ]
    }
   ],
   "source": [
    "from functools import reduce\n",
    "subtraction = reduce(lambda x, y : x - y, newVal)\n",
    "print(subtraction)"
   ]
  },
  {
   "cell_type": "code",
   "execution_count": 20,
   "metadata": {},
   "outputs": [],
   "source": [
    "c = 1000\n",
    "def manohar():\n",
    "    a=25\n",
    "    def sums():\n",
    "        global c\n",
    "        nonlocal a\n",
    "        add = a+c\n",
    "        return add\n",
    "    return sums"
   ]
  },
  {
   "cell_type": "code",
   "execution_count": 21,
   "metadata": {},
   "outputs": [
    {
     "data": {
      "text/plain": [
       "1025"
      ]
     },
     "execution_count": 21,
     "metadata": {},
     "output_type": "execute_result"
    }
   ],
   "source": [
    "manohar()()"
   ]
  },
  {
   "cell_type": "code",
   "execution_count": 24,
   "metadata": {},
   "outputs": [],
   "source": [
    "def manu():\n",
    "    a=25\n",
    "    m=45\n",
    "    def sums():\n",
    "        nonlocal a\n",
    "        nonlocal m\n",
    "        add = a+m\n",
    "        return add\n",
    "    return sums"
   ]
  },
  {
   "cell_type": "code",
   "execution_count": 25,
   "metadata": {},
   "outputs": [
    {
     "data": {
      "text/plain": [
       "70"
      ]
     },
     "execution_count": 25,
     "metadata": {},
     "output_type": "execute_result"
    }
   ],
   "source": [
    "manu()()"
   ]
  },
  {
   "cell_type": "code",
   "execution_count": 9,
   "metadata": {},
   "outputs": [
    {
     "name": "stdout",
     "output_type": "stream",
     "text": [
      "Enter the number: 6\n",
      "1\n",
      "2\n",
      "6\n",
      "24\n",
      "120\n",
      "720\n"
     ]
    }
   ],
   "source": [
    "fact = 10\n",
    "fact = int(input(\"Enter the number: \"))\n",
    "list1 = list(range(1,fact+1))\n",
    "product = 1\n",
    "i = 0\n",
    "while i< len(list1):\n",
    "    product = product*list1[i]\n",
    "    i = i+1\n",
    "    print(product)"
   ]
  },
  {
   "cell_type": "markdown",
   "metadata": {},
   "source": [
    "### * args and  **kwargs in functions"
   ]
  },
  {
   "cell_type": "code",
   "execution_count": 10,
   "metadata": {},
   "outputs": [],
   "source": [
    "def sum(a,b,*args):  #zipping of arguments\n",
    "    add = a + b\n",
    "    print(f\"addition of two argument is {add}\")\n",
    "    print(f\"extra argument is {args}\")"
   ]
  },
  {
   "cell_type": "code",
   "execution_count": 12,
   "metadata": {},
   "outputs": [
    {
     "name": "stdout",
     "output_type": "stream",
     "text": [
      "addition of two argument is 5\n",
      "extra argument is ()\n"
     ]
    }
   ],
   "source": [
    "sum(2,3)"
   ]
  },
  {
   "cell_type": "code",
   "execution_count": 13,
   "metadata": {},
   "outputs": [],
   "source": [
    "def sum(a,b,*args):  #zipping of arguments\n",
    "    add = a + b\n",
    "    print(f\"addition of two argument is {add}\")\n",
    "    print(f\"extra argument is {args}\")"
   ]
  },
  {
   "cell_type": "code",
   "execution_count": 14,
   "metadata": {},
   "outputs": [
    {
     "name": "stdout",
     "output_type": "stream",
     "text": [
      "addition of two argument is 3\n",
      "extra argument is (8,)\n"
     ]
    }
   ],
   "source": [
    "sum(1,2,8)"
   ]
  },
  {
   "cell_type": "code",
   "execution_count": 1,
   "metadata": {},
   "outputs": [],
   "source": [
    "def sum(a,b):  #zipping of arguments\n",
    "    add = a + b\n",
    "    print(f\"addition of two argument is {add}\")"
   ]
  },
  {
   "cell_type": "code",
   "execution_count": 17,
   "metadata": {},
   "outputs": [],
   "source": [
    "# positional argument\n",
    "def sum(a= 5, b=4,**kwargs):  #zipping of arguments\n",
    "    add = a * b\n",
    "    print(f\"addition of two argument is {add}\")\n",
    "    print(f\"extra argument is {args}\")"
   ]
  },
  {
   "cell_type": "code",
   "execution_count": null,
   "metadata": {},
   "outputs": [],
   "source": [
    "#normal variable is also called as variable argument."
   ]
  }
 ],
 "metadata": {
  "kernelspec": {
   "display_name": "Python 3",
   "language": "python",
   "name": "python3"
  },
  "language_info": {
   "codemirror_mode": {
    "name": "ipython",
    "version": 3
   },
   "file_extension": ".py",
   "mimetype": "text/x-python",
   "name": "python",
   "nbconvert_exporter": "python",
   "pygments_lexer": "ipython3",
   "version": "3.7.6"
  }
 },
 "nbformat": 4,
 "nbformat_minor": 4
}
