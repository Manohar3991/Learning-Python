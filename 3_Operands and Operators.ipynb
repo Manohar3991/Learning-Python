{
 "cells": [
  {
   "cell_type": "markdown",
   "metadata": {},
   "source": [
    "# Operands and Oprators"
   ]
  },
  {
   "cell_type": "markdown",
   "metadata": {},
   "source": [
    "An operand can be a constant, a variable or a function result. Operators are arithmetic, logical, and relational. As with C, some operators vary in functionality according to the data type of the operands specified in the expression."
   ]
  },
  {
   "cell_type": "markdown",
   "metadata": {},
   "source": [
    "### 1. Arithmetic Operators\n",
    "Arithmetic operators are used with numeric values to perform common mathematical operations:"
   ]
  },
  {
   "cell_type": "code",
   "execution_count": 3,
   "metadata": {},
   "outputs": [
    {
     "name": "stdout",
     "output_type": "stream",
     "text": [
      "The SUM is 350\n"
     ]
    }
   ],
   "source": [
    "# 1.Addition operator\n",
    "m = 150\n",
    "n = 200\n",
    "add = m + n  # variable 'add' is used to add the given inputs.\n",
    "print(\"The SUM is\", add)"
   ]
  },
  {
   "cell_type": "code",
   "execution_count": 5,
   "metadata": {},
   "outputs": [
    {
     "name": "stdout",
     "output_type": "stream",
     "text": [
      "The substraction output is 15673\n"
     ]
    }
   ],
   "source": [
    "# 2.Substraction Operator\n",
    "p = 28925\n",
    "q = 13252\n",
    "substract = p - q   # variable 'substract' is used to substract the given input\n",
    "print(\"The substraction output is\", substract)"
   ]
  },
  {
   "cell_type": "code",
   "execution_count": 6,
   "metadata": {},
   "outputs": [
    {
     "name": "stdout",
     "output_type": "stream",
     "text": [
      "The output is 8750\n"
     ]
    }
   ],
   "source": [
    "# 3.Multiplication Operator\n",
    "x = 350\n",
    "y = 25\n",
    "multi = x * y   # here variable 'multi' is used to multiply the given input values.\n",
    "print(\"The output is\", multi)"
   ]
  },
  {
   "cell_type": "code",
   "execution_count": 10,
   "metadata": {},
   "outputs": [
    {
     "name": "stdout",
     "output_type": "stream",
     "text": [
      "The output is 1000.0\n"
     ]
    }
   ],
   "source": [
    "# 4.Division Operator\n",
    "a = 2000\n",
    "b = 2\n",
    "divid = a / b  # here variable 'divid' is used to divid the given input values\n",
    "print(\"The output is\", divid)"
   ]
  },
  {
   "cell_type": "code",
   "execution_count": 11,
   "metadata": {},
   "outputs": [
    {
     "name": "stdout",
     "output_type": "stream",
     "text": [
      "The output is 5\n"
     ]
    }
   ],
   "source": [
    "# 5.Modulus Operator\n",
    "x = 5\n",
    "y = 10\n",
    "modulus = x % y   # here variable 'modulus' is used to modulus the given input values.\n",
    "print(\"The output is\", modulus)"
   ]
  },
  {
   "cell_type": "code",
   "execution_count": 12,
   "metadata": {},
   "outputs": [
    {
     "name": "stdout",
     "output_type": "stream",
     "text": [
      "The output is 32768\n"
     ]
    }
   ],
   "source": [
    "# 6.Exponentiation Operator\n",
    "y = 8\n",
    "z = 5\n",
    "expon = y ** z   # here variable 'expon' is used to Exponentiation of 'y' to the power of 'z'.\n",
    "print(\"The output is\", expon)"
   ]
  },
  {
   "cell_type": "code",
   "execution_count": 15,
   "metadata": {},
   "outputs": [
    {
     "name": "stdout",
     "output_type": "stream",
     "text": [
      "The output is 2\n"
     ]
    }
   ],
   "source": [
    "# 7.Floor division operator\n",
    "m = 200\n",
    "n = 100\n",
    "floor_division = m // n  # here variable 'floor_division' is used to know the foor division value of the given input vales.\n",
    "print(\"The output is\", floor_division)"
   ]
  },
  {
   "cell_type": "markdown",
   "metadata": {},
   "source": [
    "### 2. Assignment Operators\n",
    "Assignment operators are used to assign values to variables:"
   ]
  },
  {
   "cell_type": "code",
   "execution_count": 16,
   "metadata": {},
   "outputs": [
    {
     "name": "stdout",
     "output_type": "stream",
     "text": [
      "25\n"
     ]
    }
   ],
   "source": [
    "# 1.Equal to (=)\n",
    "x = 25                   # here value '25' is assigned to the variavle 'x'\n",
    "print(x)"
   ]
  },
  {
   "cell_type": "code",
   "execution_count": 3,
   "metadata": {},
   "outputs": [
    {
     "name": "stdout",
     "output_type": "stream",
     "text": [
      "50\n"
     ]
    }
   ],
   "source": [
    "# 2.add AND (+=)\n",
    "a = 25\n",
    "a += 25                  # add right side operand and left side operand and then assign to the left side operand\n",
    "print(a)\n"
   ]
  },
  {
   "cell_type": "code",
   "execution_count": 4,
   "metadata": {},
   "outputs": [
    {
     "name": "stdout",
     "output_type": "stream",
     "text": [
      "-25\n"
     ]
    }
   ],
   "source": [
    "# 3. Substract AND (-=)\n",
    "b = 25 \n",
    "b -= 50                 # substract right operand from left operand and then assign to the left operand.            \n",
    "print(b) "
   ]
  },
  {
   "cell_type": "code",
   "execution_count": 1,
   "metadata": {},
   "outputs": [
    {
     "name": "stdout",
     "output_type": "stream",
     "text": [
      "90\n"
     ]
    }
   ],
   "source": [
    "# 4.Multiply AND (*=)\n",
    "m = 15\n",
    "m *= 6                # Multiply rigth operand with left operand and then assign to left operand.\n",
    "print(m)"
   ]
  },
  {
   "cell_type": "code",
   "execution_count": 10,
   "metadata": {},
   "outputs": [
    {
     "name": "stdout",
     "output_type": "stream",
     "text": [
      "26.666666666666668\n"
     ]
    }
   ],
   "source": [
    "# 5.Divide AND (/=)\n",
    "p = 80\n",
    "p /= 3               # Divide left operand from right operand then assign.\n",
    "print(p)"
   ]
  },
  {
   "cell_type": "code",
   "execution_count": 11,
   "metadata": {},
   "outputs": [
    {
     "name": "stdout",
     "output_type": "stream",
     "text": [
      "66\n"
     ]
    }
   ],
   "source": [
    "# 6.Modulus AND (%=)\n",
    "a = 66\n",
    "a %= 150           # Takes modulus using left operand and assign the values\n",
    "print(a)"
   ]
  },
  {
   "cell_type": "code",
   "execution_count": 1,
   "metadata": {},
   "outputs": [
    {
     "name": "stdout",
     "output_type": "stream",
     "text": [
      "100\n"
     ]
    }
   ],
   "source": [
    "# 7.Divide(Floor division) AND (//=)\n",
    "a = 2000\n",
    "a //= 20         # Divide the left operand from the right operand and assign  the floor value to the left operand.\n",
    "print(a)"
   ]
  },
  {
   "cell_type": "code",
   "execution_count": 2,
   "metadata": {},
   "outputs": [
    {
     "name": "stdout",
     "output_type": "stream",
     "text": [
      "421875\n"
     ]
    }
   ],
   "source": [
    "# 8.Exponent AND (**=)\n",
    "m = 75\n",
    "m **= 3        #  Calculate exponent(power) value using operands and assign value to left operand\n",
    "print(m)"
   ]
  },
  {
   "cell_type": "code",
   "execution_count": 3,
   "metadata": {},
   "outputs": [
    {
     "name": "stdout",
     "output_type": "stream",
     "text": [
      "54\n"
     ]
    }
   ],
   "source": [
    "# 9.Bitwise OR (|=)\n",
    "n = 50\n",
    "n |= 20      # Perfoms Bitwise right shift on operands and assign value to left operand.\n",
    "print(n)"
   ]
  },
  {
   "cell_type": "code",
   "execution_count": 7,
   "metadata": {},
   "outputs": [
    {
     "name": "stdout",
     "output_type": "stream",
     "text": [
      "1\n"
     ]
    }
   ],
   "source": [
    "# 10.Bitwise AND (&=)\n",
    "a = 65\n",
    "a &= 5     # Operands and assign value to the left operand.\n",
    "print(a)"
   ]
  },
  {
   "cell_type": "code",
   "execution_count": 8,
   "metadata": {},
   "outputs": [
    {
     "name": "stdout",
     "output_type": "stream",
     "text": [
      "0\n"
     ]
    }
   ],
   "source": [
    "# 11.Bitwise Right Shift (>>=)\n",
    "m = 70\n",
    "m >>= 20   # Performs Bitwise right shift on operands and assign value to left operand\n",
    "print(m)"
   ]
  },
  {
   "cell_type": "code",
   "execution_count": 9,
   "metadata": {},
   "outputs": [
    {
     "name": "stdout",
     "output_type": "stream",
     "text": [
      "256000\n"
     ]
    }
   ],
   "source": [
    "# 12.Bitwise left shift (<<=)\n",
    "a = 250\n",
    "a <<= 10   # Performs Bitwise left shift on operands and assign value to left operand\n",
    "print(a)"
   ]
  },
  {
   "cell_type": "markdown",
   "metadata": {},
   "source": [
    "## 3.Comparison Operators\n",
    "These operators compare the values on either sides of them and decide the relation among them. They are also called Relational operators.\n",
    "\n"
   ]
  },
  {
   "cell_type": "code",
   "execution_count": 10,
   "metadata": {},
   "outputs": [
    {
     "name": "stdout",
     "output_type": "stream",
     "text": [
      "True\n"
     ]
    }
   ],
   "source": [
    "# 1.equal to (==)\n",
    "a = 150000\n",
    "b = 150000       # If both values are equal, then the output will be 'True'\n",
    "print(a == b)"
   ]
  },
  {
   "cell_type": "code",
   "execution_count": 13,
   "metadata": {},
   "outputs": [
    {
     "name": "stdout",
     "output_type": "stream",
     "text": [
      "False\n"
     ]
    }
   ],
   "source": [
    "a = 150000\n",
    "b = 150001       # If both values are not equal, then the output will be 'False'\n",
    "print(a == b)"
   ]
  },
  {
   "cell_type": "code",
   "execution_count": 12,
   "metadata": {},
   "outputs": [
    {
     "name": "stdout",
     "output_type": "stream",
     "text": [
      "True\n"
     ]
    }
   ],
   "source": [
    "# 2.Not equal to (!=)\n",
    "a = 2525\n",
    "b = 2552       # Even both values are different, if we use '!=', the output will be 'True'\n",
    "print(a != b)"
   ]
  },
  {
   "cell_type": "code",
   "execution_count": 15,
   "metadata": {},
   "outputs": [
    {
     "name": "stdout",
     "output_type": "stream",
     "text": [
      "True\n"
     ]
    }
   ],
   "source": [
    "# 3.Greater than (>)\n",
    "x = 100\n",
    "y = 50       # If the 'x' value is greater then 'y' value, then the output will be 'True'\n",
    "print(x>y)"
   ]
  },
  {
   "cell_type": "code",
   "execution_count": 16,
   "metadata": {},
   "outputs": [
    {
     "name": "stdout",
     "output_type": "stream",
     "text": [
      "True\n"
     ]
    }
   ],
   "source": [
    "# 4.Less than (<)\n",
    "x = 10\n",
    "y = 50       # If the 'x' value is less then 'y' value, then the output will be 'True'\n",
    "print(x<y)"
   ]
  },
  {
   "cell_type": "code",
   "execution_count": 18,
   "metadata": {},
   "outputs": [
    {
     "name": "stdout",
     "output_type": "stream",
     "text": [
      "True\n"
     ]
    }
   ],
   "source": [
    "# 5.Greater than or equal to (>=)\n",
    "a = 7\n",
    "b = 6      # If the 'a' value is greater than or equal to 'b' value, then the output will be 'True'.\n",
    "print(a >= b)"
   ]
  },
  {
   "cell_type": "code",
   "execution_count": 19,
   "metadata": {},
   "outputs": [
    {
     "name": "stdout",
     "output_type": "stream",
     "text": [
      "True\n"
     ]
    }
   ],
   "source": [
    "# 6.Less than or equal to (<=)\n",
    "x = 12\n",
    "y = 15     # If the 'x' value is less than or equal to 'y' value, then the output will be 'True'.\n",
    "print(x <= y)"
   ]
  },
  {
   "cell_type": "markdown",
   "metadata": {},
   "source": [
    "##  4.Logical Operators\n",
    "Logical operators are used to determine the logic between variables or values."
   ]
  },
  {
   "cell_type": "code",
   "execution_count": 20,
   "metadata": {},
   "outputs": [
    {
     "name": "stdout",
     "output_type": "stream",
     "text": [
      "True\n"
     ]
    }
   ],
   "source": [
    "# 1.Logical -  'and' (&)\n",
    "a = 25\n",
    "print(a > 20 & a < 30)   # The output will be 'True', If both statements are true."
   ]
  },
  {
   "cell_type": "code",
   "execution_count": 25,
   "metadata": {},
   "outputs": [
    {
     "name": "stdout",
     "output_type": "stream",
     "text": [
      "True\n"
     ]
    }
   ],
   "source": [
    "# 2.Logical - 'or'\n",
    "b = 5\n",
    "print(b > 3 or b <2)    # The output will be 'True', if any one statement is satisfied."
   ]
  },
  {
   "cell_type": "code",
   "execution_count": 27,
   "metadata": {},
   "outputs": [
    {
     "name": "stdout",
     "output_type": "stream",
     "text": [
      "False\n"
     ]
    }
   ],
   "source": [
    "# 3.Logical - 'not'\n",
    "x = 25\n",
    "print(not(x > 15 and x < 30))   # When we use 'not' function, even the statement is right, but it will print \"False\"."
   ]
  },
  {
   "cell_type": "markdown",
   "metadata": {},
   "source": [
    "## 5.Membership operators"
   ]
  },
  {
   "cell_type": "code",
   "execution_count": 29,
   "metadata": {},
   "outputs": [
    {
     "name": "stdout",
     "output_type": "stream",
     "text": [
      "True\n"
     ]
    }
   ],
   "source": [
    "# 1. 'in' function\n",
    "a = (\"Manohar\", \"Arun\", \"Rahul\")\n",
    "print(\"Manohar\" in a)           # if the disired value is there, then it will print 'True' or else 'False' "
   ]
  },
  {
   "cell_type": "code",
   "execution_count": 36,
   "metadata": {},
   "outputs": [
    {
     "name": "stdout",
     "output_type": "stream",
     "text": [
      "False\n"
     ]
    }
   ],
   "source": [
    "# 'not in' function\n",
    "b = (2, 5, 6, 7)\n",
    "print(7 not in b)       # even if it is there, when we use 'not in' function, the output will be 'False'"
   ]
  }
 ],
 "metadata": {
  "kernelspec": {
   "display_name": "Python 3",
   "language": "python",
   "name": "python3"
  },
  "language_info": {
   "codemirror_mode": {
    "name": "ipython",
    "version": 3
   },
   "file_extension": ".py",
   "mimetype": "text/x-python",
   "name": "python",
   "nbconvert_exporter": "python",
   "pygments_lexer": "ipython3",
   "version": "3.7.6"
  }
 },
 "nbformat": 4,
 "nbformat_minor": 4
}
