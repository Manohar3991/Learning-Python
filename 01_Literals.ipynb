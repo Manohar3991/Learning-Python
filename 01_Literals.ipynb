{
 "cells": [
  {
   "cell_type": "markdown",
   "metadata": {},
   "source": [
    "# litearals"
   ]
  },
  {
   "cell_type": "markdown",
   "metadata": {},
   "source": [
    "Literals are the constant values or the variable values used in a Python code. There are mainly five types of literals used in PYTHON:\n",
    "\n",
    "- __String Literals :__ A string literal can be created by writing a text(a group of Characters ) surrounded by a single(”),   double(“”), or triple quotes.  By using triple quotes we can write multi-line strings or display them in the desired way. \n",
    "\n",
    "\n",
    "\n",
    "- __Numeric Literals :__ They are immutable and there are three types of numeric literal: \n",
    "\n",
    "     - Integer \n",
    "     - Float python\n",
    "     - Complex.\n",
    "                                    \n",
    "                                    \n",
    "- Boolean Literals\n",
    "     - True\n",
    "     - False\n",
    "     \n",
    "     \n",
    "- Special Literals\n",
    "    - None\n",
    "- Collection Literals\n",
    "   - List literals\n",
    "   - Tuple literals\n",
    "   - Dict literals\n",
    "   - Set literals"
   ]
  },
  {
   "cell_type": "code",
   "execution_count": 1,
   "metadata": {},
   "outputs": [
    {
     "name": "stdout",
     "output_type": "stream",
     "text": [
      "Manohar\n",
      "Nanjangud\n",
      "Hi\n",
      "           i am\n",
      "               fine\n"
     ]
    }
   ],
   "source": [
    "# string literals\n",
    " \n",
    "# in single quote\n",
    "m = 'Manohar'\n",
    " \n",
    "# in double quotes\n",
    "p = \"Nanjangud\"\n",
    " \n",
    "# multi-line String\n",
    "m1 = '''Hi\n",
    "           i am\n",
    "               fine'''\n",
    " \n",
    "print(m)\n",
    "print(p)\n",
    "print(m1)"
   ]
  },
  {
   "cell_type": "code",
   "execution_count": 3,
   "metadata": {},
   "outputs": [
    {
     "name": "stdout",
     "output_type": "stream",
     "text": [
      "20 50 208 300\n"
     ]
    }
   ],
   "source": [
    "# integer literal : Both positive and negative numbers including 0. There should not be any fractional part.\n",
    "\n",
    "# Binary Literals\n",
    "a = 0b10100\n",
    "\n",
    "# Decimal Literal\n",
    "b = 50\n",
    "\n",
    "# Octal Literal\n",
    "c = 0o320\n",
    "\n",
    "# Hexadecimal Literal\n",
    "d = 0x12c\n",
    "\n",
    "print(a, b, c, d)\n"
   ]
  },
  {
   "cell_type": "code",
   "execution_count": 4,
   "metadata": {},
   "outputs": [
    {
     "name": "stdout",
     "output_type": "stream",
     "text": [
      "24.8 45.0\n"
     ]
    }
   ],
   "source": [
    "# Float Literal  : These are real numbers having both integer and fractional parts.\n",
    "e = 24.8\n",
    "f = 45.0\n",
    "\n",
    "print(e, f)\n"
   ]
  },
  {
   "cell_type": "code",
   "execution_count": 5,
   "metadata": {},
   "outputs": [
    {
     "name": "stdout",
     "output_type": "stream",
     "text": [
      "(7+5j) 7j\n"
     ]
    }
   ],
   "source": [
    "# Complex : The numerals will be in the form of a + bj, where ‘a‘ is the real part and ‘b‘ is the complex part.\n",
    "\n",
    "z = 7 + 5j\n",
    "\n",
    "# real part is 0 here.\n",
    "k = 7j\n",
    "\n",
    "print(z, k)\n"
   ]
  },
  {
   "cell_type": "code",
   "execution_count": 8,
   "metadata": {},
   "outputs": [
    {
     "name": "stdout",
     "output_type": "stream",
     "text": [
      "True\n"
     ]
    }
   ],
   "source": [
    "# Boolean literal : There are only two Boolean literals in Python. They are true and false. \n",
    "#In Python, True represents the value as 1 and False represents the value as 0. \n",
    "\n",
    "a = 1 < 5   # here 1 is greater than 5 so, the output will be 'True'\n",
    "print(a)"
   ]
  },
  {
   "cell_type": "code",
   "execution_count": 11,
   "metadata": {},
   "outputs": [
    {
     "name": "stdout",
     "output_type": "stream",
     "text": [
      "False\n"
     ]
    }
   ],
   "source": [
    "b = 5 < 1   # here 5 is not lesser than 1 it is wrong so, the output will be 'False'\n",
    "print(b)"
   ]
  },
  {
   "cell_type": "code",
   "execution_count": 14,
   "metadata": {},
   "outputs": [
    {
     "name": "stdout",
     "output_type": "stream",
     "text": [
      "None\n"
     ]
    }
   ],
   "source": [
    "# Special literals\n",
    "# Python contains one special literal (None). ‘None’ is used to define a null variable. \n",
    "#If ‘None’ is compared with anything else other than a ‘None ’, it will return false.\n",
    "\n",
    "z = None     \n",
    "print(z)"
   ]
  },
  {
   "cell_type": "code",
   "execution_count": 16,
   "metadata": {},
   "outputs": [
    {
     "name": "stdout",
     "output_type": "stream",
     "text": [
      "[1, 2, 3, 4, 5]\n",
      "['Manohar', 'Manjunath', 'Pranav']\n"
     ]
    }
   ],
   "source": [
    "# List literals\n",
    "number = [1, 2, 3, 4, 5]\n",
    "name = ['Manohar', 'Manjunath', 'Pranav']\n",
    "print(number)\n",
    "print(name)"
   ]
  },
  {
   "cell_type": "code",
   "execution_count": 22,
   "metadata": {},
   "outputs": [
    {
     "name": "stdout",
     "output_type": "stream",
     "text": [
      "(2, 4, 6, 8)\n",
      "(1, 3, 5, 7)\n"
     ]
    }
   ],
   "source": [
    "# Tuple literals    # its a fixed data in which we cant edit ince the data is generated. its a immutable data.\n",
    "even_number = (2, 4, 6, 8)\n",
    "odd_number = (1, 3, 5, 7)\n",
    "\n",
    "print(even_number)\n",
    "print(odd_number)"
   ]
  },
  {
   "cell_type": "code",
   "execution_count": 24,
   "metadata": {},
   "outputs": [
    {
     "name": "stdout",
     "output_type": "stream",
     "text": [
      "{'a': 'apple', 'b': 'bat', 'c': 'cat'}\n",
      "{'name': 'Manohar', 'age': 22, 'Mobile Number': 8296682481}\n"
     ]
    }
   ],
   "source": [
    "# Dict literals\n",
    "list1 = {'a': 'apple', 'b': 'bat', 'c': 'cat'}\n",
    "information = {'name': 'Manohar', 'age': 22, 'Mobile Number': 8296682481}\n",
    "\n",
    "print(list1)\n",
    "print(information)\n"
   ]
  },
  {
   "cell_type": "code",
   "execution_count": 25,
   "metadata": {},
   "outputs": [
    {
     "name": "stdout",
     "output_type": "stream",
     "text": [
      "{'u', 'e', 'a', 'i', 'o'}\n",
      "{'apple', 'cherry', 'banana'}\n"
     ]
    }
   ],
   "source": [
    "# Set literals   # its a simlpy dumping data or un-organised data it is mutable\n",
    "vowels = {'a', 'e', 'i', 'o', 'u'}\n",
    "fruits = {\"apple\", \"banana\", \"cherry\"}\n",
    "\n",
    "print(vowels)\n",
    "print(fruits)\n"
   ]
  }
 ],
 "metadata": {
  "kernelspec": {
   "display_name": "Python 3",
   "language": "python",
   "name": "python3"
  },
  "language_info": {
   "codemirror_mode": {
    "name": "ipython",
    "version": 3
   },
   "file_extension": ".py",
   "mimetype": "text/x-python",
   "name": "python",
   "nbconvert_exporter": "python",
   "pygments_lexer": "ipython3",
   "version": "3.7.6"
  }
 },
 "nbformat": 4,
 "nbformat_minor": 4
}
