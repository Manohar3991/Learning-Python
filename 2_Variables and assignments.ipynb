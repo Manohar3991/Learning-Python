{
 "cells": [
  {
   "cell_type": "markdown",
   "metadata": {},
   "source": [
    "# Variables and assignments"
   ]
  },
  {
   "cell_type": "markdown",
   "metadata": {},
   "source": [
    "__A variable is a string of characters and numbers associated with a piece of information. The assignment operator, denoted by the “=” symbol, is the operator that is used to assign values to variables in Python.__"
   ]
  },
  {
   "cell_type": "markdown",
   "metadata": {},
   "source": [
    "__1. Variable Declaration :__ \n",
    "- Python has no command for declaring a variable.\n",
    "\n",
    "- A variable is created the moment you first assign a value to it."
   ]
  },
  {
   "cell_type": "code",
   "execution_count": 1,
   "metadata": {},
   "outputs": [
    {
     "name": "stdout",
     "output_type": "stream",
     "text": [
      "5\n",
      "Manohar\n"
     ]
    }
   ],
   "source": [
    "x = 5          #here 'x' is declared as a variable and '5' is a value stored as an integer\n",
    "y = \"Manohar\"  #here 'y' is declared as a variable and 'Manohar' is a value stored as a string\n",
    "print(x)\n",
    "print(y)"
   ]
  },
  {
   "cell_type": "markdown",
   "metadata": {},
   "source": [
    "__2. Variable Styles:__"
   ]
  },
  {
   "cell_type": "markdown",
   "metadata": {},
   "source": [
    "There are three variable styles,  we can use. <br>they are: Snake Case, Camel Case and  Flat Case\n",
    "- __Snake Case :__ Snake case (or snake_case) is the process of writing compound words so that the words are separated with an    underscore symbol (_) instead of a space. The first letter is usually changed to lowercase. Some examples of Snake case would be \"foo_bar\" or \"hello_world\"."
   ]
  },
  {
   "cell_type": "code",
   "execution_count": 2,
   "metadata": {},
   "outputs": [
    {
     "name": "stdout",
     "output_type": "stream",
     "text": [
      "Python\n"
     ]
    }
   ],
   "source": [
    "programing_language = \"Python\"  #Snake Case\n",
    "print(programing_language)"
   ]
  },
  {
   "cell_type": "markdown",
   "metadata": {},
   "source": [
    "- __Camel Case :__ CamelCase is a way to separate the words in a phrase by making the first letter of each word capitalized and not using spaces."
   ]
  },
  {
   "cell_type": "code",
   "execution_count": 3,
   "metadata": {},
   "outputs": [
    {
     "name": "stdout",
     "output_type": "stream",
     "text": [
      "geography\n"
     ]
    }
   ],
   "source": [
    "ourDepartment = \"geography\"  #Camel Case\n",
    "print(ourDepartment)"
   ]
  },
  {
   "cell_type": "markdown",
   "metadata": {},
   "source": [
    "- __Flat Case :__ Flat case is the contineous flow of sentence with no space."
   ]
  },
  {
   "cell_type": "code",
   "execution_count": 5,
   "metadata": {},
   "outputs": [
    {
     "name": "stdout",
     "output_type": "stream",
     "text": [
      "P01ZZ21S0850\n"
     ]
    }
   ],
   "source": [
    "myuucmsid = \"P01ZZ21S0850\"  #Flat Case\n",
    "print(myuucmsid)"
   ]
  },
  {
   "cell_type": "markdown",
   "metadata": {},
   "source": [
    "__3. Inline variable Assignment :__ Calling different variables in a single line."
   ]
  },
  {
   "cell_type": "code",
   "execution_count": 21,
   "metadata": {},
   "outputs": [
    {
     "name": "stdout",
     "output_type": "stream",
     "text": [
      "manu\n",
      "20\n",
      "5.5\n"
     ]
    }
   ],
   "source": [
    "myName, myAge, myHight = \"manu\", 20, 5.5\n",
    "print(myName)  # here value 'manu' stored inside the cariable 'myName' as a string\n",
    "print(myAge)   # here value '20' is stored inside the variable 'myAge' as a integer\n",
    "print(myHight) # here value '5.5' is stored inside the variable 'myHight' as a float"
   ]
  },
  {
   "cell_type": "markdown",
   "metadata": {},
   "source": [
    "__4. Type Checking :__ we can get the data type of a variable with the 'type() function.'"
   ]
  },
  {
   "cell_type": "code",
   "execution_count": 8,
   "metadata": {},
   "outputs": [
    {
     "name": "stdout",
     "output_type": "stream",
     "text": [
      "<class 'int'>\n",
      "<class 'str'>\n",
      "<class 'float'>\n"
     ]
    }
   ],
   "source": [
    "x = 5\n",
    "y = \"motivation\"\n",
    "z = 0.5\n",
    "print(type(x))\n",
    "print(type(y))\n",
    "print(type(z))"
   ]
  },
  {
   "cell_type": "markdown",
   "metadata": {},
   "source": [
    "__5. Type Casting :__ The conversion of one data type into the other data type is known as type casting in python or type conversion in python. Python supports a wide variety of functions or methods like: int(), float(), str(), tuple(), set(), list(), dict(), etc. for the type casting in python."
   ]
  },
  {
   "cell_type": "code",
   "execution_count": 15,
   "metadata": {},
   "outputs": [
    {
     "name": "stdout",
     "output_type": "stream",
     "text": [
      "3\n",
      "3\n",
      "3.0\n"
     ]
    }
   ],
   "source": [
    "x = str(3)    # x will be 'string'\n",
    "y = int(3)    # y will be 'integer'\n",
    "z = float(3)  # z will be 'float'\n",
    "print(x)\n",
    "print(y)\n",
    "print(z)"
   ]
  },
  {
   "cell_type": "markdown",
   "metadata": {},
   "source": [
    "__6. User Input( ) function :__ The input() function receives the user input from the keyboard and stores it into a variable name."
   ]
  },
  {
   "cell_type": "code",
   "execution_count": 13,
   "metadata": {},
   "outputs": [
    {
     "name": "stdout",
     "output_type": "stream",
     "text": [
      "Enter name of the student: Manohar\n",
      "Enter the age: 22\n",
      "The Student name is: Manohar \n",
      "The Student age is: 22\n"
     ]
    }
   ],
   "source": [
    "name = input(\"Enter name of the student: \")\n",
    "age = int(input(\"Enter the age: \"))\n",
    "print(f\"The Student name is: {name}\",f\"\\nThe Student age is: {age}\")"
   ]
  }
 ],
 "metadata": {
  "kernelspec": {
   "display_name": "Python 3",
   "language": "python",
   "name": "python3"
  },
  "language_info": {
   "codemirror_mode": {
    "name": "ipython",
    "version": 3
   },
   "file_extension": ".py",
   "mimetype": "text/x-python",
   "name": "python",
   "nbconvert_exporter": "python",
   "pygments_lexer": "ipython3",
   "version": "3.7.6"
  }
 },
 "nbformat": 4,
 "nbformat_minor": 4
}
